{
 "cells": [
  {
   "cell_type": "code",
   "execution_count": 1,
   "metadata": {},
   "outputs": [
    {
     "name": "stderr",
     "output_type": "stream",
     "text": [
      "/Users/farrelsalim/Library/Python/3.9/lib/python/site-packages/urllib3/__init__.py:34: NotOpenSSLWarning: urllib3 v2 only supports OpenSSL 1.1.1+, currently the 'ssl' module is compiled with 'LibreSSL 2.8.3'. See: https://github.com/urllib3/urllib3/issues/3020\n",
      "  warnings.warn(\n",
      "/Users/farrelsalim/Library/Python/3.9/lib/python/site-packages/tqdm/auto.py:21: TqdmWarning: IProgress not found. Please update jupyter and ipywidgets. See https://ipywidgets.readthedocs.io/en/stable/user_install.html\n",
      "  from .autonotebook import tqdm as notebook_tqdm\n"
     ]
    }
   ],
   "source": [
    "import numpy as np\n",
    "import matplotlib.pyplot as plt\n",
    "import os\n",
    "import random\n",
    "import pandas as pd\n",
    "import nltk\n",
    "import torch \n",
    "import torch.nn as nn\n",
    "from nltk.tokenize import RegexpTokenizer\n",
    "from nltk.stem import WordNetLemmatizer\n",
    "from nltk.corpus import stopwords\n",
    "from sklearn.utils import resample\n",
    "from sklearn.preprocessing import LabelEncoder\n",
    "from torch.utils.data import TensorDataset, DataLoader, RandomSampler, SequentialSampler\n",
    "from torch.optim import Adam\n",
    "from transformers import GPT2Tokenizer, GPT2ForSequenceClassification\n",
    "from utils import eval_model, train_model, augment_data_multiclass"
   ]
  },
  {
   "cell_type": "code",
   "execution_count": 2,
   "metadata": {},
   "outputs": [],
   "source": [
    "import warnings\n",
    "warnings.filterwarnings(\"ignore\")"
   ]
  },
  {
   "cell_type": "markdown",
   "metadata": {},
   "source": [
    "## Data Preprocessing"
   ]
  },
  {
   "cell_type": "code",
   "execution_count": 3,
   "metadata": {},
   "outputs": [
    {
     "data": {
      "text/html": [
       "<div>\n",
       "<style scoped>\n",
       "    .dataframe tbody tr th:only-of-type {\n",
       "        vertical-align: middle;\n",
       "    }\n",
       "\n",
       "    .dataframe tbody tr th {\n",
       "        vertical-align: top;\n",
       "    }\n",
       "\n",
       "    .dataframe thead th {\n",
       "        text-align: right;\n",
       "    }\n",
       "</style>\n",
       "<table border=\"1\" class=\"dataframe\">\n",
       "  <thead>\n",
       "    <tr style=\"text-align: right;\">\n",
       "      <th></th>\n",
       "      <th>source</th>\n",
       "      <th>citeEnd</th>\n",
       "      <th>sectionName</th>\n",
       "      <th>citeStart</th>\n",
       "      <th>string</th>\n",
       "      <th>label</th>\n",
       "      <th>label_confidence</th>\n",
       "      <th>citingPaperId</th>\n",
       "      <th>citedPaperId</th>\n",
       "      <th>isKeyCitation</th>\n",
       "      <th>id</th>\n",
       "      <th>unique_id</th>\n",
       "      <th>excerpt_index</th>\n",
       "      <th>label2</th>\n",
       "      <th>label2_confidence</th>\n",
       "    </tr>\n",
       "  </thead>\n",
       "  <tbody>\n",
       "    <tr>\n",
       "      <th>0</th>\n",
       "      <td>explicit</td>\n",
       "      <td>175.0</td>\n",
       "      <td>Introduction</td>\n",
       "      <td>168.0</td>\n",
       "      <td>However, how frataxin interacts with the Fe-S ...</td>\n",
       "      <td>background</td>\n",
       "      <td>1.0000</td>\n",
       "      <td>1872080baa7d30ec8fb87be9a65358cd3a7fb649</td>\n",
       "      <td>894be9b4ea46a5c422e81ef3c241072d4c73fdc0</td>\n",
       "      <td>True</td>\n",
       "      <td>1872080baa7d30ec8fb87be9a65358cd3a7fb649&gt;894be...</td>\n",
       "      <td>1872080baa7d30ec8fb87be9a65358cd3a7fb649&gt;894be...</td>\n",
       "      <td>11</td>\n",
       "      <td>NaN</td>\n",
       "      <td>NaN</td>\n",
       "    </tr>\n",
       "    <tr>\n",
       "      <th>1</th>\n",
       "      <td>explicit</td>\n",
       "      <td>36.0</td>\n",
       "      <td>Novel Quantitative Trait Loci for Seminal Root...</td>\n",
       "      <td>16.0</td>\n",
       "      <td>In the study by Hickey et al. (2012), spikes w...</td>\n",
       "      <td>background</td>\n",
       "      <td>1.0000</td>\n",
       "      <td>ce1d09a4a3a8d7fd3405b9328f65f00c952cf64b</td>\n",
       "      <td>b6642e19efb8db5623b3cc4eef1c5822a6151107</td>\n",
       "      <td>True</td>\n",
       "      <td>ce1d09a4a3a8d7fd3405b9328f65f00c952cf64b&gt;b6642...</td>\n",
       "      <td>ce1d09a4a3a8d7fd3405b9328f65f00c952cf64b&gt;b6642...</td>\n",
       "      <td>2</td>\n",
       "      <td>NaN</td>\n",
       "      <td>NaN</td>\n",
       "    </tr>\n",
       "    <tr>\n",
       "      <th>2</th>\n",
       "      <td>explicit</td>\n",
       "      <td>228.0</td>\n",
       "      <td>Introduction</td>\n",
       "      <td>225.0</td>\n",
       "      <td>The drug also reduces catecholamine secretion,...</td>\n",
       "      <td>background</td>\n",
       "      <td>1.0000</td>\n",
       "      <td>9cdf605beb1aa1078f235c4332b3024daa8b31dc</td>\n",
       "      <td>4e6a17fb8d7a3cada601d942e22eb5da6d01adbd</td>\n",
       "      <td>False</td>\n",
       "      <td>9cdf605beb1aa1078f235c4332b3024daa8b31dc&gt;4e6a1...</td>\n",
       "      <td>9cdf605beb1aa1078f235c4332b3024daa8b31dc&gt;4e6a1...</td>\n",
       "      <td>0</td>\n",
       "      <td>NaN</td>\n",
       "      <td>NaN</td>\n",
       "    </tr>\n",
       "    <tr>\n",
       "      <th>3</th>\n",
       "      <td>explicit</td>\n",
       "      <td>110.0</td>\n",
       "      <td>Discussion</td>\n",
       "      <td>46.0</td>\n",
       "      <td>By clustering with lowly aggressive close kin ...</td>\n",
       "      <td>background</td>\n",
       "      <td>1.0000</td>\n",
       "      <td>d9f3207db0c79a3b154f3875c9760cc6b056904b</td>\n",
       "      <td>2cc6ff899bf17666ad35893524a4d61624555ed7</td>\n",
       "      <td>False</td>\n",
       "      <td>d9f3207db0c79a3b154f3875c9760cc6b056904b&gt;2cc6f...</td>\n",
       "      <td>d9f3207db0c79a3b154f3875c9760cc6b056904b&gt;2cc6f...</td>\n",
       "      <td>3</td>\n",
       "      <td>NaN</td>\n",
       "      <td>NaN</td>\n",
       "    </tr>\n",
       "    <tr>\n",
       "      <th>4</th>\n",
       "      <td>explicit</td>\n",
       "      <td>239.0</td>\n",
       "      <td>Discussion</td>\n",
       "      <td>234.0</td>\n",
       "      <td>Ophthalmic symptoms are rare manifestations of...</td>\n",
       "      <td>background</td>\n",
       "      <td>1.0000</td>\n",
       "      <td>88b86556857f4374842d2af2e359576806239175</td>\n",
       "      <td>a5bb0ff1a026944d2a47a155462959af2b8505a8</td>\n",
       "      <td>False</td>\n",
       "      <td>88b86556857f4374842d2af2e359576806239175&gt;a5bb0...</td>\n",
       "      <td>88b86556857f4374842d2af2e359576806239175&gt;a5bb0...</td>\n",
       "      <td>2</td>\n",
       "      <td>NaN</td>\n",
       "      <td>NaN</td>\n",
       "    </tr>\n",
       "    <tr>\n",
       "      <th>...</th>\n",
       "      <td>...</td>\n",
       "      <td>...</td>\n",
       "      <td>...</td>\n",
       "      <td>...</td>\n",
       "      <td>...</td>\n",
       "      <td>...</td>\n",
       "      <td>...</td>\n",
       "      <td>...</td>\n",
       "      <td>...</td>\n",
       "      <td>...</td>\n",
       "      <td>...</td>\n",
       "      <td>...</td>\n",
       "      <td>...</td>\n",
       "      <td>...</td>\n",
       "      <td>...</td>\n",
       "    </tr>\n",
       "    <tr>\n",
       "      <th>8238</th>\n",
       "      <td>explicit</td>\n",
       "      <td>50.0</td>\n",
       "      <td></td>\n",
       "      <td>28.0</td>\n",
       "      <td>Importantly, the results of Pascalis et al. (2...</td>\n",
       "      <td>background</td>\n",
       "      <td>0.7350</td>\n",
       "      <td>6f68ccd37718366c40ae6aeedf0b935bf560b215</td>\n",
       "      <td>60ed4bdabf92b2fbd6162dbd8979888cccca55d7</td>\n",
       "      <td>True</td>\n",
       "      <td>6f68ccd37718366c40ae6aeedf0b935bf560b215&gt;60ed4...</td>\n",
       "      <td>6f68ccd37718366c40ae6aeedf0b935bf560b215&gt;60ed4...</td>\n",
       "      <td>15</td>\n",
       "      <td>NaN</td>\n",
       "      <td>NaN</td>\n",
       "    </tr>\n",
       "    <tr>\n",
       "      <th>8239</th>\n",
       "      <td>explicit</td>\n",
       "      <td>182.0</td>\n",
       "      <td>DISCUSSION</td>\n",
       "      <td>179.0</td>\n",
       "      <td>As suggested by Nguena et al, there is a need ...</td>\n",
       "      <td>background</td>\n",
       "      <td>0.7508</td>\n",
       "      <td>f2a1c1704f9587c94ed95bc98179dc499e933f5e</td>\n",
       "      <td>574e659da7f6c62c07bfaaacd1f31d65bd75524c</td>\n",
       "      <td>True</td>\n",
       "      <td>f2a1c1704f9587c94ed95bc98179dc499e933f5e&gt;574e6...</td>\n",
       "      <td>f2a1c1704f9587c94ed95bc98179dc499e933f5e&gt;574e6...</td>\n",
       "      <td>1</td>\n",
       "      <td>NaN</td>\n",
       "      <td>NaN</td>\n",
       "    </tr>\n",
       "    <tr>\n",
       "      <th>8240</th>\n",
       "      <td>explicit</td>\n",
       "      <td>120.0</td>\n",
       "      <td>DISCUSSION</td>\n",
       "      <td>108.0</td>\n",
       "      <td>Skeletal muscle is also a primary site of dise...</td>\n",
       "      <td>background</td>\n",
       "      <td>1.0000</td>\n",
       "      <td>18c97ea2ff60c110cc2a523e0fdf729608cbb083</td>\n",
       "      <td>fc13b9c3dfcc121013edaa12fa8ce7842aaed21a</td>\n",
       "      <td>False</td>\n",
       "      <td>18c97ea2ff60c110cc2a523e0fdf729608cbb083&gt;fc13b...</td>\n",
       "      <td>18c97ea2ff60c110cc2a523e0fdf729608cbb083&gt;fc13b...</td>\n",
       "      <td>8</td>\n",
       "      <td>NaN</td>\n",
       "      <td>NaN</td>\n",
       "    </tr>\n",
       "    <tr>\n",
       "      <th>8241</th>\n",
       "      <td>explicit</td>\n",
       "      <td>221.0</td>\n",
       "      <td></td>\n",
       "      <td>185.0</td>\n",
       "      <td>ACTIVATION OF TRANSCRIPTION FACTORS Roles for ...</td>\n",
       "      <td>method</td>\n",
       "      <td>NaN</td>\n",
       "      <td>4ec9b89857c0b27e8a4bd3745b7358f387773527</td>\n",
       "      <td>81affdba19e38e2b17cf7b9e93792cc2028cf21d</td>\n",
       "      <td>True</td>\n",
       "      <td>4ec9b89857c0b27e8a4bd3745b7358f387773527&gt;81aff...</td>\n",
       "      <td>4ec9b89857c0b27e8a4bd3745b7358f387773527&gt;81aff...</td>\n",
       "      <td>0</td>\n",
       "      <td>NaN</td>\n",
       "      <td>NaN</td>\n",
       "    </tr>\n",
       "    <tr>\n",
       "      <th>8242</th>\n",
       "      <td>explicit</td>\n",
       "      <td>102.0</td>\n",
       "      <td>Introduction</td>\n",
       "      <td>82.0</td>\n",
       "      <td>Most studies focused on the relation between b...</td>\n",
       "      <td>background</td>\n",
       "      <td>1.0000</td>\n",
       "      <td>42c954cad0de68657d4429b512d8fe75dceef13c</td>\n",
       "      <td>00afbfb391f7c15a73a4257b2c0fcd9767ece6a8</td>\n",
       "      <td>True</td>\n",
       "      <td>42c954cad0de68657d4429b512d8fe75dceef13c&gt;00afb...</td>\n",
       "      <td>42c954cad0de68657d4429b512d8fe75dceef13c&gt;00afb...</td>\n",
       "      <td>0</td>\n",
       "      <td>NaN</td>\n",
       "      <td>NaN</td>\n",
       "    </tr>\n",
       "  </tbody>\n",
       "</table>\n",
       "<p>8243 rows × 15 columns</p>\n",
       "</div>"
      ],
      "text/plain": [
       "        source  citeEnd                                        sectionName  \\\n",
       "0     explicit    175.0                                       Introduction   \n",
       "1     explicit     36.0  Novel Quantitative Trait Loci for Seminal Root...   \n",
       "2     explicit    228.0                                       Introduction   \n",
       "3     explicit    110.0                                         Discussion   \n",
       "4     explicit    239.0                                         Discussion   \n",
       "...        ...      ...                                                ...   \n",
       "8238  explicit     50.0                                                      \n",
       "8239  explicit    182.0                                         DISCUSSION   \n",
       "8240  explicit    120.0                                         DISCUSSION   \n",
       "8241  explicit    221.0                                                      \n",
       "8242  explicit    102.0                                       Introduction   \n",
       "\n",
       "      citeStart                                             string  \\\n",
       "0         168.0  However, how frataxin interacts with the Fe-S ...   \n",
       "1          16.0  In the study by Hickey et al. (2012), spikes w...   \n",
       "2         225.0  The drug also reduces catecholamine secretion,...   \n",
       "3          46.0  By clustering with lowly aggressive close kin ...   \n",
       "4         234.0  Ophthalmic symptoms are rare manifestations of...   \n",
       "...         ...                                                ...   \n",
       "8238       28.0  Importantly, the results of Pascalis et al. (2...   \n",
       "8239      179.0  As suggested by Nguena et al, there is a need ...   \n",
       "8240      108.0  Skeletal muscle is also a primary site of dise...   \n",
       "8241      185.0  ACTIVATION OF TRANSCRIPTION FACTORS Roles for ...   \n",
       "8242       82.0  Most studies focused on the relation between b...   \n",
       "\n",
       "           label  label_confidence                             citingPaperId  \\\n",
       "0     background            1.0000  1872080baa7d30ec8fb87be9a65358cd3a7fb649   \n",
       "1     background            1.0000  ce1d09a4a3a8d7fd3405b9328f65f00c952cf64b   \n",
       "2     background            1.0000  9cdf605beb1aa1078f235c4332b3024daa8b31dc   \n",
       "3     background            1.0000  d9f3207db0c79a3b154f3875c9760cc6b056904b   \n",
       "4     background            1.0000  88b86556857f4374842d2af2e359576806239175   \n",
       "...          ...               ...                                       ...   \n",
       "8238  background            0.7350  6f68ccd37718366c40ae6aeedf0b935bf560b215   \n",
       "8239  background            0.7508  f2a1c1704f9587c94ed95bc98179dc499e933f5e   \n",
       "8240  background            1.0000  18c97ea2ff60c110cc2a523e0fdf729608cbb083   \n",
       "8241      method               NaN  4ec9b89857c0b27e8a4bd3745b7358f387773527   \n",
       "8242  background            1.0000  42c954cad0de68657d4429b512d8fe75dceef13c   \n",
       "\n",
       "                                  citedPaperId  isKeyCitation  \\\n",
       "0     894be9b4ea46a5c422e81ef3c241072d4c73fdc0           True   \n",
       "1     b6642e19efb8db5623b3cc4eef1c5822a6151107           True   \n",
       "2     4e6a17fb8d7a3cada601d942e22eb5da6d01adbd          False   \n",
       "3     2cc6ff899bf17666ad35893524a4d61624555ed7          False   \n",
       "4     a5bb0ff1a026944d2a47a155462959af2b8505a8          False   \n",
       "...                                        ...            ...   \n",
       "8238  60ed4bdabf92b2fbd6162dbd8979888cccca55d7           True   \n",
       "8239  574e659da7f6c62c07bfaaacd1f31d65bd75524c           True   \n",
       "8240  fc13b9c3dfcc121013edaa12fa8ce7842aaed21a          False   \n",
       "8241  81affdba19e38e2b17cf7b9e93792cc2028cf21d           True   \n",
       "8242  00afbfb391f7c15a73a4257b2c0fcd9767ece6a8           True   \n",
       "\n",
       "                                                     id  \\\n",
       "0     1872080baa7d30ec8fb87be9a65358cd3a7fb649>894be...   \n",
       "1     ce1d09a4a3a8d7fd3405b9328f65f00c952cf64b>b6642...   \n",
       "2     9cdf605beb1aa1078f235c4332b3024daa8b31dc>4e6a1...   \n",
       "3     d9f3207db0c79a3b154f3875c9760cc6b056904b>2cc6f...   \n",
       "4     88b86556857f4374842d2af2e359576806239175>a5bb0...   \n",
       "...                                                 ...   \n",
       "8238  6f68ccd37718366c40ae6aeedf0b935bf560b215>60ed4...   \n",
       "8239  f2a1c1704f9587c94ed95bc98179dc499e933f5e>574e6...   \n",
       "8240  18c97ea2ff60c110cc2a523e0fdf729608cbb083>fc13b...   \n",
       "8241  4ec9b89857c0b27e8a4bd3745b7358f387773527>81aff...   \n",
       "8242  42c954cad0de68657d4429b512d8fe75dceef13c>00afb...   \n",
       "\n",
       "                                              unique_id  excerpt_index label2  \\\n",
       "0     1872080baa7d30ec8fb87be9a65358cd3a7fb649>894be...             11    NaN   \n",
       "1     ce1d09a4a3a8d7fd3405b9328f65f00c952cf64b>b6642...              2    NaN   \n",
       "2     9cdf605beb1aa1078f235c4332b3024daa8b31dc>4e6a1...              0    NaN   \n",
       "3     d9f3207db0c79a3b154f3875c9760cc6b056904b>2cc6f...              3    NaN   \n",
       "4     88b86556857f4374842d2af2e359576806239175>a5bb0...              2    NaN   \n",
       "...                                                 ...            ...    ...   \n",
       "8238  6f68ccd37718366c40ae6aeedf0b935bf560b215>60ed4...             15    NaN   \n",
       "8239  f2a1c1704f9587c94ed95bc98179dc499e933f5e>574e6...              1    NaN   \n",
       "8240  18c97ea2ff60c110cc2a523e0fdf729608cbb083>fc13b...              8    NaN   \n",
       "8241  4ec9b89857c0b27e8a4bd3745b7358f387773527>81aff...              0    NaN   \n",
       "8242  42c954cad0de68657d4429b512d8fe75dceef13c>00afb...              0    NaN   \n",
       "\n",
       "      label2_confidence  \n",
       "0                   NaN  \n",
       "1                   NaN  \n",
       "2                   NaN  \n",
       "3                   NaN  \n",
       "4                   NaN  \n",
       "...                 ...  \n",
       "8238                NaN  \n",
       "8239                NaN  \n",
       "8240                NaN  \n",
       "8241                NaN  \n",
       "8242                NaN  \n",
       "\n",
       "[8243 rows x 15 columns]"
      ]
     },
     "execution_count": 3,
     "metadata": {},
     "output_type": "execute_result"
    }
   ],
   "source": [
    "train_df = pd.read_json('../train.jsonl', lines=True)\n",
    "X_train = train_df['string']\n",
    "y_train = train_df['label']\n",
    "\n",
    "dev_df = pd.read_json('../dev.jsonl', lines=True)\n",
    "X_dev = dev_df['string']\n",
    "y_dev = dev_df['label']\n",
    "\n",
    "test_df = pd.read_json('../test.jsonl', lines=True)\n",
    "X_test = test_df['string']\n",
    "y_test = test_df['label']\n",
    "\n",
    "train_df"
   ]
  },
  {
   "cell_type": "code",
   "execution_count": 4,
   "metadata": {},
   "outputs": [
    {
     "data": {
      "text/plain": [
       "<Axes: >"
      ]
     },
     "execution_count": 4,
     "metadata": {},
     "output_type": "execute_result"
    },
    {
     "data": {
      "image/png": "[encoded data removed]",
      "text/plain": [
       "<Figure size 640x480 with 1 Axes>"
      ]
     },
     "metadata": {},
     "output_type": "display_data"
    }
   ],
   "source": [
    "X_test.apply(lambda x: len(x)).hist()"
   ]
  },
  {
   "cell_type": "code",
   "execution_count": 5,
   "metadata": {},
   "outputs": [],
   "source": [
    "X_train, y_train = augment_data_multiclass(X_train, y_train)"
   ]
  },
  {
   "cell_type": "code",
   "execution_count": 6,
   "metadata": {},
   "outputs": [
    {
     "name": "stdout",
     "output_type": "stream",
     "text": [
      "[0 0 0 ... 2 2 2]\n"
     ]
    }
   ],
   "source": [
    "# Initialize LabelEncoder\n",
    "label_encoder = LabelEncoder()\n",
    "\n",
    "# Fit label encoder and transform string column\n",
    "y_train = label_encoder.fit_transform(y_train)\n",
    "y_dev = label_encoder.transform(y_dev)\n",
    "y_test = label_encoder.transform(y_test)\n",
    "\n",
    "print(y_train)"
   ]
  },
  {
   "cell_type": "markdown",
   "metadata": {},
   "source": [
    "## Model Creation"
   ]
  },
  {
   "cell_type": "code",
   "execution_count": 7,
   "metadata": {},
   "outputs": [
    {
     "name": "stderr",
     "output_type": "stream",
     "text": [
      "Some weights of GPT2ForSequenceClassification were not initialized from the model checkpoint at gpt2 and are newly initialized: ['score.weight']\n",
      "You should probably TRAIN this model on a down-stream task to be able to use it for predictions and inference.\n"
     ]
    }
   ],
   "source": [
    "model_name = 'gpt2'\n",
    "tokenizer = GPT2Tokenizer.from_pretrained(model_name)\n",
    "model = GPT2ForSequenceClassification.from_pretrained(model_name, num_labels=3)"
   ]
  },
  {
   "cell_type": "code",
   "execution_count": 8,
   "metadata": {},
   "outputs": [
    {
     "name": "stdout",
     "output_type": "stream",
     "text": [
      "transformer.wte.weight\n",
      "transformer.wpe.weight\n",
      "transformer.h.0.ln_1.weight\n",
      "transformer.h.0.ln_1.bias\n",
      "transformer.h.0.attn.c_attn.weight\n",
      "transformer.h.0.attn.c_attn.bias\n",
      "transformer.h.0.attn.c_proj.weight\n",
      "transformer.h.0.attn.c_proj.bias\n",
      "transformer.h.0.ln_2.weight\n",
      "transformer.h.0.ln_2.bias\n",
      "transformer.h.0.mlp.c_fc.weight\n",
      "transformer.h.0.mlp.c_fc.bias\n",
      "transformer.h.0.mlp.c_proj.weight\n",
      "transformer.h.0.mlp.c_proj.bias\n",
      "transformer.h.1.ln_1.weight\n",
      "transformer.h.1.ln_1.bias\n",
      "transformer.h.1.attn.c_attn.weight\n",
      "transformer.h.1.attn.c_attn.bias\n",
      "transformer.h.1.attn.c_proj.weight\n",
      "transformer.h.1.attn.c_proj.bias\n",
      "transformer.h.1.ln_2.weight\n",
      "transformer.h.1.ln_2.bias\n",
      "transformer.h.1.mlp.c_fc.weight\n",
      "transformer.h.1.mlp.c_fc.bias\n",
      "transformer.h.1.mlp.c_proj.weight\n",
      "transformer.h.1.mlp.c_proj.bias\n",
      "transformer.h.2.ln_1.weight\n",
      "transformer.h.2.ln_1.bias\n",
      "transformer.h.2.attn.c_attn.weight\n",
      "transformer.h.2.attn.c_attn.bias\n",
      "transformer.h.2.attn.c_proj.weight\n",
      "transformer.h.2.attn.c_proj.bias\n",
      "transformer.h.2.ln_2.weight\n",
      "transformer.h.2.ln_2.bias\n",
      "transformer.h.2.mlp.c_fc.weight\n",
      "transformer.h.2.mlp.c_fc.bias\n",
      "transformer.h.2.mlp.c_proj.weight\n",
      "transformer.h.2.mlp.c_proj.bias\n",
      "transformer.h.3.ln_1.weight\n",
      "transformer.h.3.ln_1.bias\n",
      "transformer.h.3.attn.c_attn.weight\n",
      "transformer.h.3.attn.c_attn.bias\n",
      "transformer.h.3.attn.c_proj.weight\n",
      "transformer.h.3.attn.c_proj.bias\n",
      "transformer.h.3.ln_2.weight\n",
      "transformer.h.3.ln_2.bias\n",
      "transformer.h.3.mlp.c_fc.weight\n",
      "transformer.h.3.mlp.c_fc.bias\n",
      "transformer.h.3.mlp.c_proj.weight\n",
      "transformer.h.3.mlp.c_proj.bias\n",
      "transformer.h.4.ln_1.weight\n",
      "transformer.h.4.ln_1.bias\n",
      "transformer.h.4.attn.c_attn.weight\n",
      "transformer.h.4.attn.c_attn.bias\n",
      "transformer.h.4.attn.c_proj.weight\n",
      "transformer.h.4.attn.c_proj.bias\n",
      "transformer.h.4.ln_2.weight\n",
      "transformer.h.4.ln_2.bias\n",
      "transformer.h.4.mlp.c_fc.weight\n",
      "transformer.h.4.mlp.c_fc.bias\n",
      "transformer.h.4.mlp.c_proj.weight\n",
      "transformer.h.4.mlp.c_proj.bias\n",
      "transformer.h.5.ln_1.weight\n",
      "transformer.h.5.ln_1.bias\n",
      "transformer.h.5.attn.c_attn.weight\n",
      "transformer.h.5.attn.c_attn.bias\n",
      "transformer.h.5.attn.c_proj.weight\n",
      "transformer.h.5.attn.c_proj.bias\n",
      "transformer.h.5.ln_2.weight\n",
      "transformer.h.5.ln_2.bias\n",
      "transformer.h.5.mlp.c_fc.weight\n",
      "transformer.h.5.mlp.c_fc.bias\n",
      "transformer.h.5.mlp.c_proj.weight\n",
      "transformer.h.5.mlp.c_proj.bias\n",
      "transformer.h.6.ln_1.weight\n",
      "transformer.h.6.ln_1.bias\n",
      "transformer.h.6.attn.c_attn.weight\n",
      "transformer.h.6.attn.c_attn.bias\n",
      "transformer.h.6.attn.c_proj.weight\n",
      "transformer.h.6.attn.c_proj.bias\n",
      "transformer.h.6.ln_2.weight\n",
      "transformer.h.6.ln_2.bias\n",
      "transformer.h.6.mlp.c_fc.weight\n",
      "transformer.h.6.mlp.c_fc.bias\n",
      "transformer.h.6.mlp.c_proj.weight\n",
      "transformer.h.6.mlp.c_proj.bias\n",
      "transformer.h.7.ln_1.weight\n",
      "transformer.h.7.ln_1.bias\n",
      "transformer.h.7.attn.c_attn.weight\n",
      "transformer.h.7.attn.c_attn.bias\n",
      "transformer.h.7.attn.c_proj.weight\n",
      "transformer.h.7.attn.c_proj.bias\n",
      "transformer.h.7.ln_2.weight\n",
      "transformer.h.7.ln_2.bias\n",
      "transformer.h.7.mlp.c_fc.weight\n",
      "transformer.h.7.mlp.c_fc.bias\n",
      "transformer.h.7.mlp.c_proj.weight\n",
      "transformer.h.7.mlp.c_proj.bias\n",
      "transformer.h.8.ln_1.weight\n",
      "transformer.h.8.ln_1.bias\n",
      "transformer.h.8.attn.c_attn.weight\n",
      "transformer.h.8.attn.c_attn.bias\n",
      "transformer.h.8.attn.c_proj.weight\n",
      "transformer.h.8.attn.c_proj.bias\n",
      "transformer.h.8.ln_2.weight\n",
      "transformer.h.8.ln_2.bias\n",
      "transformer.h.8.mlp.c_fc.weight\n",
      "transformer.h.8.mlp.c_fc.bias\n",
      "transformer.h.8.mlp.c_proj.weight\n",
      "transformer.h.8.mlp.c_proj.bias\n",
      "transformer.h.9.ln_1.weight\n",
      "transformer.h.9.ln_1.bias\n",
      "transformer.h.9.attn.c_attn.weight\n",
      "transformer.h.9.attn.c_attn.bias\n",
      "transformer.h.9.attn.c_proj.weight\n",
      "transformer.h.9.attn.c_proj.bias\n",
      "transformer.h.9.ln_2.weight\n",
      "transformer.h.9.ln_2.bias\n",
      "transformer.h.9.mlp.c_fc.weight\n",
      "transformer.h.9.mlp.c_fc.bias\n",
      "transformer.h.9.mlp.c_proj.weight\n",
      "transformer.h.9.mlp.c_proj.bias\n",
      "transformer.h.10.ln_1.weight\n",
      "transformer.h.10.ln_1.bias\n",
      "transformer.h.10.attn.c_attn.weight\n",
      "transformer.h.10.attn.c_attn.bias\n",
      "transformer.h.10.attn.c_proj.weight\n",
      "transformer.h.10.attn.c_proj.bias\n",
      "transformer.h.10.ln_2.weight\n",
      "transformer.h.10.ln_2.bias\n",
      "transformer.h.10.mlp.c_fc.weight\n",
      "transformer.h.10.mlp.c_fc.bias\n",
      "transformer.h.10.mlp.c_proj.weight\n",
      "transformer.h.10.mlp.c_proj.bias\n",
      "transformer.h.11.ln_1.weight\n",
      "transformer.h.11.ln_1.bias\n",
      "transformer.h.11.attn.c_attn.weight\n",
      "transformer.h.11.attn.c_attn.bias\n",
      "transformer.h.11.attn.c_proj.weight\n",
      "transformer.h.11.attn.c_proj.bias\n",
      "transformer.h.11.ln_2.weight\n",
      "transformer.h.11.ln_2.bias\n",
      "transformer.h.11.mlp.c_fc.weight\n",
      "transformer.h.11.mlp.c_fc.bias\n",
      "transformer.h.11.mlp.c_proj.weight\n",
      "transformer.h.11.mlp.c_proj.bias\n",
      "transformer.ln_f.weight\n",
      "transformer.ln_f.bias\n",
      "score.weight\n"
     ]
    }
   ],
   "source": [
    "for name, param in model.named_parameters():\n",
    "    print(name)"
   ]
  },
  {
   "cell_type": "code",
   "execution_count": 9,
   "metadata": {},
   "outputs": [],
   "source": [
    "tokenizer.pad_token = tokenizer.eos_token\n",
    "model.config.pad_token_id = model.config.eos_token_id"
   ]
  },
  {
   "cell_type": "markdown",
   "metadata": {},
   "source": [
    "## Model training"
   ]
  },
  {
   "cell_type": "code",
   "execution_count": 10,
   "metadata": {},
   "outputs": [],
   "source": [
    "# model = train_model(model, tokenizer, 5, 4e-5, 16, X_train, y_train)\n",
    "# WARNING: This will take very long"
   ]
  },
  {
   "cell_type": "markdown",
   "metadata": {},
   "source": [
    "## First trained model \n",
    "\n",
    "This is GPT2 model with all parameters trained. Will take ~30 mins to train in SOC cluster.\n",
    "\n",
    "We use:\n",
    "- learning_rate = 4e-5\n",
    "- num_epoch = 1\n",
    "- batch_size = 16\n",
    "- tokenizer = default GPT2Tokenizer\n",
    "- Only data augmentation for preprocessing\n",
    "\n",
    "This can be trained by running `train_model(model, tokenizer, num_epoch=1, learning_rate=4e-5, batch_size=16, X_train, y_train, use_preprocess=False)`"
   ]
  },
  {
   "cell_type": "code",
   "execution_count": 11,
   "metadata": {},
   "outputs": [
    {
     "data": {
      "text/plain": [
       "<All keys matched successfully>"
      ]
     },
     "execution_count": 11,
     "metadata": {},
     "output_type": "execute_result"
    }
   ],
   "source": [
    "# Load previously trained model\n",
    "# Unfortunately, can't push it to github as it exceeds the 100 MB limit\n",
    "# Ask the model from me if needed :)\n",
    "model.load_state_dict(torch.load('gpt2-1.pth'))\n",
    "\n",
    "# Alternatively, can do the following:\n",
    "# model = GPT2ForSequenceClassification.from_pretrained(model_name, num_labels=3)\n",
    "# model.config.pad_token_id = model.config.eos_token_id\n",
    "# model = train_model(model, tokenizer, num_epoch=1, learning_rate=4e-5, batch_size=16, X_train, y_train, use_preprocess=False)"
   ]
  },
  {
   "cell_type": "code",
   "execution_count": 12,
   "metadata": {},
   "outputs": [
    {
     "name": "stderr",
     "output_type": "stream",
     "text": [
      "Truncation was not explicitly activated but `max_length` is provided a specific value, please use `truncation=True` to explicitly truncate examples to max length. Defaulting to 'longest_first' truncation strategy. If you encode pairs of sequences (GLUE-style) with the tokenizer you can select this strategy more precisely by providing a specific strategy to `truncation`.\n"
     ]
    },
    {
     "data": {
      "text/plain": [
       "(0.8506542868172478, 0.8602901665771091)"
      ]
     },
     "execution_count": 12,
     "metadata": {},
     "output_type": "execute_result"
    }
   ],
   "source": [
    "# Find evaluation in test data, we can get:\n",
    "# f1 = 0.8506542868172478 and accuracy = 0.8602901665771091\n",
    "# WARNING: this will take quite long without GPU\n",
    "eval_model(model, tokenizer, X_test, y_test)"
   ]
  },
  {
   "cell_type": "markdown",
   "metadata": {},
   "source": [
    "## Second trained model \n",
    "\n",
    "This is GPT2 model with all parameters trained. Will take ~6 hours to train in SOC cluster.\n",
    "\n",
    "We use:\n",
    "- learning_rate = 4e-5\n",
    "- num_epoch = 10\n",
    "- batch_size = 16\n",
    "- tokenizer = default GPT2Tokenizer\n",
    "- Only data augmentation for preprocessing\n",
    "\n",
    "This can be trained by running `train_model(model, tokenizer, num_epoch=10, learning_rate=4e-5, batch_size=16, X_train, y_train, use_preprocess=False)`"
   ]
  },
  {
   "cell_type": "code",
   "execution_count": 13,
   "metadata": {},
   "outputs": [
    {
     "data": {
      "text/plain": [
       "<All keys matched successfully>"
      ]
     },
     "execution_count": 13,
     "metadata": {},
     "output_type": "execute_result"
    }
   ],
   "source": [
    "# Load previously trained model\n",
    "# Unfortunately, can't push it to github as it exceeds the 100 MB limit\n",
    "# Ask the model from me if needed :)\n",
    "model.load_state_dict(torch.load('gpt2-2.pth'))\n",
    "\n",
    "# Alternatively, can do the following:\n",
    "# model = GPT2ForSequenceClassification.from_pretrained(model_name, num_labels=3)\n",
    "# model.config.pad_token_id = model.config.eos_token_id\n",
    "# model = train_model(model, tokenizer, num_epoch=10, learning_rate=4e-5, batch_size=16, X_train, y_train, use_preprocess=False)"
   ]
  },
  {
   "cell_type": "code",
   "execution_count": null,
   "metadata": {},
   "outputs": [],
   "source": [
    "# Find evaluation in test data, we can get:\n",
    "# f1 = 0.8382855666754353 and 0.8538420204191295\n",
    "# WARNING: this will take quite long without GPU\n",
    "eval_model(model, tokenizer, X_test, y_test)"
   ]
  },
  {
   "cell_type": "markdown",
   "metadata": {},
   "source": [
    "## Third trained model \n",
    "\n",
    "This is GPT2 model with all parameters trained. Will take ~30 mins to train in SOC cluster.\n",
    "\n",
    "We use:\n",
    "- learning_rate = 2e-5\n",
    "- num_epoch = 1\n",
    "- batch_size = 16\n",
    "- tokenizer = default GPT2Tokenizer\n",
    "- Only data augmentation for preprocessing\n",
    "\n",
    "This can be trained by running `train_model(model, tokenizer, num_epoch=1, learning_rate=2e-5, batch_size=16, X_train, y_train, use_preprocess=False)`"
   ]
  },
  {
   "cell_type": "code",
   "execution_count": 14,
   "metadata": {},
   "outputs": [
    {
     "data": {
      "text/plain": [
       "<All keys matched successfully>"
      ]
     },
     "execution_count": 14,
     "metadata": {},
     "output_type": "execute_result"
    }
   ],
   "source": [
    "# Load previously trained model\n",
    "# Unfortunately, can't push it to github as it exceeds the 100 MB limit\n",
    "# Ask the model from me if needed :)\n",
    "model.load_state_dict(torch.load('gpt2-3.pth'))\n",
    "\n",
    "# Alternatively, can do the following:\n",
    "# model = GPT2ForSequenceClassification.from_pretrained(model_name, num_labels=3)\n",
    "# model.config.pad_token_id = model.config.eos_token_id\n",
    "# model = train_model(model, tokenizer, num_epoch=1, learning_rate=2e-5, batch_size=16, X_train, y_train, use_preprocess=False)"
   ]
  },
  {
   "cell_type": "code",
   "execution_count": null,
   "metadata": {},
   "outputs": [],
   "source": [
    "# Find evaluation in test data, we can get:\n",
    "# f1 = 0.8170804618955835 and accuracy = 0.8350349274583557\n",
    "# WARNING: this will take quite long without GPU\n",
    "eval_model(model, tokenizer, X_test, y_test)"
   ]
  },
  {
   "cell_type": "markdown",
   "metadata": {},
   "source": [
    "## Fourth trained model \n",
    "\n",
    "This is GPT2 model with all parameters trained. Will take ~6 hours to train in SOC cluster.\n",
    "\n",
    "We use:\n",
    "- learning_rate = 2e-5\n",
    "- num_epoch = 10\n",
    "- batch_size = 16\n",
    "- tokenizer = default GPT2Tokenizer\n",
    "- Only data augmentation for preprocessing\n",
    "\n",
    "This can be trained by running `train_model(model, tokenizer, num_epoch=1, learning_rate=2e-5, batch_size=16, X_train, y_train, use_preprocess=False)`"
   ]
  },
  {
   "cell_type": "code",
   "execution_count": 15,
   "metadata": {},
   "outputs": [
    {
     "data": {
      "text/plain": [
       "<All keys matched successfully>"
      ]
     },
     "execution_count": 15,
     "metadata": {},
     "output_type": "execute_result"
    }
   ],
   "source": [
    "# Load previously trained model\n",
    "# Unfortunately, can't push it to github as it exceeds the 100 MB limit\n",
    "# Ask the model from me if needed :)\n",
    "model.load_state_dict(torch.load('gpt2-4.pth'))\n",
    "\n",
    "# Alternatively, can do the following:\n",
    "# model = GPT2ForSequenceClassification.from_pretrained(model_name, num_labels=3)\n",
    "# model.config.pad_token_id = model.config.eos_token_id\n",
    "# model = train_model(model, tokenizer, num_epoch=10, learning_rate=2e-5, batch_size=16, X_train, y_train, use_preprocess=False)"
   ]
  },
  {
   "cell_type": "code",
   "execution_count": 16,
   "metadata": {},
   "outputs": [
    {
     "data": {
      "text/plain": [
       "(0.8432042425451008, 0.8592154755507792)"
      ]
     },
     "execution_count": 16,
     "metadata": {},
     "output_type": "execute_result"
    }
   ],
   "source": [
    "# Find evaluation in test data, we can get:\n",
    "# f1 = 0.8432042425451008 and accuracy 0.8592154755507792\n",
    "# WARNING: this will take quite long without GPU\n",
    "eval_model(model, tokenizer, X_test, y_test)"
   ]
  }
 ],
 "metadata": {
  "kernelspec": {
   "display_name": "Python 3",
   "language": "python",
   "name": "python3"
  },
  "language_info": {
   "codemirror_mode": {
    "name": "ipython",
    "version": 3
   },
   "file_extension": ".py",
   "mimetype": "text/x-python",
   "name": "python",
   "nbconvert_exporter": "python",
   "pygments_lexer": "ipython3",
   "version": "3.9.6"
  }
 },
 "nbformat": 4,
 "nbformat_minor": 2
}
