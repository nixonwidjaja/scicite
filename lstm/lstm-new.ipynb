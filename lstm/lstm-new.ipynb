{
  "cells": [
    {
      "cell_type": "code",
      "execution_count": 628,
      "metadata": {
        "id": "muQqVssOKoth"
      },
      "outputs": [],
      "source": [
        "import numpy as np\n",
        "import matplotlib.pyplot as plt\n",
        "import os\n",
        "import random\n",
        "import numpy as np\n",
        "import pandas as pd\n",
        "from nltk.tokenize import RegexpTokenizer\n",
        "from nltk.stem import WordNetLemmatizer\n",
        "from nltk.corpus import stopwords\n",
        "from sklearn.utils import resample\n",
        "from sklearn.feature_extraction.text import TfidfVectorizer\n",
        "from sklearn.model_selection import train_test_split\n",
        "from sklearn.model_selection import GridSearchCV\n",
        "from sklearn.feature_extraction.text import CountVectorizer"
      ]
    },
    {
      "cell_type": "code",
      "execution_count": 629,
      "metadata": {
        "colab": {
          "base_uri": "https://localhost:8080/",
          "height": 964
        },
        "id": "ZUJ5vfTJTa2T",
        "outputId": "66f87720-713e-40a6-cf5d-ae79c10db5f8"
      },
      "outputs": [
        {
          "data": {
            "text/html": [
              "<div>\n",
              "<style scoped>\n",
              "    .dataframe tbody tr th:only-of-type {\n",
              "        vertical-align: middle;\n",
              "    }\n",
              "\n",
              "    .dataframe tbody tr th {\n",
              "        vertical-align: top;\n",
              "    }\n",
              "\n",
              "    .dataframe thead th {\n",
              "        text-align: right;\n",
              "    }\n",
              "</style>\n",
              "<table border=\"1\" class=\"dataframe\">\n",
              "  <thead>\n",
              "    <tr style=\"text-align: right;\">\n",
              "      <th></th>\n",
              "      <th>source</th>\n",
              "      <th>citeEnd</th>\n",
              "      <th>sectionName</th>\n",
              "      <th>citeStart</th>\n",
              "      <th>string</th>\n",
              "      <th>label</th>\n",
              "      <th>label_confidence</th>\n",
              "      <th>citingPaperId</th>\n",
              "      <th>citedPaperId</th>\n",
              "      <th>isKeyCitation</th>\n",
              "      <th>id</th>\n",
              "      <th>unique_id</th>\n",
              "      <th>excerpt_index</th>\n",
              "      <th>label2</th>\n",
              "      <th>label2_confidence</th>\n",
              "    </tr>\n",
              "  </thead>\n",
              "  <tbody>\n",
              "    <tr>\n",
              "      <th>0</th>\n",
              "      <td>explicit</td>\n",
              "      <td>175.0</td>\n",
              "      <td>Introduction</td>\n",
              "      <td>168.0</td>\n",
              "      <td>However, how frataxin interacts with the Fe-S ...</td>\n",
              "      <td>background</td>\n",
              "      <td>1.0000</td>\n",
              "      <td>1872080baa7d30ec8fb87be9a65358cd3a7fb649</td>\n",
              "      <td>894be9b4ea46a5c422e81ef3c241072d4c73fdc0</td>\n",
              "      <td>True</td>\n",
              "      <td>1872080baa7d30ec8fb87be9a65358cd3a7fb649&gt;894be...</td>\n",
              "      <td>1872080baa7d30ec8fb87be9a65358cd3a7fb649&gt;894be...</td>\n",
              "      <td>11</td>\n",
              "      <td>NaN</td>\n",
              "      <td>NaN</td>\n",
              "    </tr>\n",
              "    <tr>\n",
              "      <th>1</th>\n",
              "      <td>explicit</td>\n",
              "      <td>36.0</td>\n",
              "      <td>Novel Quantitative Trait Loci for Seminal Root...</td>\n",
              "      <td>16.0</td>\n",
              "      <td>In the study by Hickey et al. (2012), spikes w...</td>\n",
              "      <td>background</td>\n",
              "      <td>1.0000</td>\n",
              "      <td>ce1d09a4a3a8d7fd3405b9328f65f00c952cf64b</td>\n",
              "      <td>b6642e19efb8db5623b3cc4eef1c5822a6151107</td>\n",
              "      <td>True</td>\n",
              "      <td>ce1d09a4a3a8d7fd3405b9328f65f00c952cf64b&gt;b6642...</td>\n",
              "      <td>ce1d09a4a3a8d7fd3405b9328f65f00c952cf64b&gt;b6642...</td>\n",
              "      <td>2</td>\n",
              "      <td>NaN</td>\n",
              "      <td>NaN</td>\n",
              "    </tr>\n",
              "    <tr>\n",
              "      <th>2</th>\n",
              "      <td>explicit</td>\n",
              "      <td>228.0</td>\n",
              "      <td>Introduction</td>\n",
              "      <td>225.0</td>\n",
              "      <td>The drug also reduces catecholamine secretion,...</td>\n",
              "      <td>background</td>\n",
              "      <td>1.0000</td>\n",
              "      <td>9cdf605beb1aa1078f235c4332b3024daa8b31dc</td>\n",
              "      <td>4e6a17fb8d7a3cada601d942e22eb5da6d01adbd</td>\n",
              "      <td>False</td>\n",
              "      <td>9cdf605beb1aa1078f235c4332b3024daa8b31dc&gt;4e6a1...</td>\n",
              "      <td>9cdf605beb1aa1078f235c4332b3024daa8b31dc&gt;4e6a1...</td>\n",
              "      <td>0</td>\n",
              "      <td>NaN</td>\n",
              "      <td>NaN</td>\n",
              "    </tr>\n",
              "    <tr>\n",
              "      <th>3</th>\n",
              "      <td>explicit</td>\n",
              "      <td>110.0</td>\n",
              "      <td>Discussion</td>\n",
              "      <td>46.0</td>\n",
              "      <td>By clustering with lowly aggressive close kin ...</td>\n",
              "      <td>background</td>\n",
              "      <td>1.0000</td>\n",
              "      <td>d9f3207db0c79a3b154f3875c9760cc6b056904b</td>\n",
              "      <td>2cc6ff899bf17666ad35893524a4d61624555ed7</td>\n",
              "      <td>False</td>\n",
              "      <td>d9f3207db0c79a3b154f3875c9760cc6b056904b&gt;2cc6f...</td>\n",
              "      <td>d9f3207db0c79a3b154f3875c9760cc6b056904b&gt;2cc6f...</td>\n",
              "      <td>3</td>\n",
              "      <td>NaN</td>\n",
              "      <td>NaN</td>\n",
              "    </tr>\n",
              "    <tr>\n",
              "      <th>4</th>\n",
              "      <td>explicit</td>\n",
              "      <td>239.0</td>\n",
              "      <td>Discussion</td>\n",
              "      <td>234.0</td>\n",
              "      <td>Ophthalmic symptoms are rare manifestations of...</td>\n",
              "      <td>background</td>\n",
              "      <td>1.0000</td>\n",
              "      <td>88b86556857f4374842d2af2e359576806239175</td>\n",
              "      <td>a5bb0ff1a026944d2a47a155462959af2b8505a8</td>\n",
              "      <td>False</td>\n",
              "      <td>88b86556857f4374842d2af2e359576806239175&gt;a5bb0...</td>\n",
              "      <td>88b86556857f4374842d2af2e359576806239175&gt;a5bb0...</td>\n",
              "      <td>2</td>\n",
              "      <td>NaN</td>\n",
              "      <td>NaN</td>\n",
              "    </tr>\n",
              "    <tr>\n",
              "      <th>...</th>\n",
              "      <td>...</td>\n",
              "      <td>...</td>\n",
              "      <td>...</td>\n",
              "      <td>...</td>\n",
              "      <td>...</td>\n",
              "      <td>...</td>\n",
              "      <td>...</td>\n",
              "      <td>...</td>\n",
              "      <td>...</td>\n",
              "      <td>...</td>\n",
              "      <td>...</td>\n",
              "      <td>...</td>\n",
              "      <td>...</td>\n",
              "      <td>...</td>\n",
              "      <td>...</td>\n",
              "    </tr>\n",
              "    <tr>\n",
              "      <th>8238</th>\n",
              "      <td>explicit</td>\n",
              "      <td>50.0</td>\n",
              "      <td></td>\n",
              "      <td>28.0</td>\n",
              "      <td>Importantly, the results of Pascalis et al. (2...</td>\n",
              "      <td>background</td>\n",
              "      <td>0.7350</td>\n",
              "      <td>6f68ccd37718366c40ae6aeedf0b935bf560b215</td>\n",
              "      <td>60ed4bdabf92b2fbd6162dbd8979888cccca55d7</td>\n",
              "      <td>True</td>\n",
              "      <td>6f68ccd37718366c40ae6aeedf0b935bf560b215&gt;60ed4...</td>\n",
              "      <td>6f68ccd37718366c40ae6aeedf0b935bf560b215&gt;60ed4...</td>\n",
              "      <td>15</td>\n",
              "      <td>NaN</td>\n",
              "      <td>NaN</td>\n",
              "    </tr>\n",
              "    <tr>\n",
              "      <th>8239</th>\n",
              "      <td>explicit</td>\n",
              "      <td>182.0</td>\n",
              "      <td>DISCUSSION</td>\n",
              "      <td>179.0</td>\n",
              "      <td>As suggested by Nguena et al, there is a need ...</td>\n",
              "      <td>background</td>\n",
              "      <td>0.7508</td>\n",
              "      <td>f2a1c1704f9587c94ed95bc98179dc499e933f5e</td>\n",
              "      <td>574e659da7f6c62c07bfaaacd1f31d65bd75524c</td>\n",
              "      <td>True</td>\n",
              "      <td>f2a1c1704f9587c94ed95bc98179dc499e933f5e&gt;574e6...</td>\n",
              "      <td>f2a1c1704f9587c94ed95bc98179dc499e933f5e&gt;574e6...</td>\n",
              "      <td>1</td>\n",
              "      <td>NaN</td>\n",
              "      <td>NaN</td>\n",
              "    </tr>\n",
              "    <tr>\n",
              "      <th>8240</th>\n",
              "      <td>explicit</td>\n",
              "      <td>120.0</td>\n",
              "      <td>DISCUSSION</td>\n",
              "      <td>108.0</td>\n",
              "      <td>Skeletal muscle is also a primary site of dise...</td>\n",
              "      <td>background</td>\n",
              "      <td>1.0000</td>\n",
              "      <td>18c97ea2ff60c110cc2a523e0fdf729608cbb083</td>\n",
              "      <td>fc13b9c3dfcc121013edaa12fa8ce7842aaed21a</td>\n",
              "      <td>False</td>\n",
              "      <td>18c97ea2ff60c110cc2a523e0fdf729608cbb083&gt;fc13b...</td>\n",
              "      <td>18c97ea2ff60c110cc2a523e0fdf729608cbb083&gt;fc13b...</td>\n",
              "      <td>8</td>\n",
              "      <td>NaN</td>\n",
              "      <td>NaN</td>\n",
              "    </tr>\n",
              "    <tr>\n",
              "      <th>8241</th>\n",
              "      <td>explicit</td>\n",
              "      <td>221.0</td>\n",
              "      <td></td>\n",
              "      <td>185.0</td>\n",
              "      <td>ACTIVATION OF TRANSCRIPTION FACTORS Roles for ...</td>\n",
              "      <td>method</td>\n",
              "      <td>NaN</td>\n",
              "      <td>4ec9b89857c0b27e8a4bd3745b7358f387773527</td>\n",
              "      <td>81affdba19e38e2b17cf7b9e93792cc2028cf21d</td>\n",
              "      <td>True</td>\n",
              "      <td>4ec9b89857c0b27e8a4bd3745b7358f387773527&gt;81aff...</td>\n",
              "      <td>4ec9b89857c0b27e8a4bd3745b7358f387773527&gt;81aff...</td>\n",
              "      <td>0</td>\n",
              "      <td>NaN</td>\n",
              "      <td>NaN</td>\n",
              "    </tr>\n",
              "    <tr>\n",
              "      <th>8242</th>\n",
              "      <td>explicit</td>\n",
              "      <td>102.0</td>\n",
              "      <td>Introduction</td>\n",
              "      <td>82.0</td>\n",
              "      <td>Most studies focused on the relation between b...</td>\n",
              "      <td>background</td>\n",
              "      <td>1.0000</td>\n",
              "      <td>42c954cad0de68657d4429b512d8fe75dceef13c</td>\n",
              "      <td>00afbfb391f7c15a73a4257b2c0fcd9767ece6a8</td>\n",
              "      <td>True</td>\n",
              "      <td>42c954cad0de68657d4429b512d8fe75dceef13c&gt;00afb...</td>\n",
              "      <td>42c954cad0de68657d4429b512d8fe75dceef13c&gt;00afb...</td>\n",
              "      <td>0</td>\n",
              "      <td>NaN</td>\n",
              "      <td>NaN</td>\n",
              "    </tr>\n",
              "  </tbody>\n",
              "</table>\n",
              "<p>8243 rows × 15 columns</p>\n",
              "</div>"
            ],
            "text/plain": [
              "        source  citeEnd                                        sectionName  \\\n",
              "0     explicit    175.0                                       Introduction   \n",
              "1     explicit     36.0  Novel Quantitative Trait Loci for Seminal Root...   \n",
              "2     explicit    228.0                                       Introduction   \n",
              "3     explicit    110.0                                         Discussion   \n",
              "4     explicit    239.0                                         Discussion   \n",
              "...        ...      ...                                                ...   \n",
              "8238  explicit     50.0                                                      \n",
              "8239  explicit    182.0                                         DISCUSSION   \n",
              "8240  explicit    120.0                                         DISCUSSION   \n",
              "8241  explicit    221.0                                                      \n",
              "8242  explicit    102.0                                       Introduction   \n",
              "\n",
              "      citeStart                                             string  \\\n",
              "0         168.0  However, how frataxin interacts with the Fe-S ...   \n",
              "1          16.0  In the study by Hickey et al. (2012), spikes w...   \n",
              "2         225.0  The drug also reduces catecholamine secretion,...   \n",
              "3          46.0  By clustering with lowly aggressive close kin ...   \n",
              "4         234.0  Ophthalmic symptoms are rare manifestations of...   \n",
              "...         ...                                                ...   \n",
              "8238       28.0  Importantly, the results of Pascalis et al. (2...   \n",
              "8239      179.0  As suggested by Nguena et al, there is a need ...   \n",
              "8240      108.0  Skeletal muscle is also a primary site of dise...   \n",
              "8241      185.0  ACTIVATION OF TRANSCRIPTION FACTORS Roles for ...   \n",
              "8242       82.0  Most studies focused on the relation between b...   \n",
              "\n",
              "           label  label_confidence                             citingPaperId  \\\n",
              "0     background            1.0000  1872080baa7d30ec8fb87be9a65358cd3a7fb649   \n",
              "1     background            1.0000  ce1d09a4a3a8d7fd3405b9328f65f00c952cf64b   \n",
              "2     background            1.0000  9cdf605beb1aa1078f235c4332b3024daa8b31dc   \n",
              "3     background            1.0000  d9f3207db0c79a3b154f3875c9760cc6b056904b   \n",
              "4     background            1.0000  88b86556857f4374842d2af2e359576806239175   \n",
              "...          ...               ...                                       ...   \n",
              "8238  background            0.7350  6f68ccd37718366c40ae6aeedf0b935bf560b215   \n",
              "8239  background            0.7508  f2a1c1704f9587c94ed95bc98179dc499e933f5e   \n",
              "8240  background            1.0000  18c97ea2ff60c110cc2a523e0fdf729608cbb083   \n",
              "8241      method               NaN  4ec9b89857c0b27e8a4bd3745b7358f387773527   \n",
              "8242  background            1.0000  42c954cad0de68657d4429b512d8fe75dceef13c   \n",
              "\n",
              "                                  citedPaperId  isKeyCitation  \\\n",
              "0     894be9b4ea46a5c422e81ef3c241072d4c73fdc0           True   \n",
              "1     b6642e19efb8db5623b3cc4eef1c5822a6151107           True   \n",
              "2     4e6a17fb8d7a3cada601d942e22eb5da6d01adbd          False   \n",
              "3     2cc6ff899bf17666ad35893524a4d61624555ed7          False   \n",
              "4     a5bb0ff1a026944d2a47a155462959af2b8505a8          False   \n",
              "...                                        ...            ...   \n",
              "8238  60ed4bdabf92b2fbd6162dbd8979888cccca55d7           True   \n",
              "8239  574e659da7f6c62c07bfaaacd1f31d65bd75524c           True   \n",
              "8240  fc13b9c3dfcc121013edaa12fa8ce7842aaed21a          False   \n",
              "8241  81affdba19e38e2b17cf7b9e93792cc2028cf21d           True   \n",
              "8242  00afbfb391f7c15a73a4257b2c0fcd9767ece6a8           True   \n",
              "\n",
              "                                                     id  \\\n",
              "0     1872080baa7d30ec8fb87be9a65358cd3a7fb649>894be...   \n",
              "1     ce1d09a4a3a8d7fd3405b9328f65f00c952cf64b>b6642...   \n",
              "2     9cdf605beb1aa1078f235c4332b3024daa8b31dc>4e6a1...   \n",
              "3     d9f3207db0c79a3b154f3875c9760cc6b056904b>2cc6f...   \n",
              "4     88b86556857f4374842d2af2e359576806239175>a5bb0...   \n",
              "...                                                 ...   \n",
              "8238  6f68ccd37718366c40ae6aeedf0b935bf560b215>60ed4...   \n",
              "8239  f2a1c1704f9587c94ed95bc98179dc499e933f5e>574e6...   \n",
              "8240  18c97ea2ff60c110cc2a523e0fdf729608cbb083>fc13b...   \n",
              "8241  4ec9b89857c0b27e8a4bd3745b7358f387773527>81aff...   \n",
              "8242  42c954cad0de68657d4429b512d8fe75dceef13c>00afb...   \n",
              "\n",
              "                                              unique_id  excerpt_index label2  \\\n",
              "0     1872080baa7d30ec8fb87be9a65358cd3a7fb649>894be...             11    NaN   \n",
              "1     ce1d09a4a3a8d7fd3405b9328f65f00c952cf64b>b6642...              2    NaN   \n",
              "2     9cdf605beb1aa1078f235c4332b3024daa8b31dc>4e6a1...              0    NaN   \n",
              "3     d9f3207db0c79a3b154f3875c9760cc6b056904b>2cc6f...              3    NaN   \n",
              "4     88b86556857f4374842d2af2e359576806239175>a5bb0...              2    NaN   \n",
              "...                                                 ...            ...    ...   \n",
              "8238  6f68ccd37718366c40ae6aeedf0b935bf560b215>60ed4...             15    NaN   \n",
              "8239  f2a1c1704f9587c94ed95bc98179dc499e933f5e>574e6...              1    NaN   \n",
              "8240  18c97ea2ff60c110cc2a523e0fdf729608cbb083>fc13b...              8    NaN   \n",
              "8241  4ec9b89857c0b27e8a4bd3745b7358f387773527>81aff...              0    NaN   \n",
              "8242  42c954cad0de68657d4429b512d8fe75dceef13c>00afb...              0    NaN   \n",
              "\n",
              "      label2_confidence  \n",
              "0                   NaN  \n",
              "1                   NaN  \n",
              "2                   NaN  \n",
              "3                   NaN  \n",
              "4                   NaN  \n",
              "...                 ...  \n",
              "8238                NaN  \n",
              "8239                NaN  \n",
              "8240                NaN  \n",
              "8241                NaN  \n",
              "8242                NaN  \n",
              "\n",
              "[8243 rows x 15 columns]"
            ]
          },
          "execution_count": 629,
          "metadata": {},
          "output_type": "execute_result"
        }
      ],
      "source": [
        "train_df = pd.read_json('../train.jsonl', lines=True)\n",
        "X_train = train_df['string']\n",
        "y_train = train_df['label']\n",
        "\n",
        "test_df = pd.read_json('../test.jsonl', lines=True)\n",
        "\n",
        "train_df"
      ]
    },
    {
      "cell_type": "code",
      "execution_count": 630,
      "metadata": {},
      "outputs": [],
      "source": [
        "def augment_data_multiclass(X, y):\n",
        "    df = pd.concat([X, y], axis=1)\n",
        "    majority_class_size = df['label'].value_counts().max()\n",
        "    upsampled_dataframes = []\n",
        "    for class_label in df['label'].unique():\n",
        "        class_df = df[df['label'] == class_label]\n",
        "        if len(class_df) < majority_class_size:\n",
        "            class_df_upsampled = resample(class_df, replace=True, n_samples=majority_class_size, random_state=10)\n",
        "            upsampled_dataframes.append(class_df_upsampled)\n",
        "        else:\n",
        "            upsampled_dataframes.append(class_df)\n",
        "    upsampled_df = pd.concat(upsampled_dataframes)\n",
        "    return upsampled_df['string'], upsampled_df['label']"
      ]
    },
    {
      "cell_type": "code",
      "execution_count": 631,
      "metadata": {},
      "outputs": [],
      "source": [
        "X_train, y_train = augment_data_multiclass(X_train, y_train)"
      ]
    },
    {
      "cell_type": "code",
      "execution_count": 632,
      "metadata": {},
      "outputs": [],
      "source": [
        "from sklearn.preprocessing import LabelEncoder\n",
        "\n",
        "# Initialize LabelEncoder\n",
        "label_encoder = LabelEncoder()\n",
        "\n",
        "# Fit label encoder and transform string column\n",
        "y_train = label_encoder.fit_transform(y_train)"
      ]
    },
    {
      "cell_type": "code",
      "execution_count": 633,
      "metadata": {},
      "outputs": [],
      "source": [
        "train_df = pd.DataFrame({\n",
        "    'string': X_train,\n",
        "    'label': y_train\n",
        "})"
      ]
    },
    {
      "cell_type": "code",
      "execution_count": 634,
      "metadata": {},
      "outputs": [
        {
          "data": {
            "text/plain": [
              "<Axes: >"
            ]
          },
          "execution_count": 634,
          "metadata": {},
          "output_type": "execute_result"
        },
        {
          "data": {
            "image/png": "[encoded data removed]",
            "text/plain": [
              "<Figure size 640x480 with 1 Axes>"
            ]
          },
          "metadata": {},
          "output_type": "display_data"
        }
      ],
      "source": [
        "train_df.label.hist()"
      ]
    },
    {
      "cell_type": "code",
      "execution_count": 635,
      "metadata": {
        "colab": {
          "base_uri": "https://localhost:8080/",
          "height": 442
        },
        "id": "KiIiUnACUa6k",
        "outputId": "bca61e40-931e-49e8-d6be-76cfa1bf7101"
      },
      "outputs": [],
      "source": [
        "import re\n",
        "import string\n",
        "import nltk \n",
        "\n",
        "def clean_text(text):\n",
        "    '''Make text lowercase, remove text in square brackets,remove links,remove punctuation\n",
        "    and remove words containing numbers.'''\n",
        "    text = str(text).lower()\n",
        "    text = re.sub('\\[.*?\\]', '', text)\n",
        "    text = re.sub('https?://\\S+|www\\.\\S+', '', text)\n",
        "    text = re.sub('<.*?>+', '', text)\n",
        "    text = re.sub('[%s]' % re.escape(string.punctuation), '', text)\n",
        "    text = re.sub('\\n', '', text)\n",
        "    text = re.sub('\\w*\\d\\w*', '', text)\n",
        "    return text\n",
        "\n",
        "#df_test['string_clean'] = df_test['string'].apply(clean_text)\n",
        "#df_test.head()\n",
        "\n",
        "stop_words = stopwords.words('english')\n",
        "more_stopwords = ['u', 'im', 'c']\n",
        "stop_words = stop_words + more_stopwords\n",
        "\n",
        "def remove_stopwords(text):\n",
        "    text = ' '.join(word for word in text.split(' ') if word not in stop_words)\n",
        "    return text\n",
        "\n",
        "stemmer = nltk.SnowballStemmer(\"english\")\n",
        "\n",
        "def stemm_text(text):\n",
        "    text = ' '.join(stemmer.stem(word) for word in text.split(' '))\n",
        "    return text\n",
        "\n",
        "def preprocess_data(text):\n",
        "    # Clean puntuation, urls, and so on\n",
        "    text = clean_text(text)\n",
        "    # Remove stopwords\n",
        "    text = ' '.join(word for word in text.split(' ') if word not in stop_words)\n",
        "    # Stemm all the words in the sentence\n",
        "    text = ' '.join(stemmer.stem(word) for word in text.split(' '))\n",
        "\n",
        "    return text\n",
        "\n",
        "\n"
      ]
    },
    {
      "cell_type": "code",
      "execution_count": 636,
      "metadata": {
        "colab": {
          "base_uri": "https://localhost:8080/",
          "height": 442
        },
        "id": "KEEEOvm9UyNo",
        "outputId": "863b10af-e80a-4f7d-9813-9ef41997439b"
      },
      "outputs": [],
      "source": [
        "train_df['string'] = train_df['string'].apply(preprocess_data)"
      ]
    },
    {
      "cell_type": "code",
      "execution_count": 637,
      "metadata": {},
      "outputs": [
        {
          "data": {
            "text/html": [
              "<div>\n",
              "<style scoped>\n",
              "    .dataframe tbody tr th:only-of-type {\n",
              "        vertical-align: middle;\n",
              "    }\n",
              "\n",
              "    .dataframe tbody tr th {\n",
              "        vertical-align: top;\n",
              "    }\n",
              "\n",
              "    .dataframe thead th {\n",
              "        text-align: right;\n",
              "    }\n",
              "</style>\n",
              "<table border=\"1\" class=\"dataframe\">\n",
              "  <thead>\n",
              "    <tr style=\"text-align: right;\">\n",
              "      <th></th>\n",
              "      <th>string</th>\n",
              "      <th>label</th>\n",
              "    </tr>\n",
              "  </thead>\n",
              "  <tbody>\n",
              "    <tr>\n",
              "      <th>0</th>\n",
              "      <td>howev frataxin interact fes cluster biosynthes...</td>\n",
              "      <td>0</td>\n",
              "    </tr>\n",
              "    <tr>\n",
              "      <th>1</th>\n",
              "      <td>studi hickey et al  spike sampl field point ph...</td>\n",
              "      <td>0</td>\n",
              "    </tr>\n",
              "    <tr>\n",
              "      <th>2</th>\n",
              "      <td>drug also reduc catecholamin secret therebi re...</td>\n",
              "      <td>0</td>\n",
              "    </tr>\n",
              "    <tr>\n",
              "      <th>3</th>\n",
              "      <td>cluster lowli aggress close kin king  viblanc ...</td>\n",
              "      <td>0</td>\n",
              "    </tr>\n",
              "    <tr>\n",
              "      <th>4</th>\n",
              "      <td>ophthalm symptom rare manifest intracrani arac...</td>\n",
              "      <td>0</td>\n",
              "    </tr>\n",
              "  </tbody>\n",
              "</table>\n",
              "</div>"
            ],
            "text/plain": [
              "                                              string  label\n",
              "0  howev frataxin interact fes cluster biosynthes...      0\n",
              "1  studi hickey et al  spike sampl field point ph...      0\n",
              "2  drug also reduc catecholamin secret therebi re...      0\n",
              "3  cluster lowli aggress close kin king  viblanc ...      0\n",
              "4  ophthalm symptom rare manifest intracrani arac...      0"
            ]
          },
          "execution_count": 637,
          "metadata": {},
          "output_type": "execute_result"
        }
      ],
      "source": [
        "train_df.head()"
      ]
    },
    {
      "cell_type": "code",
      "execution_count": 638,
      "metadata": {},
      "outputs": [],
      "source": [
        "from torchtext.vocab import build_vocab_from_iterator\n",
        "from torchtext.data.utils import get_tokenizer\n",
        "\n",
        "tokenizer = get_tokenizer(\"basic_english\")\n",
        "tokens = [tokenizer(text.lower()) for text in train_df.string]\n",
        "\n",
        "vocab = build_vocab_from_iterator(tokens)\n",
        "\n",
        "NUM_VOCAB = len(vocab)"
      ]
    },
    {
      "cell_type": "code",
      "execution_count": 639,
      "metadata": {},
      "outputs": [],
      "source": [
        "embeddings_dictionary = dict()\n",
        "EMBEDDING_DIM = 100\n",
        "\n",
        "# Load GloVe 100D embeddings\n",
        "with open('glove.6B.100d.txt') as fp:\n",
        "    for line in fp.readlines():\n",
        "        records = line.split()\n",
        "        word = records[0]\n",
        "        vector_dimensions = np.asarray(records[1:], dtype='float32')\n",
        "        embeddings_dictionary [word] = vector_dimensions"
      ]
    },
    {
      "cell_type": "code",
      "execution_count": 640,
      "metadata": {},
      "outputs": [
        {
          "data": {
            "text/plain": [
              "array([[-0.044606  , -0.61925   , -1.14530003, ..., -1.36409998,\n",
              "         0.35633001, -0.47716001],\n",
              "       [-0.41431999, -0.46675   , -0.91295999, ..., -0.84961998,\n",
              "         0.62581003, -0.63766998],\n",
              "       [-0.087511  ,  0.14542   ,  0.29126999, ..., -0.095098  ,\n",
              "         0.36195999, -0.53465003],\n",
              "       ...,\n",
              "       [-0.02694912,  0.22303687,  0.34876726, ...,  0.09159485,\n",
              "        -0.1396103 ,  0.61024855],\n",
              "       [-0.55432824, -0.10932295,  1.19728989, ..., -0.34358105,\n",
              "         0.26565352, -0.12985906],\n",
              "       [-0.61059607,  0.10722471,  0.52441386, ...,  0.41860791,\n",
              "         0.43391994,  0.93387489]])"
            ]
          },
          "execution_count": 640,
          "metadata": {},
          "output_type": "execute_result"
        }
      ],
      "source": [
        "embedding_matrix = np.zeros((NUM_VOCAB, EMBEDDING_DIM))\n",
        "\n",
        "for idx, word in enumerate(vocab.get_itos()):\n",
        "    # Retrieve the embedding vector for the current word\n",
        "    embedding_vector = embeddings_dictionary.get(word)\n",
        "\n",
        "    # Check if the embedding vector exists\n",
        "    if embedding_vector is not None:\n",
        "        # Assign the embedding vector to the corresponding index in the matrix\n",
        "        embedding_matrix[idx] = embedding_vector\n",
        "\n",
        "for i in range(NUM_VOCAB):\n",
        "    if np.all(embedding_matrix[i] == 0):\n",
        "        # Assigning a random vector from a normal distribution\n",
        "        embedding_matrix[i] = np.random.normal(scale=0.6, size=(EMBEDDING_DIM,))\n",
        "\n",
        "embedding_matrix"
      ]
    },
    {
      "cell_type": "code",
      "execution_count": 641,
      "metadata": {},
      "outputs": [],
      "source": [
        "import torch \n",
        "import torch.nn as nn \n",
        "\n",
        "class LSTMWithGloveClassifier(nn.Module):\n",
        "    def __init__(self, hidden_dim, output_dim):\n",
        "        super().__init__()\n",
        "        self.embedding = nn.Embedding(NUM_VOCAB, EMBEDDING_DIM)\n",
        "        self.embedding.weight.data.copy_(torch.from_numpy(embedding_matrix))\n",
        "        self.lstm = nn.LSTM(EMBEDDING_DIM, hidden_dim, batch_first=True)\n",
        "        self.linear = nn.Linear(hidden_dim, output_dim)\n",
        "\n",
        "    def forward(self, x):\n",
        "        x = self.embedding(x)\n",
        "        lstm_out, _ = self.lstm(x)\n",
        "        out = self.linear(lstm_out[:, -1, :])\n",
        "        return torch.sigmoid(out)"
      ]
    },
    {
      "cell_type": "code",
      "execution_count": 642,
      "metadata": {},
      "outputs": [],
      "source": [
        "tokenized_train_texts = [tokenizer(text.lower()) for text in train_df.string]\n",
        "\n",
        "indexed_train_texts = [[vocab[token] for token in tokens if token in vocab] for tokens in tokenized_train_texts]\n",
        "\n"
      ]
    },
    {
      "cell_type": "code",
      "execution_count": 643,
      "metadata": {},
      "outputs": [
        {
          "data": {
            "text/plain": [
              "<Axes: >"
            ]
          },
          "execution_count": 643,
          "metadata": {},
          "output_type": "execute_result"
        },
        {
          "data": {
            "image/png": "[encoded data removed]",
            "text/plain": [
              "<Figure size 640x480 with 1 Axes>"
            ]
          },
          "metadata": {},
          "output_type": "display_data"
        }
      ],
      "source": [
        "train_length = [len(i) for i in indexed_train_texts]\n",
        "train_s = pd.Series(train_length)\n",
        "train_s.hist()"
      ]
    },
    {
      "cell_type": "code",
      "execution_count": 644,
      "metadata": {},
      "outputs": [],
      "source": [
        "SEQ_LEN = 100\n",
        "\n",
        "padded_train_texts = [[0] * (SEQ_LEN - len(indexes)) + indexes  if len(indexes) <= SEQ_LEN else indexes[:SEQ_LEN] for indexes in indexed_train_texts]\n",
        "X_train = torch.Tensor(padded_train_texts).to(int)\n",
        "y_train = torch.LongTensor(y_train)\n"
      ]
    },
    {
      "cell_type": "code",
      "execution_count": 645,
      "metadata": {},
      "outputs": [],
      "source": [
        "from torch.utils.data import TensorDataset, DataLoader, RandomSampler, SequentialSampler\n",
        "from sklearn.metrics import f1_score, accuracy_score\n",
        "\n",
        "def eval_model(model, X_test, y_test):\n",
        "    X_test = X_test.apply(preprocess_data)\n",
        "    y_test = label_encoder.transform(y_test)\n",
        "    \n",
        "    tokenized_test_texts = [tokenizer(text.lower()) for text in X_test]\n",
        "    indexed_test_texts = [[vocab[token] for token in tokens if token in vocab] for tokens in tokenized_test_texts]\n",
        "    padded_test_texts = [[0] * (SEQ_LEN - len(indexes)) + indexes if len(indexes) <= SEQ_LEN else indexes[:SEQ_LEN] for indexes in indexed_test_texts]\n",
        "\n",
        "    X_test = torch.Tensor(padded_test_texts).to(int)\n",
        "    y_test = torch.LongTensor(y_test)\n",
        "\n",
        "    dataset_test = TensorDataset(X_test, y_test)\n",
        "    dataloader_test = DataLoader(dataset_test, sampler=SequentialSampler(dataset_test), batch_size=32)\n",
        "\n",
        "    model.eval()\n",
        "    predictions = []\n",
        "    labels = []\n",
        "    with torch.no_grad():\n",
        "        for test_batch in dataloader_test:\n",
        "            seq, label = test_batch\n",
        "\n",
        "            out = model(seq)\n",
        "            _, prediction  = torch.max(out, dim=1)\n",
        "\n",
        "            predictions.extend(prediction.tolist())\n",
        "            labels.extend(label.tolist())\n",
        "\n",
        "    f1 = f1_score(labels, predictions, average='macro')\n",
        "    acc = accuracy_score(labels, predictions)\n",
        "\n",
        "    return f1, acc"
      ]
    },
    {
      "cell_type": "code",
      "execution_count": 646,
      "metadata": {},
      "outputs": [],
      "source": [
        "from torch.utils.data import TensorDataset, DataLoader, RandomSampler, SequentialSampler\n",
        "\n",
        "dataset_train = TensorDataset(X_train, y_train)\n",
        "dataloader_train = DataLoader(dataset_train, sampler=RandomSampler(dataset_train), batch_size=32)"
      ]
    },
    {
      "cell_type": "code",
      "execution_count": 647,
      "metadata": {},
      "outputs": [
        {
          "name": "stdout",
          "output_type": "stream",
          "text": [
            "0 0.8918584579938309\n",
            "1 0.7261530600717939\n",
            "2 0.6689505192414255\n",
            "3 0.6403946166259077\n",
            "4 0.6112941126728898\n",
            "5 0.6021029119449565\n",
            "6 0.5939952347772237\n",
            "7 0.5899880758203598\n",
            "8 0.5878380668320845\n",
            "9 0.5947462396474662\n"
          ]
        }
      ],
      "source": [
        "from torch.optim import Adam \n",
        "\n",
        "model = LSTMWithGloveClassifier(50, 3)\n",
        "optimizer = Adam(model.parameters(), lr=1e-3)\n",
        "loss_fn = nn.CrossEntropyLoss()\n",
        "\n",
        "for epoch in range(10):\n",
        "    model.train()\n",
        "\n",
        "    curr_total_loss = 0.\n",
        "    count = 0\n",
        "\n",
        "    for train_batch in dataloader_train:\n",
        "        optimizer.zero_grad()\n",
        "\n",
        "        seq, label = train_batch\n",
        "        out = model(seq)\n",
        "        \n",
        "        loss = loss_fn(out, label)\n",
        "\n",
        "        curr_total_loss += loss.item()\n",
        "        count += 1\n",
        "\n",
        "        loss.backward()\n",
        "        optimizer.step()\n",
        "\n",
        "    avg_loss = curr_total_loss / count \n",
        "\n",
        "    print(epoch, avg_loss)"
      ]
    },
    {
      "cell_type": "markdown",
      "metadata": {},
      "source": [
        "### Default test data"
      ]
    },
    {
      "cell_type": "code",
      "execution_count": 648,
      "metadata": {},
      "outputs": [
        {
          "data": {
            "text/plain": [
              "(0.7080908669796143, 0.737775389575497)"
            ]
          },
          "execution_count": 648,
          "metadata": {},
          "output_type": "execute_result"
        }
      ],
      "source": [
        "X_test = test_df['string']\n",
        "y_test = test_df['label']\n",
        "\n",
        "eval_model(model, X_test, y_test)"
      ]
    },
    {
      "cell_type": "markdown",
      "metadata": {},
      "source": [
        "### Short data"
      ]
    },
    {
      "cell_type": "code",
      "execution_count": 649,
      "metadata": {},
      "outputs": [
        {
          "data": {
            "text/plain": [
              "(0.7331932298375251, 0.7633587786259542)"
            ]
          },
          "execution_count": 649,
          "metadata": {},
          "output_type": "execute_result"
        }
      ],
      "source": [
        "short_df = test_df[test_df['string'].apply(lambda x: len(nltk.word_tokenize(x)) <= 25)]\n",
        "X_test_short = short_df['string']\n",
        "y_test_short = short_df['label']\n",
        "\n",
        "eval_model(model, X_test_short, y_test_short)"
      ]
    },
    {
      "cell_type": "markdown",
      "metadata": {},
      "source": [
        "### Long data"
      ]
    },
    {
      "cell_type": "code",
      "execution_count": 650,
      "metadata": {},
      "outputs": [
        {
          "data": {
            "text/plain": [
              "(0.7043028709541711, 0.7335834896810507)"
            ]
          },
          "execution_count": 650,
          "metadata": {},
          "output_type": "execute_result"
        }
      ],
      "source": [
        "long_df = test_df[test_df['string'].apply(lambda x: len(nltk.word_tokenize(x)) > 25)]\n",
        "\n",
        "X_test_long = long_df['string']\n",
        "y_test_long = long_df['label']\n",
        "\n",
        "eval_model(model, X_test_long, y_test_long)"
      ]
    },
    {
      "cell_type": "markdown",
      "metadata": {},
      "source": [
        "### Paragraph data"
      ]
    },
    {
      "cell_type": "code",
      "execution_count": 651,
      "metadata": {},
      "outputs": [
        {
          "data": {
            "text/plain": [
              "(0.7244923903962804, 0.7481840193704601)"
            ]
          },
          "execution_count": 651,
          "metadata": {},
          "output_type": "execute_result"
        }
      ],
      "source": [
        "paragraph_df = test_df[test_df['string'].apply(lambda x: len(nltk.sent_tokenize(x)) > 1)]\n",
        "X_test_paragraph = paragraph_df['string']\n",
        "y_test_paragraph = paragraph_df['label']\n",
        "\n",
        "eval_model(model, X_test_paragraph, y_test_paragraph)"
      ]
    },
    {
      "cell_type": "markdown",
      "metadata": {},
      "source": [
        "### Typo data"
      ]
    },
    {
      "cell_type": "code",
      "execution_count": 652,
      "metadata": {},
      "outputs": [
        {
          "data": {
            "text/plain": [
              "(0.6756503592063389, 0.7135948414830736)"
            ]
          },
          "execution_count": 652,
          "metadata": {},
          "output_type": "execute_result"
        }
      ],
      "source": [
        "def rearrange_letter(word):\n",
        "    word_list = list(word)\n",
        "    n = len(word_list)\n",
        "    if n == 1:\n",
        "        return ''.join(word_list)\n",
        "\n",
        "    idx = random.randint(0, n - 2)\n",
        "    word_list[idx], word_list[idx + 1] = word_list[idx + 1], word_list[idx]\n",
        "    return ''.join(word_list)\n",
        "\n",
        "def rearrange_word(text):\n",
        "    words = nltk.word_tokenize(text)\n",
        "    num_words = len(words)\n",
        "\n",
        "    # rearrange letter for some random word\n",
        "    for _ in range(5):\n",
        "        idx = random.randint(0, num_words - 1)\n",
        "        words[idx] = rearrange_letter(words[idx])\n",
        "\n",
        "    # rearrange word\n",
        "    for _ in range(min(3, num_words - 1)):\n",
        "        idx = random.randint(0, num_words - 2)\n",
        "        words[idx], words[idx + 1] = words[idx + 1], words[idx]\n",
        "\n",
        "    return ' '.join(words)\n",
        "\n",
        "typo_series = test_df['string'].apply(rearrange_word)\n",
        "\n",
        "typo_df = pd.DataFrame({\n",
        "    'label': test_df.label,\n",
        "    'string': typo_series\n",
        "})\n",
        "\n",
        "X_test_typo = typo_df['string']\n",
        "y_test_typo = typo_df['label']\n",
        "\n",
        "eval_model(model, X_test_typo, y_test_typo)"
      ]
    },
    {
      "cell_type": "markdown",
      "metadata": {},
      "source": [
        "### Synonymed data"
      ]
    },
    {
      "cell_type": "code",
      "execution_count": 653,
      "metadata": {},
      "outputs": [
        {
          "data": {
            "text/plain": [
              "(0.5679314293001464, 0.6609349811929071)"
            ]
          },
          "execution_count": 653,
          "metadata": {},
          "output_type": "execute_result"
        }
      ],
      "source": [
        "synonymized_test_df = pd.read_json('../synonymized.jsonl', lines=True)\n",
        "\n",
        "X_test_synonymed = synonymized_test_df['string']\n",
        "y_test_synonymed = synonymized_test_df['label']\n",
        "\n",
        "eval_model(model, X_test_synonymed, y_test_synonymed)"
      ]
    },
    {
      "cell_type": "markdown",
      "metadata": {},
      "source": [
        "### Paraphrased data"
      ]
    },
    {
      "cell_type": "code",
      "execution_count": 654,
      "metadata": {},
      "outputs": [
        {
          "data": {
            "text/plain": [
              "(0.6746244713586087, 0.7049973132724342)"
            ]
          },
          "execution_count": 654,
          "metadata": {},
          "output_type": "execute_result"
        }
      ],
      "source": [
        "paraphrased_test_df = pd.read_json('../paraphrased.jsonl', lines=True)\n",
        "\n",
        "X_test_paraphrased = paraphrased_test_df['string']\n",
        "y_test_paraphrased = paraphrased_test_df['label']\n",
        "\n",
        "eval_model(model, X_test_paraphrased, y_test_paraphrased)"
      ]
    }
  ],
  "metadata": {
    "colab": {
      "provenance": []
    },
    "kernelspec": {
      "display_name": "Python 3",
      "name": "python3"
    },
    "language_info": {
      "codemirror_mode": {
        "name": "ipython",
        "version": 3
      },
      "file_extension": ".py",
      "mimetype": "text/x-python",
      "name": "python",
      "nbconvert_exporter": "python",
      "pygments_lexer": "ipython3",
      "version": "3.9.6"
    }
  },
  "nbformat": 4,
  "nbformat_minor": 0
}
