{
 "cells": [
  {
   "cell_type": "code",
   "execution_count": 111,
   "metadata": {},
   "outputs": [],
   "source": [
    "import numpy as np\n",
    "import matplotlib.pyplot as plt\n",
    "import os\n",
    "import random\n",
    "import pandas as pd\n",
    "import nltk\n",
    "import tensorflow as tf\n",
    "import keras\n",
    "from nltk.tokenize import RegexpTokenizer\n",
    "from nltk.stem import WordNetLemmatizer\n",
    "from nltk.corpus import stopwords\n",
    "from sklearn.utils import resample\n",
    "from sklearn.feature_extraction.text import TfidfVectorizer\n",
    "from sklearn.model_selection import train_test_split\n",
    "from sklearn.model_selection import GridSearchCV\n",
    "from sklearn.feature_extraction.text import CountVectorizer\n",
    "\n",
    "# https://medium.com/voice-tech-podcast/text-classification-using-cnn-9ade8155dfb9\n",
    "from keras import regularizers\n",
    "from keras.models import Sequential\n",
    "from keras.layers import Dense, Flatten, Conv1D, MaxPooling1D, Embedding, Dropout, AveragePooling1D, BatchNormalization\n",
    "from keras.preprocessing import sequence\n",
    "from keras.preprocessing.text import Tokenizer"
   ]
  },
  {
   "cell_type": "code",
   "execution_count": 112,
   "metadata": {},
   "outputs": [],
   "source": [
    "keras.utils.set_random_seed(4248)"
   ]
  },
  {
   "cell_type": "code",
   "execution_count": 113,
   "metadata": {},
   "outputs": [
    {
     "data": {
      "text/html": [
       "<div>\n",
       "<style scoped>\n",
       "    .dataframe tbody tr th:only-of-type {\n",
       "        vertical-align: middle;\n",
       "    }\n",
       "\n",
       "    .dataframe tbody tr th {\n",
       "        vertical-align: top;\n",
       "    }\n",
       "\n",
       "    .dataframe thead th {\n",
       "        text-align: right;\n",
       "    }\n",
       "</style>\n",
       "<table border=\"1\" class=\"dataframe\">\n",
       "  <thead>\n",
       "    <tr style=\"text-align: right;\">\n",
       "      <th></th>\n",
       "      <th>source</th>\n",
       "      <th>citeEnd</th>\n",
       "      <th>sectionName</th>\n",
       "      <th>citeStart</th>\n",
       "      <th>string</th>\n",
       "      <th>label</th>\n",
       "      <th>label_confidence</th>\n",
       "      <th>citingPaperId</th>\n",
       "      <th>citedPaperId</th>\n",
       "      <th>isKeyCitation</th>\n",
       "      <th>id</th>\n",
       "      <th>unique_id</th>\n",
       "      <th>excerpt_index</th>\n",
       "      <th>label2</th>\n",
       "      <th>label2_confidence</th>\n",
       "    </tr>\n",
       "  </thead>\n",
       "  <tbody>\n",
       "    <tr>\n",
       "      <th>0</th>\n",
       "      <td>explicit</td>\n",
       "      <td>175.0</td>\n",
       "      <td>Introduction</td>\n",
       "      <td>168.0</td>\n",
       "      <td>However, how frataxin interacts with the Fe-S ...</td>\n",
       "      <td>background</td>\n",
       "      <td>1.0000</td>\n",
       "      <td>1872080baa7d30ec8fb87be9a65358cd3a7fb649</td>\n",
       "      <td>894be9b4ea46a5c422e81ef3c241072d4c73fdc0</td>\n",
       "      <td>True</td>\n",
       "      <td>1872080baa7d30ec8fb87be9a65358cd3a7fb649&gt;894be...</td>\n",
       "      <td>1872080baa7d30ec8fb87be9a65358cd3a7fb649&gt;894be...</td>\n",
       "      <td>11</td>\n",
       "      <td>NaN</td>\n",
       "      <td>NaN</td>\n",
       "    </tr>\n",
       "    <tr>\n",
       "      <th>1</th>\n",
       "      <td>explicit</td>\n",
       "      <td>36.0</td>\n",
       "      <td>Novel Quantitative Trait Loci for Seminal Root...</td>\n",
       "      <td>16.0</td>\n",
       "      <td>In the study by Hickey et al. (2012), spikes w...</td>\n",
       "      <td>background</td>\n",
       "      <td>1.0000</td>\n",
       "      <td>ce1d09a4a3a8d7fd3405b9328f65f00c952cf64b</td>\n",
       "      <td>b6642e19efb8db5623b3cc4eef1c5822a6151107</td>\n",
       "      <td>True</td>\n",
       "      <td>ce1d09a4a3a8d7fd3405b9328f65f00c952cf64b&gt;b6642...</td>\n",
       "      <td>ce1d09a4a3a8d7fd3405b9328f65f00c952cf64b&gt;b6642...</td>\n",
       "      <td>2</td>\n",
       "      <td>NaN</td>\n",
       "      <td>NaN</td>\n",
       "    </tr>\n",
       "    <tr>\n",
       "      <th>2</th>\n",
       "      <td>explicit</td>\n",
       "      <td>228.0</td>\n",
       "      <td>Introduction</td>\n",
       "      <td>225.0</td>\n",
       "      <td>The drug also reduces catecholamine secretion,...</td>\n",
       "      <td>background</td>\n",
       "      <td>1.0000</td>\n",
       "      <td>9cdf605beb1aa1078f235c4332b3024daa8b31dc</td>\n",
       "      <td>4e6a17fb8d7a3cada601d942e22eb5da6d01adbd</td>\n",
       "      <td>False</td>\n",
       "      <td>9cdf605beb1aa1078f235c4332b3024daa8b31dc&gt;4e6a1...</td>\n",
       "      <td>9cdf605beb1aa1078f235c4332b3024daa8b31dc&gt;4e6a1...</td>\n",
       "      <td>0</td>\n",
       "      <td>NaN</td>\n",
       "      <td>NaN</td>\n",
       "    </tr>\n",
       "    <tr>\n",
       "      <th>3</th>\n",
       "      <td>explicit</td>\n",
       "      <td>110.0</td>\n",
       "      <td>Discussion</td>\n",
       "      <td>46.0</td>\n",
       "      <td>By clustering with lowly aggressive close kin ...</td>\n",
       "      <td>background</td>\n",
       "      <td>1.0000</td>\n",
       "      <td>d9f3207db0c79a3b154f3875c9760cc6b056904b</td>\n",
       "      <td>2cc6ff899bf17666ad35893524a4d61624555ed7</td>\n",
       "      <td>False</td>\n",
       "      <td>d9f3207db0c79a3b154f3875c9760cc6b056904b&gt;2cc6f...</td>\n",
       "      <td>d9f3207db0c79a3b154f3875c9760cc6b056904b&gt;2cc6f...</td>\n",
       "      <td>3</td>\n",
       "      <td>NaN</td>\n",
       "      <td>NaN</td>\n",
       "    </tr>\n",
       "    <tr>\n",
       "      <th>4</th>\n",
       "      <td>explicit</td>\n",
       "      <td>239.0</td>\n",
       "      <td>Discussion</td>\n",
       "      <td>234.0</td>\n",
       "      <td>Ophthalmic symptoms are rare manifestations of...</td>\n",
       "      <td>background</td>\n",
       "      <td>1.0000</td>\n",
       "      <td>88b86556857f4374842d2af2e359576806239175</td>\n",
       "      <td>a5bb0ff1a026944d2a47a155462959af2b8505a8</td>\n",
       "      <td>False</td>\n",
       "      <td>88b86556857f4374842d2af2e359576806239175&gt;a5bb0...</td>\n",
       "      <td>88b86556857f4374842d2af2e359576806239175&gt;a5bb0...</td>\n",
       "      <td>2</td>\n",
       "      <td>NaN</td>\n",
       "      <td>NaN</td>\n",
       "    </tr>\n",
       "    <tr>\n",
       "      <th>...</th>\n",
       "      <td>...</td>\n",
       "      <td>...</td>\n",
       "      <td>...</td>\n",
       "      <td>...</td>\n",
       "      <td>...</td>\n",
       "      <td>...</td>\n",
       "      <td>...</td>\n",
       "      <td>...</td>\n",
       "      <td>...</td>\n",
       "      <td>...</td>\n",
       "      <td>...</td>\n",
       "      <td>...</td>\n",
       "      <td>...</td>\n",
       "      <td>...</td>\n",
       "      <td>...</td>\n",
       "    </tr>\n",
       "    <tr>\n",
       "      <th>8238</th>\n",
       "      <td>explicit</td>\n",
       "      <td>50.0</td>\n",
       "      <td></td>\n",
       "      <td>28.0</td>\n",
       "      <td>Importantly, the results of Pascalis et al. (2...</td>\n",
       "      <td>background</td>\n",
       "      <td>0.7350</td>\n",
       "      <td>6f68ccd37718366c40ae6aeedf0b935bf560b215</td>\n",
       "      <td>60ed4bdabf92b2fbd6162dbd8979888cccca55d7</td>\n",
       "      <td>True</td>\n",
       "      <td>6f68ccd37718366c40ae6aeedf0b935bf560b215&gt;60ed4...</td>\n",
       "      <td>6f68ccd37718366c40ae6aeedf0b935bf560b215&gt;60ed4...</td>\n",
       "      <td>15</td>\n",
       "      <td>NaN</td>\n",
       "      <td>NaN</td>\n",
       "    </tr>\n",
       "    <tr>\n",
       "      <th>8239</th>\n",
       "      <td>explicit</td>\n",
       "      <td>182.0</td>\n",
       "      <td>DISCUSSION</td>\n",
       "      <td>179.0</td>\n",
       "      <td>As suggested by Nguena et al, there is a need ...</td>\n",
       "      <td>background</td>\n",
       "      <td>0.7508</td>\n",
       "      <td>f2a1c1704f9587c94ed95bc98179dc499e933f5e</td>\n",
       "      <td>574e659da7f6c62c07bfaaacd1f31d65bd75524c</td>\n",
       "      <td>True</td>\n",
       "      <td>f2a1c1704f9587c94ed95bc98179dc499e933f5e&gt;574e6...</td>\n",
       "      <td>f2a1c1704f9587c94ed95bc98179dc499e933f5e&gt;574e6...</td>\n",
       "      <td>1</td>\n",
       "      <td>NaN</td>\n",
       "      <td>NaN</td>\n",
       "    </tr>\n",
       "    <tr>\n",
       "      <th>8240</th>\n",
       "      <td>explicit</td>\n",
       "      <td>120.0</td>\n",
       "      <td>DISCUSSION</td>\n",
       "      <td>108.0</td>\n",
       "      <td>Skeletal muscle is also a primary site of dise...</td>\n",
       "      <td>background</td>\n",
       "      <td>1.0000</td>\n",
       "      <td>18c97ea2ff60c110cc2a523e0fdf729608cbb083</td>\n",
       "      <td>fc13b9c3dfcc121013edaa12fa8ce7842aaed21a</td>\n",
       "      <td>False</td>\n",
       "      <td>18c97ea2ff60c110cc2a523e0fdf729608cbb083&gt;fc13b...</td>\n",
       "      <td>18c97ea2ff60c110cc2a523e0fdf729608cbb083&gt;fc13b...</td>\n",
       "      <td>8</td>\n",
       "      <td>NaN</td>\n",
       "      <td>NaN</td>\n",
       "    </tr>\n",
       "    <tr>\n",
       "      <th>8241</th>\n",
       "      <td>explicit</td>\n",
       "      <td>221.0</td>\n",
       "      <td></td>\n",
       "      <td>185.0</td>\n",
       "      <td>ACTIVATION OF TRANSCRIPTION FACTORS Roles for ...</td>\n",
       "      <td>method</td>\n",
       "      <td>NaN</td>\n",
       "      <td>4ec9b89857c0b27e8a4bd3745b7358f387773527</td>\n",
       "      <td>81affdba19e38e2b17cf7b9e93792cc2028cf21d</td>\n",
       "      <td>True</td>\n",
       "      <td>4ec9b89857c0b27e8a4bd3745b7358f387773527&gt;81aff...</td>\n",
       "      <td>4ec9b89857c0b27e8a4bd3745b7358f387773527&gt;81aff...</td>\n",
       "      <td>0</td>\n",
       "      <td>NaN</td>\n",
       "      <td>NaN</td>\n",
       "    </tr>\n",
       "    <tr>\n",
       "      <th>8242</th>\n",
       "      <td>explicit</td>\n",
       "      <td>102.0</td>\n",
       "      <td>Introduction</td>\n",
       "      <td>82.0</td>\n",
       "      <td>Most studies focused on the relation between b...</td>\n",
       "      <td>background</td>\n",
       "      <td>1.0000</td>\n",
       "      <td>42c954cad0de68657d4429b512d8fe75dceef13c</td>\n",
       "      <td>00afbfb391f7c15a73a4257b2c0fcd9767ece6a8</td>\n",
       "      <td>True</td>\n",
       "      <td>42c954cad0de68657d4429b512d8fe75dceef13c&gt;00afb...</td>\n",
       "      <td>42c954cad0de68657d4429b512d8fe75dceef13c&gt;00afb...</td>\n",
       "      <td>0</td>\n",
       "      <td>NaN</td>\n",
       "      <td>NaN</td>\n",
       "    </tr>\n",
       "  </tbody>\n",
       "</table>\n",
       "<p>8243 rows × 15 columns</p>\n",
       "</div>"
      ],
      "text/plain": [
       "        source  citeEnd  ... label2  label2_confidence\n",
       "0     explicit    175.0  ...    NaN                NaN\n",
       "1     explicit     36.0  ...    NaN                NaN\n",
       "2     explicit    228.0  ...    NaN                NaN\n",
       "3     explicit    110.0  ...    NaN                NaN\n",
       "4     explicit    239.0  ...    NaN                NaN\n",
       "...        ...      ...  ...    ...                ...\n",
       "8238  explicit     50.0  ...    NaN                NaN\n",
       "8239  explicit    182.0  ...    NaN                NaN\n",
       "8240  explicit    120.0  ...    NaN                NaN\n",
       "8241  explicit    221.0  ...    NaN                NaN\n",
       "8242  explicit    102.0  ...    NaN                NaN\n",
       "\n",
       "[8243 rows x 15 columns]"
      ]
     },
     "execution_count": 113,
     "metadata": {},
     "output_type": "execute_result"
    }
   ],
   "source": [
    "train_df = pd.read_json('train.jsonl', lines=True)\n",
    "X_train = train_df['string']\n",
    "y_train = train_df['label']\n",
    "\n",
    "dev_df = pd.read_json('dev.jsonl', lines=True)\n",
    "X_dev = dev_df['string']\n",
    "y_dev = dev_df['label']\n",
    "\n",
    "test_df = pd.read_json('test.jsonl', lines=True)\n",
    "X_test = test_df['string']\n",
    "y_test = test_df['label']\n",
    "\n",
    "train_df"
   ]
  },
  {
   "cell_type": "code",
   "execution_count": 114,
   "metadata": {},
   "outputs": [],
   "source": [
    "def cleaning(text):\n",
    "    stop_words = stopwords.words('english')\n",
    "    text = text.lower()\n",
    "    text = ' '.join(x for x in text.split() if x not in stop_words)\n",
    "    return text"
   ]
  },
  {
   "cell_type": "code",
   "execution_count": 115,
   "metadata": {},
   "outputs": [],
   "source": [
    "def lemmatize(text):\n",
    "    lemmatizer = WordNetLemmatizer()\n",
    "    words = []\n",
    "    for x in text.split():\n",
    "        x = lemmatizer.lemmatize(x)\n",
    "        words.append(x)\n",
    "    text = ' '.join(words)\n",
    "    return text"
   ]
  },
  {
   "cell_type": "code",
   "execution_count": 116,
   "metadata": {},
   "outputs": [],
   "source": [
    "def preprocessing(text):\n",
    "    # Tokenization\n",
    "    tokenizer = RegexpTokenizer(r'[a-zA-Z0-9]+')\n",
    "    text = cleaning(text)\n",
    "    text = lemmatize(text)\n",
    "    text = ' '.join(tokenizer.tokenize(text))\n",
    "    return text"
   ]
  },
  {
   "cell_type": "code",
   "execution_count": 117,
   "metadata": {},
   "outputs": [],
   "source": [
    "def augment_data_multiclass(X, y):\n",
    "    df = pd.concat([X, y], axis=1)\n",
    "    majority_class_size = df['label'].value_counts().max()\n",
    "    upsampled_dataframes = []\n",
    "    for class_label in df['label'].unique():\n",
    "        class_df = df[df['label'] == class_label]\n",
    "        if len(class_df) < majority_class_size:\n",
    "            class_df_upsampled = resample(class_df, replace=True, n_samples=majority_class_size, random_state=10)\n",
    "            upsampled_dataframes.append(class_df_upsampled)\n",
    "        else:\n",
    "            upsampled_dataframes.append(class_df)\n",
    "    upsampled_df = pd.concat(upsampled_dataframes)\n",
    "    return upsampled_df['string'], upsampled_df['label']"
   ]
  },
  {
   "cell_type": "code",
   "execution_count": 118,
   "metadata": {},
   "outputs": [],
   "source": [
    "# X_train, y_train = augment_data_multiclass(X_train, y_train)"
   ]
  },
  {
   "cell_type": "code",
   "execution_count": 119,
   "metadata": {},
   "outputs": [],
   "source": [
    "X_train_preprocessed = X_train.apply(lambda x: preprocessing(x))\n",
    "X_dev_preprocessed = X_dev.apply(lambda x: preprocessing(x))\n",
    "X_test_preprocessed = X_test.apply(lambda x: preprocessing(x))"
   ]
  },
  {
   "cell_type": "markdown",
   "metadata": {},
   "source": [
    "# Feature Extraction"
   ]
  },
  {
   "cell_type": "code",
   "execution_count": 120,
   "metadata": {},
   "outputs": [],
   "source": [
    "# X_train, y_train = augment_data_multiclass(X_train, y_train)\n",
    "# cv = CountVectorizer(ngram_range=(1,1), preprocessor=preprocessing, max_features=5000)\n",
    "# X_train_bow = cv.fit_transform(X_train)\n",
    "# X_dev_bow = cv.transform(X_dev)\n",
    "# X_test_bow = cv.transform(X_test)"
   ]
  },
  {
   "cell_type": "code",
   "execution_count": 121,
   "metadata": {},
   "outputs": [],
   "source": [
    "# #X_train, y_train = augment_data_multiclass(X_train, y_train)\n",
    "# vectorizer = TfidfVectorizer(preprocessor=preprocessing, ngram_range=(1, 2), min_df=3, max_df=0.5, use_idf=True, smooth_idf=True,\n",
    "#                              max_features=1000)\n",
    "# X_train_tfidf = vectorizer.fit_transform(X_train)\n",
    "# X_dev_tfidf = vectorizer.transform(X_dev)\n",
    "# X_test_tfidf = vectorizer.transform(X_test)"
   ]
  },
  {
   "cell_type": "code",
   "execution_count": 122,
   "metadata": {},
   "outputs": [],
   "source": [
    "num_words = 3000\n",
    "tokenizer = Tokenizer(num_words=num_words)\n",
    "tokenizer.fit_on_texts(X_train)"
   ]
  },
  {
   "cell_type": "code",
   "execution_count": 123,
   "metadata": {},
   "outputs": [],
   "source": [
    "X_train_tokenized = tokenizer.texts_to_sequences(X_train_preprocessed)\n",
    "X_dev_tokenized = tokenizer.texts_to_sequences(X_dev_preprocessed)\n",
    "X_test_tokenized = tokenizer.texts_to_sequences(X_test_preprocessed)\n",
    "\n",
    "# X_train_tokenized = tokenizer.texts_to_matrix(X_train_preprocessed)\n",
    "# X_dev_tokenized = tokenizer.texts_to_matrix(X_dev_preprocessed)\n",
    "# X_test_tokenized = tokenizer.texts_to_matrix(X_test_preprocessed)\n",
    "\n",
    "# X_train_tokenized = X_train_tfidf\n",
    "# X_dev_tokenized = X_dev_tfidf\n",
    "# X_test_tokenized = X_test_tfidf"
   ]
  },
  {
   "cell_type": "code",
   "execution_count": 124,
   "metadata": {},
   "outputs": [
    {
     "data": {
      "text/plain": [
       "30596"
      ]
     },
     "execution_count": 124,
     "metadata": {},
     "output_type": "execute_result"
    }
   ],
   "source": [
    "vocab_size = len(tokenizer.word_index) + 1\n",
    "vocab_size"
   ]
  },
  {
   "cell_type": "code",
   "execution_count": 125,
   "metadata": {},
   "outputs": [
    {
     "data": {
      "text/plain": [
       "235"
      ]
     },
     "execution_count": 125,
     "metadata": {},
     "output_type": "execute_result"
    }
   ],
   "source": [
    "initial_data = [X_train_tokenized, X_dev_tokenized, X_test_tokenized]\n",
    "longest_length = -1\n",
    "for dataset in initial_data:\n",
    "    for arr in dataset:\n",
    "        if len(arr) > longest_length:\n",
    "            longest_length = len(arr)\n",
    "\n",
    "longest_length"
   ]
  },
  {
   "cell_type": "code",
   "execution_count": 126,
   "metadata": {},
   "outputs": [],
   "source": [
    "max_words = 250\n",
    "X_train_padded = sequence.pad_sequences(X_train_tokenized, maxlen=max_words, padding='pre')\n",
    "X_dev_padded = sequence.pad_sequences(X_dev_tokenized, maxlen=max_words, padding='pre')\n",
    "X_test_padded = sequence.pad_sequences(X_test_tokenized, maxlen=max_words, padding='pre')"
   ]
  },
  {
   "cell_type": "markdown",
   "metadata": {},
   "source": [
    "# Model"
   ]
  },
  {
   "cell_type": "code",
   "execution_count": 127,
   "metadata": {},
   "outputs": [],
   "source": [
    "embeddings_dictionary = dict()\n",
    "f = open('glove.6B/glove.6B.100d.txt', encoding=\"utf8\")\n",
    "for line in f.readlines():\n",
    "    records = line.split()\n",
    "    word = records[0]\n",
    "    vector_dimensions = np.asarray(records[1:], dtype='float32')\n",
    "    embeddings_dictionary[word] = vector_dimensions\n",
    "f.close()"
   ]
  },
  {
   "cell_type": "code",
   "execution_count": 128,
   "metadata": {},
   "outputs": [
    {
     "data": {
      "text/plain": [
       "array([[ 0.        ,  0.        ,  0.        , ...,  0.        ,\n",
       "         0.        ,  0.        ],\n",
       "       [-0.038194  , -0.24487001,  0.72812003, ..., -0.1459    ,\n",
       "         0.82779998,  0.27061999],\n",
       "       [-0.071953  ,  0.23127   ,  0.023731  , ..., -0.71894997,\n",
       "         0.86894   ,  0.19539   ],\n",
       "       ...,\n",
       "       [-0.39030999, -0.083025  , -0.67050999, ..., -0.83982998,\n",
       "         0.58714998, -0.13801999],\n",
       "       [-0.33013999, -0.95363998, -0.51998001, ..., -0.35080999,\n",
       "        -0.81892002, -0.023499  ],\n",
       "       [ 0.19399001, -0.15526   , -0.37463999, ..., -0.12037   ,\n",
       "         0.12235   , -0.067194  ]])"
      ]
     },
     "execution_count": 128,
     "metadata": {},
     "output_type": "execute_result"
    }
   ],
   "source": [
    "embedding_matrix = np.zeros((vocab_size, 100))\n",
    "for word, index in tokenizer.word_index.items():\n",
    "    if index > vocab_size - 1:\n",
    "        break\n",
    "    else:\n",
    "        embedding_vector = embeddings_dictionary.get(word)\n",
    "        if embedding_vector is not None:\n",
    "            embedding_matrix[index] = embedding_vector\n",
    "\n",
    "embedding_matrix"
   ]
  },
  {
   "cell_type": "code",
   "execution_count": 135,
   "metadata": {},
   "outputs": [
    {
     "name": "stdout",
     "output_type": "stream",
     "text": [
      "Model: \"sequential_10\"\n",
      "_________________________________________________________________\n",
      " Layer (type)                Output Shape              Param #   \n",
      "=================================================================\n",
      " embedding_10 (Embedding)    (None, 250, 100)          3059600   \n",
      "                                                                 \n",
      " dropout_20 (Dropout)        (None, 250, 100)          0         \n",
      "                                                                 \n",
      " conv1d_14 (Conv1D)          (None, 250, 80)           24080     \n",
      "                                                                 \n",
      " max_pooling1d_14 (MaxPooli  (None, 125, 80)           0         \n",
      " ng1D)                                                           \n",
      "                                                                 \n",
      " flatten_10 (Flatten)        (None, 10000)             0         \n",
      "                                                                 \n",
      " dense_20 (Dense)            (None, 250)               2500250   \n",
      "                                                                 \n",
      " dropout_21 (Dropout)        (None, 250)               0         \n",
      "                                                                 \n",
      " dense_21 (Dense)            (None, 1)                 251       \n",
      "                                                                 \n",
      "=================================================================\n",
      "Total params: 5584181 (21.30 MB)\n",
      "Trainable params: 2524581 (9.63 MB)\n",
      "Non-trainable params: 3059600 (11.67 MB)\n",
      "_________________________________________________________________\n"
     ]
    }
   ],
   "source": [
    "# Initializing CNN\n",
    "model = Sequential()\n",
    "# Dimensions for embedding? \n",
    "# https://medium.com/@matti.kwan/optimal-dimensions-for-word-embeddings-take-two-27b79e719699\n",
    "# model.add(Embedding(num_words, 80, embeddings_regularizer=regularizers.l2(0.0005)))\n",
    "model.add(Embedding(embedding_matrix.shape[0], embedding_matrix.shape[1], weights=[embedding_matrix], input_length=max_words, trainable=False))\n",
    "# model.add(BatchNormalization())\n",
    "model.add(Dropout(0.5, seed=4248))\n",
    "# model.add(Embedding(num_words, 64, input_length=max_words))\n",
    "model.add(Conv1D(80, 3, padding='same', activation='relu', bias_regularizer=regularizers.l2(0.0005), kernel_regularizer=regularizers.l2(0.0005)))\n",
    "model.add(MaxPooling1D())\n",
    "# model.add(Conv1D(150, 3, padding='same', activation='relu', bias_regularizer=regularizers.l2(0.0005), kernel_regularizer=regularizers.l2(0.0005)))\n",
    "# model.add(MaxPooling1D())\n",
    "# model.add(Conv1D(32, 3, padding='same', activation='linear'))\n",
    "# model.add(Conv1D(64, 3, padding='same', activation='sigmoid'))\n",
    "# model.add(Conv1D(64, 3, padding='same', activation='relu'))\n",
    "# model.add(Conv1D(128, 3, padding='same', activation='relu'))\n",
    "# model.add(Conv1D(32, 3, padding='same', activation='tanh'))\n",
    "# model.add(AveragePooling1D(pool_size=2))\n",
    "model.add(Flatten())\n",
    "model.add(Dense(250, activation='relu', kernel_regularizer=regularizers.l2(0.0005), bias_regularizer=regularizers.l2(0.0005)))\n",
    "model.add(Dropout(0.4, seed=4248))\n",
    "model.add(Dense(1, activation='sigmoid', kernel_regularizer=regularizers.l2(0.0005), bias_regularizer=regularizers.l2(0.0005)))\n",
    "\n",
    "\n",
    "model.compile(optimizer='adam', loss='binary_crossentropy', metrics='accuracy')\n",
    "# model.compile(optimizer='adam', loss='binary_crossentropy', metrics=['accuracy', 'f1_score', 'precision', 'recall'])\n",
    "model.summary()"
   ]
  },
  {
   "cell_type": "code",
   "execution_count": 136,
   "metadata": {},
   "outputs": [
    {
     "name": "stdout",
     "output_type": "stream",
     "text": [
      "int64\n",
      "int64\n",
      "int64\n"
     ]
    }
   ],
   "source": [
    "classes = y_train.unique().tolist()\n",
    "\n",
    "y_train_int = y_train.apply(func=lambda x: classes.index(x))\n",
    "y_dev_int = y_dev.apply(func=lambda x: classes.index(x))\n",
    "y_test_int = y_test.apply(func=lambda x: classes.index(x))\n",
    "\n",
    "print(y_train_int.dtype)\n",
    "print(y_dev_int.dtype)\n",
    "print(y_test_int.dtype)"
   ]
  },
  {
   "cell_type": "code",
   "execution_count": 137,
   "metadata": {},
   "outputs": [
    {
     "name": "stdout",
     "output_type": "stream",
     "text": [
      "Epoch 1/20\n",
      "65/65 - 13s - loss: 0.8153 - accuracy: 0.4487 - val_loss: 0.6934 - val_accuracy: 0.4323 - 13s/epoch - 193ms/step\n",
      "Epoch 2/20\n",
      "65/65 - 10s - loss: 0.5730 - accuracy: 0.5286 - val_loss: 0.4998 - val_accuracy: 0.5666 - 10s/epoch - 152ms/step\n",
      "Epoch 3/20\n",
      "65/65 - 11s - loss: 0.4321 - accuracy: 0.5511 - val_loss: 0.3340 - val_accuracy: 0.5426 - 11s/epoch - 166ms/step\n",
      "Epoch 4/20\n",
      "65/65 - 11s - loss: 0.1628 - accuracy: 0.5561 - val_loss: -3.9326e-02 - val_accuracy: 0.5360 - 11s/epoch - 176ms/step\n",
      "Epoch 5/20\n",
      "65/65 - 11s - loss: -9.7791e-01 - accuracy: 0.5511 - val_loss: -2.0152e+00 - val_accuracy: 0.5895 - 11s/epoch - 174ms/step\n",
      "Epoch 6/20\n",
      "65/65 - 12s - loss: -3.8636e+00 - accuracy: 0.5504 - val_loss: -7.0972e+00 - val_accuracy: 0.5579 - 12s/epoch - 179ms/step\n",
      "Epoch 7/20\n",
      "65/65 - 12s - loss: -1.3015e+01 - accuracy: 0.5523 - val_loss: -1.8719e+01 - val_accuracy: 0.5448 - 12s/epoch - 179ms/step\n",
      "Epoch 8/20\n",
      "65/65 - 12s - loss: -3.3106e+01 - accuracy: 0.5350 - val_loss: -4.1439e+01 - val_accuracy: 0.5622 - 12s/epoch - 188ms/step\n",
      "Epoch 9/20\n",
      "65/65 - 11s - loss: -6.9233e+01 - accuracy: 0.5460 - val_loss: -7.6844e+01 - val_accuracy: 0.5808 - 11s/epoch - 177ms/step\n",
      "Epoch 10/20\n",
      "65/65 - 12s - loss: -1.1845e+02 - accuracy: 0.5423 - val_loss: -1.3204e+02 - val_accuracy: 0.5328 - 12s/epoch - 180ms/step\n",
      "Epoch 11/20\n",
      "65/65 - 12s - loss: -1.8916e+02 - accuracy: 0.5352 - val_loss: -2.0163e+02 - val_accuracy: 0.5688 - 12s/epoch - 180ms/step\n",
      "Epoch 12/20\n",
      "65/65 - 12s - loss: -2.9750e+02 - accuracy: 0.5334 - val_loss: -3.1458e+02 - val_accuracy: 0.5229 - 12s/epoch - 180ms/step\n",
      "Epoch 13/20\n",
      "65/65 - 12s - loss: -4.2601e+02 - accuracy: 0.5447 - val_loss: -4.3062e+02 - val_accuracy: 0.5677 - 12s/epoch - 180ms/step\n",
      "Epoch 14/20\n",
      "65/65 - 12s - loss: -5.5693e+02 - accuracy: 0.5445 - val_loss: -5.5008e+02 - val_accuracy: 0.5317 - 12s/epoch - 186ms/step\n",
      "Epoch 15/20\n",
      "65/65 - 13s - loss: -7.2443e+02 - accuracy: 0.5020 - val_loss: -7.5124e+02 - val_accuracy: 0.5207 - 13s/epoch - 193ms/step\n",
      "Epoch 16/20\n",
      "65/65 - 11s - loss: -9.1119e+02 - accuracy: 0.5145 - val_loss: -9.0908e+02 - val_accuracy: 0.5371 - 11s/epoch - 173ms/step\n",
      "Epoch 17/20\n",
      "65/65 - 11s - loss: -1.1269e+03 - accuracy: 0.5020 - val_loss: -1.1277e+03 - val_accuracy: 0.5273 - 11s/epoch - 175ms/step\n",
      "Epoch 18/20\n",
      "65/65 - 11s - loss: -1.3687e+03 - accuracy: 0.5019 - val_loss: -1.3273e+03 - val_accuracy: 0.5448 - 11s/epoch - 173ms/step\n",
      "Epoch 19/20\n",
      "65/65 - 12s - loss: -1.6790e+03 - accuracy: 0.4885 - val_loss: -1.6362e+03 - val_accuracy: 0.5546 - 12s/epoch - 181ms/step\n",
      "Epoch 20/20\n",
      "65/65 - 13s - loss: -2.0139e+03 - accuracy: 0.4694 - val_loss: -1.9068e+03 - val_accuracy: 0.5393 - 13s/epoch - 193ms/step\n"
     ]
    }
   ],
   "source": [
    "history = model.fit(X_train_padded, \n",
    "          y_train_int, \n",
    "          validation_data=(X_dev_padded, y_dev_int), \n",
    "          epochs=20, \n",
    "          batch_size=128, \n",
    "          verbose=2)\n",
    "\n",
    "# history = model.fit(X_train_tfidf.toarray(), \n",
    "#           y_train_int, \n",
    "#           validation_data=(X_dev_tfidf.toarray(), y_dev_int), \n",
    "#           epochs=5, \n",
    "#           batch_size=128, \n",
    "#           verbose=2)"
   ]
  },
  {
   "cell_type": "code",
   "execution_count": 138,
   "metadata": {},
   "outputs": [
    {
     "name": "stdout",
     "output_type": "stream",
     "text": [
      "59/59 [==============================] - 1s 19ms/step - loss: -1322.1432 - accuracy: 0.5304\n",
      "Accuracy: 53.036004304885864%\n"
     ]
    }
   ],
   "source": [
    "scores = model.evaluate(X_test_padded, y_test_int)\n",
    "# scores = model.evaluate(X_test_tfidf.toarray(), y_test_int)\n",
    "\n",
    "# MaxLen    Epochs  Accuracy                Details\n",
    "# 1000      25      53.78828644752502%      No Preprocess, batch_size=128, verbose=2\n",
    "# 1000      2       53.036004304885864%     No Preprocess, batch_size=128, verbose=2\n",
    "# 1000      50      52.82106399536133%      No Preprocess, batch_size=128, verbose=2\n",
    "# 1000      5       53.788286447525024%     Preprocess, batch_size=128, verbose=2\n",
    "# 1000      5       49.758195877075195%     Preprocess, batch_size=128, verbose=2, Embedding output_dim = 64\n",
    "# 1000      5       50.56421160697937%      Preprocess, batch_size=128, verbose=2, Embedding output_dim = 64, Conv1d(64, 32), Dropout(0.3), Conv1d(32,3)\n",
    "# 1000      5       32.50940442085266%      Preprocess, batch_size=128, verbose=2, TfIdfVectorizer\n",
    "# 1000      5       51.7463743686676%       Preprocess, batch_size=128, verbose=2, Padding=\"Post\"\n",
    "# 1000      5       49.32831823825836%      Preprocess, batch_size=128, verbose=2, Padding=\"Post\", add conv1d 64 and conv1d 128 after conv1d 32\n",
    "# 1000      5       49.865663051605225%     Preprocess, batch_size=128, verbose=2, add conv1d 64 and conv1d 128 after conv1d 32\n",
    "# 1000      10      51.37023329734802%      Preprocess, batch_size=128, verbose=2, add conv1d 64 and conv1d 128 after conv1d 32\n",
    "# 1000      10      32%                     Preprocess, batch_size=32, verbose=2, add conv1d 64 and conv1d 128 after conv1d 32\n",
    "# 1000      10      52.76733040809631%      Preprocess, batch_size=128, verbose=2, add dense(100) below dense(250)\n",
    "# 1000      10      53.84202003479004%      Preprocess, batch_size=128, verbose=2\n",
    "print(f\"Accuracy: {scores[1] * 100}%\")\n",
    "# print(f\"F1 Score: {scores[2] * 100}%\")\n",
    "# print(f\"Recall: {scores[3] * 100}%\")\n",
    "# print(f\"Precision: {scores[4] * 100}%\")"
   ]
  },
  {
   "cell_type": "code",
   "execution_count": 139,
   "metadata": {},
   "outputs": [],
   "source": [
    "# With reference to https://realpython.com/python-keras-text-classification/#your-first-keras-model\n",
    "# Plotting histogram\n",
    "import matplotlib.pyplot as plt\n",
    "plt.style.use('ggplot')\n",
    "\n",
    "def plot_history(history):\n",
    "    acc = history.history['accuracy']\n",
    "    val_acc = history.history['val_accuracy']\n",
    "    loss = history.history['loss']\n",
    "    val_loss = history.history['val_loss']\n",
    "    x = range(1, len(acc) + 1)\n",
    "\n",
    "    plt.figure(figsize=(12, 5))\n",
    "    plt.subplot(1, 2, 1)\n",
    "    plt.plot(x, acc, 'b', label='Training acc')\n",
    "    plt.plot(x, val_acc, 'r', label='Validation acc')\n",
    "    plt.title('Training and validation accuracy')\n",
    "    plt.legend()\n",
    "    plt.subplot(1, 2, 2)\n",
    "    plt.plot(x, loss, 'b', label='Training loss')\n",
    "    plt.plot(x, val_loss, 'r', label='Validation loss')\n",
    "    plt.title('Training and validation loss')\n",
    "    plt.legend()"
   ]
  },
  {
   "cell_type": "code",
   "execution_count": 140,
   "metadata": {},
   "outputs": [
    {
     "data": {
      "image/png": "[encoded data removed]",
      "text/plain": [
       "<Figure size 1200x500 with 2 Axes>"
      ]
     },
     "metadata": {},
     "output_type": "display_data"
    }
   ],
   "source": [
    "plot_history(history)\n",
    "# history.history"
   ]
  }
 ],
 "metadata": {
  "kernelspec": {
   "display_name": "Python 3",
   "language": "python",
   "name": "python3"
  },
  "language_info": {
   "codemirror_mode": {
    "name": "ipython",
    "version": 3
   },
   "file_extension": ".py",
   "mimetype": "text/x-python",
   "name": "python",
   "nbconvert_exporter": "python",
   "pygments_lexer": "ipython3",
   "version": "3.9.12"
  }
 },
 "nbformat": 4,
 "nbformat_minor": 2
}
