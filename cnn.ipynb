{
 "cells": [
  {
   "cell_type": "code",
   "execution_count": 97,
   "metadata": {},
   "outputs": [],
   "source": [
    "import numpy as np\n",
    "import matplotlib.pyplot as plt\n",
    "import os\n",
    "import random\n",
    "import pandas as pd\n",
    "import nltk\n",
    "from nltk.tokenize import RegexpTokenizer\n",
    "from nltk.stem import WordNetLemmatizer\n",
    "from nltk.corpus import stopwords\n",
    "from sklearn.utils import resample\n",
    "from sklearn.feature_extraction.text import TfidfVectorizer\n",
    "from sklearn.model_selection import train_test_split\n",
    "from sklearn.model_selection import GridSearchCV\n",
    "from sklearn.feature_extraction.text import CountVectorizer\n",
    "\n",
    "# https://medium.com/voice-tech-podcast/text-classification-using-cnn-9ade8155dfb9\n",
    "from keras.models import Sequential\n",
    "from keras.layers import Dense, Flatten, Conv1D, MaxPooling1D, Embedding, Dropout\n",
    "from keras.preprocessing import sequence\n",
    "from keras.preprocessing.text import Tokenizer"
   ]
  },
  {
   "cell_type": "code",
   "execution_count": 98,
   "metadata": {},
   "outputs": [
    {
     "data": {
      "text/html": [
       "<div>\n",
       "<style scoped>\n",
       "    .dataframe tbody tr th:only-of-type {\n",
       "        vertical-align: middle;\n",
       "    }\n",
       "\n",
       "    .dataframe tbody tr th {\n",
       "        vertical-align: top;\n",
       "    }\n",
       "\n",
       "    .dataframe thead th {\n",
       "        text-align: right;\n",
       "    }\n",
       "</style>\n",
       "<table border=\"1\" class=\"dataframe\">\n",
       "  <thead>\n",
       "    <tr style=\"text-align: right;\">\n",
       "      <th></th>\n",
       "      <th>source</th>\n",
       "      <th>citeEnd</th>\n",
       "      <th>sectionName</th>\n",
       "      <th>citeStart</th>\n",
       "      <th>string</th>\n",
       "      <th>label</th>\n",
       "      <th>label_confidence</th>\n",
       "      <th>citingPaperId</th>\n",
       "      <th>citedPaperId</th>\n",
       "      <th>isKeyCitation</th>\n",
       "      <th>id</th>\n",
       "      <th>unique_id</th>\n",
       "      <th>excerpt_index</th>\n",
       "      <th>label2</th>\n",
       "      <th>label2_confidence</th>\n",
       "    </tr>\n",
       "  </thead>\n",
       "  <tbody>\n",
       "    <tr>\n",
       "      <th>0</th>\n",
       "      <td>explicit</td>\n",
       "      <td>175.0</td>\n",
       "      <td>Introduction</td>\n",
       "      <td>168.0</td>\n",
       "      <td>However, how frataxin interacts with the Fe-S ...</td>\n",
       "      <td>background</td>\n",
       "      <td>1.0000</td>\n",
       "      <td>1872080baa7d30ec8fb87be9a65358cd3a7fb649</td>\n",
       "      <td>894be9b4ea46a5c422e81ef3c241072d4c73fdc0</td>\n",
       "      <td>True</td>\n",
       "      <td>1872080baa7d30ec8fb87be9a65358cd3a7fb649&gt;894be...</td>\n",
       "      <td>1872080baa7d30ec8fb87be9a65358cd3a7fb649&gt;894be...</td>\n",
       "      <td>11</td>\n",
       "      <td>NaN</td>\n",
       "      <td>NaN</td>\n",
       "    </tr>\n",
       "    <tr>\n",
       "      <th>1</th>\n",
       "      <td>explicit</td>\n",
       "      <td>36.0</td>\n",
       "      <td>Novel Quantitative Trait Loci for Seminal Root...</td>\n",
       "      <td>16.0</td>\n",
       "      <td>In the study by Hickey et al. (2012), spikes w...</td>\n",
       "      <td>background</td>\n",
       "      <td>1.0000</td>\n",
       "      <td>ce1d09a4a3a8d7fd3405b9328f65f00c952cf64b</td>\n",
       "      <td>b6642e19efb8db5623b3cc4eef1c5822a6151107</td>\n",
       "      <td>True</td>\n",
       "      <td>ce1d09a4a3a8d7fd3405b9328f65f00c952cf64b&gt;b6642...</td>\n",
       "      <td>ce1d09a4a3a8d7fd3405b9328f65f00c952cf64b&gt;b6642...</td>\n",
       "      <td>2</td>\n",
       "      <td>NaN</td>\n",
       "      <td>NaN</td>\n",
       "    </tr>\n",
       "    <tr>\n",
       "      <th>2</th>\n",
       "      <td>explicit</td>\n",
       "      <td>228.0</td>\n",
       "      <td>Introduction</td>\n",
       "      <td>225.0</td>\n",
       "      <td>The drug also reduces catecholamine secretion,...</td>\n",
       "      <td>background</td>\n",
       "      <td>1.0000</td>\n",
       "      <td>9cdf605beb1aa1078f235c4332b3024daa8b31dc</td>\n",
       "      <td>4e6a17fb8d7a3cada601d942e22eb5da6d01adbd</td>\n",
       "      <td>False</td>\n",
       "      <td>9cdf605beb1aa1078f235c4332b3024daa8b31dc&gt;4e6a1...</td>\n",
       "      <td>9cdf605beb1aa1078f235c4332b3024daa8b31dc&gt;4e6a1...</td>\n",
       "      <td>0</td>\n",
       "      <td>NaN</td>\n",
       "      <td>NaN</td>\n",
       "    </tr>\n",
       "    <tr>\n",
       "      <th>3</th>\n",
       "      <td>explicit</td>\n",
       "      <td>110.0</td>\n",
       "      <td>Discussion</td>\n",
       "      <td>46.0</td>\n",
       "      <td>By clustering with lowly aggressive close kin ...</td>\n",
       "      <td>background</td>\n",
       "      <td>1.0000</td>\n",
       "      <td>d9f3207db0c79a3b154f3875c9760cc6b056904b</td>\n",
       "      <td>2cc6ff899bf17666ad35893524a4d61624555ed7</td>\n",
       "      <td>False</td>\n",
       "      <td>d9f3207db0c79a3b154f3875c9760cc6b056904b&gt;2cc6f...</td>\n",
       "      <td>d9f3207db0c79a3b154f3875c9760cc6b056904b&gt;2cc6f...</td>\n",
       "      <td>3</td>\n",
       "      <td>NaN</td>\n",
       "      <td>NaN</td>\n",
       "    </tr>\n",
       "    <tr>\n",
       "      <th>4</th>\n",
       "      <td>explicit</td>\n",
       "      <td>239.0</td>\n",
       "      <td>Discussion</td>\n",
       "      <td>234.0</td>\n",
       "      <td>Ophthalmic symptoms are rare manifestations of...</td>\n",
       "      <td>background</td>\n",
       "      <td>1.0000</td>\n",
       "      <td>88b86556857f4374842d2af2e359576806239175</td>\n",
       "      <td>a5bb0ff1a026944d2a47a155462959af2b8505a8</td>\n",
       "      <td>False</td>\n",
       "      <td>88b86556857f4374842d2af2e359576806239175&gt;a5bb0...</td>\n",
       "      <td>88b86556857f4374842d2af2e359576806239175&gt;a5bb0...</td>\n",
       "      <td>2</td>\n",
       "      <td>NaN</td>\n",
       "      <td>NaN</td>\n",
       "    </tr>\n",
       "    <tr>\n",
       "      <th>...</th>\n",
       "      <td>...</td>\n",
       "      <td>...</td>\n",
       "      <td>...</td>\n",
       "      <td>...</td>\n",
       "      <td>...</td>\n",
       "      <td>...</td>\n",
       "      <td>...</td>\n",
       "      <td>...</td>\n",
       "      <td>...</td>\n",
       "      <td>...</td>\n",
       "      <td>...</td>\n",
       "      <td>...</td>\n",
       "      <td>...</td>\n",
       "      <td>...</td>\n",
       "      <td>...</td>\n",
       "    </tr>\n",
       "    <tr>\n",
       "      <th>8238</th>\n",
       "      <td>explicit</td>\n",
       "      <td>50.0</td>\n",
       "      <td></td>\n",
       "      <td>28.0</td>\n",
       "      <td>Importantly, the results of Pascalis et al. (2...</td>\n",
       "      <td>background</td>\n",
       "      <td>0.7350</td>\n",
       "      <td>6f68ccd37718366c40ae6aeedf0b935bf560b215</td>\n",
       "      <td>60ed4bdabf92b2fbd6162dbd8979888cccca55d7</td>\n",
       "      <td>True</td>\n",
       "      <td>6f68ccd37718366c40ae6aeedf0b935bf560b215&gt;60ed4...</td>\n",
       "      <td>6f68ccd37718366c40ae6aeedf0b935bf560b215&gt;60ed4...</td>\n",
       "      <td>15</td>\n",
       "      <td>NaN</td>\n",
       "      <td>NaN</td>\n",
       "    </tr>\n",
       "    <tr>\n",
       "      <th>8239</th>\n",
       "      <td>explicit</td>\n",
       "      <td>182.0</td>\n",
       "      <td>DISCUSSION</td>\n",
       "      <td>179.0</td>\n",
       "      <td>As suggested by Nguena et al, there is a need ...</td>\n",
       "      <td>background</td>\n",
       "      <td>0.7508</td>\n",
       "      <td>f2a1c1704f9587c94ed95bc98179dc499e933f5e</td>\n",
       "      <td>574e659da7f6c62c07bfaaacd1f31d65bd75524c</td>\n",
       "      <td>True</td>\n",
       "      <td>f2a1c1704f9587c94ed95bc98179dc499e933f5e&gt;574e6...</td>\n",
       "      <td>f2a1c1704f9587c94ed95bc98179dc499e933f5e&gt;574e6...</td>\n",
       "      <td>1</td>\n",
       "      <td>NaN</td>\n",
       "      <td>NaN</td>\n",
       "    </tr>\n",
       "    <tr>\n",
       "      <th>8240</th>\n",
       "      <td>explicit</td>\n",
       "      <td>120.0</td>\n",
       "      <td>DISCUSSION</td>\n",
       "      <td>108.0</td>\n",
       "      <td>Skeletal muscle is also a primary site of dise...</td>\n",
       "      <td>background</td>\n",
       "      <td>1.0000</td>\n",
       "      <td>18c97ea2ff60c110cc2a523e0fdf729608cbb083</td>\n",
       "      <td>fc13b9c3dfcc121013edaa12fa8ce7842aaed21a</td>\n",
       "      <td>False</td>\n",
       "      <td>18c97ea2ff60c110cc2a523e0fdf729608cbb083&gt;fc13b...</td>\n",
       "      <td>18c97ea2ff60c110cc2a523e0fdf729608cbb083&gt;fc13b...</td>\n",
       "      <td>8</td>\n",
       "      <td>NaN</td>\n",
       "      <td>NaN</td>\n",
       "    </tr>\n",
       "    <tr>\n",
       "      <th>8241</th>\n",
       "      <td>explicit</td>\n",
       "      <td>221.0</td>\n",
       "      <td></td>\n",
       "      <td>185.0</td>\n",
       "      <td>ACTIVATION OF TRANSCRIPTION FACTORS Roles for ...</td>\n",
       "      <td>method</td>\n",
       "      <td>NaN</td>\n",
       "      <td>4ec9b89857c0b27e8a4bd3745b7358f387773527</td>\n",
       "      <td>81affdba19e38e2b17cf7b9e93792cc2028cf21d</td>\n",
       "      <td>True</td>\n",
       "      <td>4ec9b89857c0b27e8a4bd3745b7358f387773527&gt;81aff...</td>\n",
       "      <td>4ec9b89857c0b27e8a4bd3745b7358f387773527&gt;81aff...</td>\n",
       "      <td>0</td>\n",
       "      <td>NaN</td>\n",
       "      <td>NaN</td>\n",
       "    </tr>\n",
       "    <tr>\n",
       "      <th>8242</th>\n",
       "      <td>explicit</td>\n",
       "      <td>102.0</td>\n",
       "      <td>Introduction</td>\n",
       "      <td>82.0</td>\n",
       "      <td>Most studies focused on the relation between b...</td>\n",
       "      <td>background</td>\n",
       "      <td>1.0000</td>\n",
       "      <td>42c954cad0de68657d4429b512d8fe75dceef13c</td>\n",
       "      <td>00afbfb391f7c15a73a4257b2c0fcd9767ece6a8</td>\n",
       "      <td>True</td>\n",
       "      <td>42c954cad0de68657d4429b512d8fe75dceef13c&gt;00afb...</td>\n",
       "      <td>42c954cad0de68657d4429b512d8fe75dceef13c&gt;00afb...</td>\n",
       "      <td>0</td>\n",
       "      <td>NaN</td>\n",
       "      <td>NaN</td>\n",
       "    </tr>\n",
       "  </tbody>\n",
       "</table>\n",
       "<p>8243 rows × 15 columns</p>\n",
       "</div>"
      ],
      "text/plain": [
       "        source  citeEnd                                        sectionName  \\\n",
       "0     explicit    175.0                                       Introduction   \n",
       "1     explicit     36.0  Novel Quantitative Trait Loci for Seminal Root...   \n",
       "2     explicit    228.0                                       Introduction   \n",
       "3     explicit    110.0                                         Discussion   \n",
       "4     explicit    239.0                                         Discussion   \n",
       "...        ...      ...                                                ...   \n",
       "8238  explicit     50.0                                                      \n",
       "8239  explicit    182.0                                         DISCUSSION   \n",
       "8240  explicit    120.0                                         DISCUSSION   \n",
       "8241  explicit    221.0                                                      \n",
       "8242  explicit    102.0                                       Introduction   \n",
       "\n",
       "      citeStart                                             string  \\\n",
       "0         168.0  However, how frataxin interacts with the Fe-S ...   \n",
       "1          16.0  In the study by Hickey et al. (2012), spikes w...   \n",
       "2         225.0  The drug also reduces catecholamine secretion,...   \n",
       "3          46.0  By clustering with lowly aggressive close kin ...   \n",
       "4         234.0  Ophthalmic symptoms are rare manifestations of...   \n",
       "...         ...                                                ...   \n",
       "8238       28.0  Importantly, the results of Pascalis et al. (2...   \n",
       "8239      179.0  As suggested by Nguena et al, there is a need ...   \n",
       "8240      108.0  Skeletal muscle is also a primary site of dise...   \n",
       "8241      185.0  ACTIVATION OF TRANSCRIPTION FACTORS Roles for ...   \n",
       "8242       82.0  Most studies focused on the relation between b...   \n",
       "\n",
       "           label  label_confidence                             citingPaperId  \\\n",
       "0     background            1.0000  1872080baa7d30ec8fb87be9a65358cd3a7fb649   \n",
       "1     background            1.0000  ce1d09a4a3a8d7fd3405b9328f65f00c952cf64b   \n",
       "2     background            1.0000  9cdf605beb1aa1078f235c4332b3024daa8b31dc   \n",
       "3     background            1.0000  d9f3207db0c79a3b154f3875c9760cc6b056904b   \n",
       "4     background            1.0000  88b86556857f4374842d2af2e359576806239175   \n",
       "...          ...               ...                                       ...   \n",
       "8238  background            0.7350  6f68ccd37718366c40ae6aeedf0b935bf560b215   \n",
       "8239  background            0.7508  f2a1c1704f9587c94ed95bc98179dc499e933f5e   \n",
       "8240  background            1.0000  18c97ea2ff60c110cc2a523e0fdf729608cbb083   \n",
       "8241      method               NaN  4ec9b89857c0b27e8a4bd3745b7358f387773527   \n",
       "8242  background            1.0000  42c954cad0de68657d4429b512d8fe75dceef13c   \n",
       "\n",
       "                                  citedPaperId  isKeyCitation  \\\n",
       "0     894be9b4ea46a5c422e81ef3c241072d4c73fdc0           True   \n",
       "1     b6642e19efb8db5623b3cc4eef1c5822a6151107           True   \n",
       "2     4e6a17fb8d7a3cada601d942e22eb5da6d01adbd          False   \n",
       "3     2cc6ff899bf17666ad35893524a4d61624555ed7          False   \n",
       "4     a5bb0ff1a026944d2a47a155462959af2b8505a8          False   \n",
       "...                                        ...            ...   \n",
       "8238  60ed4bdabf92b2fbd6162dbd8979888cccca55d7           True   \n",
       "8239  574e659da7f6c62c07bfaaacd1f31d65bd75524c           True   \n",
       "8240  fc13b9c3dfcc121013edaa12fa8ce7842aaed21a          False   \n",
       "8241  81affdba19e38e2b17cf7b9e93792cc2028cf21d           True   \n",
       "8242  00afbfb391f7c15a73a4257b2c0fcd9767ece6a8           True   \n",
       "\n",
       "                                                     id  \\\n",
       "0     1872080baa7d30ec8fb87be9a65358cd3a7fb649>894be...   \n",
       "1     ce1d09a4a3a8d7fd3405b9328f65f00c952cf64b>b6642...   \n",
       "2     9cdf605beb1aa1078f235c4332b3024daa8b31dc>4e6a1...   \n",
       "3     d9f3207db0c79a3b154f3875c9760cc6b056904b>2cc6f...   \n",
       "4     88b86556857f4374842d2af2e359576806239175>a5bb0...   \n",
       "...                                                 ...   \n",
       "8238  6f68ccd37718366c40ae6aeedf0b935bf560b215>60ed4...   \n",
       "8239  f2a1c1704f9587c94ed95bc98179dc499e933f5e>574e6...   \n",
       "8240  18c97ea2ff60c110cc2a523e0fdf729608cbb083>fc13b...   \n",
       "8241  4ec9b89857c0b27e8a4bd3745b7358f387773527>81aff...   \n",
       "8242  42c954cad0de68657d4429b512d8fe75dceef13c>00afb...   \n",
       "\n",
       "                                              unique_id  excerpt_index label2  \\\n",
       "0     1872080baa7d30ec8fb87be9a65358cd3a7fb649>894be...             11    NaN   \n",
       "1     ce1d09a4a3a8d7fd3405b9328f65f00c952cf64b>b6642...              2    NaN   \n",
       "2     9cdf605beb1aa1078f235c4332b3024daa8b31dc>4e6a1...              0    NaN   \n",
       "3     d9f3207db0c79a3b154f3875c9760cc6b056904b>2cc6f...              3    NaN   \n",
       "4     88b86556857f4374842d2af2e359576806239175>a5bb0...              2    NaN   \n",
       "...                                                 ...            ...    ...   \n",
       "8238  6f68ccd37718366c40ae6aeedf0b935bf560b215>60ed4...             15    NaN   \n",
       "8239  f2a1c1704f9587c94ed95bc98179dc499e933f5e>574e6...              1    NaN   \n",
       "8240  18c97ea2ff60c110cc2a523e0fdf729608cbb083>fc13b...              8    NaN   \n",
       "8241  4ec9b89857c0b27e8a4bd3745b7358f387773527>81aff...              0    NaN   \n",
       "8242  42c954cad0de68657d4429b512d8fe75dceef13c>00afb...              0    NaN   \n",
       "\n",
       "      label2_confidence  \n",
       "0                   NaN  \n",
       "1                   NaN  \n",
       "2                   NaN  \n",
       "3                   NaN  \n",
       "4                   NaN  \n",
       "...                 ...  \n",
       "8238                NaN  \n",
       "8239                NaN  \n",
       "8240                NaN  \n",
       "8241                NaN  \n",
       "8242                NaN  \n",
       "\n",
       "[8243 rows x 15 columns]"
      ]
     },
     "execution_count": 98,
     "metadata": {},
     "output_type": "execute_result"
    }
   ],
   "source": [
    "train_df = pd.read_json('train.jsonl', lines=True)\n",
    "X_train = train_df['string']\n",
    "y_train = train_df['label']\n",
    "\n",
    "dev_df = pd.read_json('dev.jsonl', lines=True)\n",
    "X_dev = dev_df['string']\n",
    "y_dev = dev_df['label']\n",
    "\n",
    "test_df = pd.read_json('test.jsonl', lines=True)\n",
    "X_test = test_df['string']\n",
    "y_test = test_df['label']\n",
    "\n",
    "train_df"
   ]
  },
  {
   "cell_type": "code",
   "execution_count": 99,
   "metadata": {},
   "outputs": [],
   "source": [
    "def cleaning(text):\n",
    "    stop_words = stopwords.words('english')\n",
    "    text = text.lower()\n",
    "    text = ' '.join(x for x in text.split() if x not in stop_words)\n",
    "    return text"
   ]
  },
  {
   "cell_type": "code",
   "execution_count": 100,
   "metadata": {},
   "outputs": [],
   "source": [
    "def lemmatize(text):\n",
    "    lemmatizer = WordNetLemmatizer()\n",
    "    words = []\n",
    "    for x in text.split():\n",
    "        x = lemmatizer.lemmatize(x)\n",
    "        words.append(x)\n",
    "    text = ' '.join(words)\n",
    "    return text"
   ]
  },
  {
   "cell_type": "code",
   "execution_count": 101,
   "metadata": {},
   "outputs": [],
   "source": [
    "def preprocessing(text):\n",
    "    # Tokenization\n",
    "    tokenizer = RegexpTokenizer(r'[a-zA-Z0-9]+')\n",
    "    text = cleaning(text)\n",
    "    text = lemmatize(text)\n",
    "    text = ' '.join(tokenizer.tokenize(text))\n",
    "    return text"
   ]
  },
  {
   "cell_type": "code",
   "execution_count": 102,
   "metadata": {},
   "outputs": [],
   "source": [
    "def augment_data_multiclass(X, y):\n",
    "    df = pd.concat([X, y], axis=1)\n",
    "    majority_class_size = df['label'].value_counts().max()\n",
    "    upsampled_dataframes = []\n",
    "    for class_label in df['label'].unique():\n",
    "        class_df = df[df['label'] == class_label]\n",
    "        if len(class_df) < majority_class_size:\n",
    "            class_df_upsampled = resample(class_df, replace=True, n_samples=majority_class_size, random_state=10)\n",
    "            upsampled_dataframes.append(class_df_upsampled)\n",
    "        else:\n",
    "            upsampled_dataframes.append(class_df)\n",
    "    upsampled_df = pd.concat(upsampled_dataframes)\n",
    "    return upsampled_df['string'], upsampled_df['label']"
   ]
  },
  {
   "cell_type": "code",
   "execution_count": 103,
   "metadata": {},
   "outputs": [],
   "source": [
    "X_train_preprocessed = X_train.apply(lambda x: preprocessing(x))\n",
    "X_dev_preprocessed = X_dev.apply(lambda x: preprocessing(x))\n",
    "X_test_preprocessed = X_test.apply(lambda x: preprocessing(x))"
   ]
  },
  {
   "cell_type": "markdown",
   "metadata": {},
   "source": [
    "# Feature Extraction"
   ]
  },
  {
   "cell_type": "code",
   "execution_count": 104,
   "metadata": {},
   "outputs": [],
   "source": [
    "# #X_train, y_train = augment_data_multiclass(X_train, y_train)\n",
    "# cv = CountVectorizer(ngram_range=(1,1), preprocessor=preprocessing, max_features=5000)\n",
    "# X_train_bow = cv.fit_transform(X_train)\n",
    "# X_dev_bow = cv.transform(X_dev)\n",
    "# X_test_bow = cv.transform(X_test)"
   ]
  },
  {
   "cell_type": "code",
   "execution_count": 105,
   "metadata": {},
   "outputs": [],
   "source": [
    "# #X_train, y_train = augment_data_multiclass(X_train, y_train)\n",
    "# vectorizer = TfidfVectorizer(preprocessor=preprocessing, ngram_range=(1, 2), min_df=3, max_df=0.5, use_idf=True, smooth_idf=True,\n",
    "#                              max_features=1000)\n",
    "# X_train_tfidf = vectorizer.fit_transform(X_train)\n",
    "# X_dev_tfidf = vectorizer.transform(X_dev)\n",
    "# X_test_tfidf = vectorizer.transform(X_test)"
   ]
  },
  {
   "cell_type": "code",
   "execution_count": 106,
   "metadata": {},
   "outputs": [],
   "source": [
    "num_words = 5000\n",
    "tokenizer = Tokenizer(num_words=num_words)\n",
    "tokenizer.fit_on_texts(X_train)"
   ]
  },
  {
   "cell_type": "code",
   "execution_count": 107,
   "metadata": {},
   "outputs": [],
   "source": [
    "X_train_tokenized = tokenizer.texts_to_sequences(X_train_preprocessed)\n",
    "X_dev_tokenized = tokenizer.texts_to_sequences(X_dev_preprocessed)\n",
    "X_test_tokenized = tokenizer.texts_to_sequences(X_test_preprocessed)\n",
    "# X_train_tokenized = X_train_tfidf\n",
    "# X_dev_tokenized = X_dev_tfidf\n",
    "# X_test_tokenized = X_test_tfidf"
   ]
  },
  {
   "cell_type": "code",
   "execution_count": 108,
   "metadata": {},
   "outputs": [
    {
     "data": {
      "text/plain": [
       "30596"
      ]
     },
     "execution_count": 108,
     "metadata": {},
     "output_type": "execute_result"
    }
   ],
   "source": [
    "vocab_size = len(tokenizer.word_index) + 1\n",
    "vocab_size"
   ]
  },
  {
   "cell_type": "code",
   "execution_count": 109,
   "metadata": {},
   "outputs": [],
   "source": [
    "max_words = 1000\n",
    "X_train_padded = sequence.pad_sequences(X_train_tokenized, maxlen=max_words, padding='post')\n",
    "X_dev_padded = sequence.pad_sequences(X_dev_tokenized, maxlen=max_words, padding='post')\n",
    "X_test_padded = sequence.pad_sequences(X_test_tokenized, maxlen=max_words, padding='post')"
   ]
  },
  {
   "cell_type": "markdown",
   "metadata": {},
   "source": [
    "# Model"
   ]
  },
  {
   "cell_type": "code",
   "execution_count": 110,
   "metadata": {},
   "outputs": [
    {
     "name": "stdout",
     "output_type": "stream",
     "text": [
      "Model: \"sequential_10\"\n",
      "_________________________________________________________________\n",
      " Layer (type)                Output Shape              Param #   \n",
      "=================================================================\n",
      " embedding_10 (Embedding)    (None, 1000, 32)          160000    \n",
      "                                                                 \n",
      " conv1d_11 (Conv1D)          (None, 1000, 32)          3104      \n",
      "                                                                 \n",
      " max_pooling1d_9 (MaxPoolin  (None, 500, 32)           0         \n",
      " g1D)                                                            \n",
      "                                                                 \n",
      " flatten_9 (Flatten)         (None, 16000)             0         \n",
      "                                                                 \n",
      " dense_18 (Dense)            (None, 250)               4000250   \n",
      "                                                                 \n",
      " dense_19 (Dense)            (None, 1)                 251       \n",
      "                                                                 \n",
      "=================================================================\n",
      "Total params: 4163605 (15.88 MB)\n",
      "Trainable params: 4163605 (15.88 MB)\n",
      "Non-trainable params: 0 (0.00 Byte)\n",
      "_________________________________________________________________\n"
     ]
    }
   ],
   "source": [
    "# Initializing CNN\n",
    "model = Sequential()\n",
    "# Dimensions for embedding? \n",
    "# https://medium.com/@matti.kwan/optimal-dimensions-for-word-embeddings-take-two-27b79e719699\n",
    "model.add(Embedding(num_words, 32, input_length=max_words))\n",
    "# model.add(Embedding(num_words, 64, input_length=max_words))\n",
    "model.add(Conv1D(32, 3, padding='same', activation='relu'))\n",
    "model.add(MaxPooling1D())\n",
    "model.add(Flatten())\n",
    "model.add(Dense(250, activation='relu'))\n",
    "model.add(Dense(1, activation='sigmoid'))\n",
    "\n",
    "\n",
    "model.compile(optimizer='adam', loss='binary_crossentropy', metrics='accuracy')\n",
    "model.summary()"
   ]
  },
  {
   "cell_type": "code",
   "execution_count": 111,
   "metadata": {},
   "outputs": [
    {
     "name": "stdout",
     "output_type": "stream",
     "text": [
      "int64\n",
      "int64\n",
      "int64\n"
     ]
    }
   ],
   "source": [
    "classes = y_train.unique().tolist()\n",
    "\n",
    "y_train_int = y_train.apply(func=lambda x: classes.index(x))\n",
    "y_dev_int = y_dev.apply(func=lambda x: classes.index(x))\n",
    "y_test_int = y_test.apply(func=lambda x: classes.index(x))\n",
    "\n",
    "print(y_train_int.dtype)\n",
    "print(y_dev_int.dtype)\n",
    "print(y_test_int.dtype)"
   ]
  },
  {
   "cell_type": "code",
   "execution_count": 112,
   "metadata": {},
   "outputs": [
    {
     "name": "stdout",
     "output_type": "stream",
     "text": [
      "Epoch 1/5\n"
     ]
    },
    {
     "name": "stdout",
     "output_type": "stream",
     "text": [
      "65/65 - 13s - loss: 0.6669 - accuracy: 0.3259 - val_loss: 0.5143 - val_accuracy: 0.4662 - 13s/epoch - 199ms/step\n",
      "Epoch 2/5\n",
      "65/65 - 11s - loss: -1.2970e+00 - accuracy: 0.6263 - val_loss: -4.1889e+00 - val_accuracy: 0.5688 - 11s/epoch - 164ms/step\n",
      "Epoch 3/5\n",
      "65/65 - 12s - loss: -3.0091e+01 - accuracy: 0.6088 - val_loss: -4.9958e+01 - val_accuracy: 0.5131 - 12s/epoch - 179ms/step\n",
      "Epoch 4/5\n",
      "65/65 - 12s - loss: -2.0833e+02 - accuracy: 0.5892 - val_loss: -2.6754e+02 - val_accuracy: 0.5284 - 12s/epoch - 190ms/step\n",
      "Epoch 5/5\n",
      "65/65 - 13s - loss: -8.2388e+02 - accuracy: 0.5868 - val_loss: -8.4397e+02 - val_accuracy: 0.5415 - 13s/epoch - 194ms/step\n"
     ]
    }
   ],
   "source": [
    "history = model.fit(X_train_padded, \n",
    "          y_train_int, \n",
    "          validation_data=(X_dev_padded, y_dev_int), \n",
    "          epochs=5, \n",
    "          batch_size=128, \n",
    "          verbose=2)\n",
    "\n",
    "# history = model.fit(X_train_tfidf.toarray(), \n",
    "#           y_train_int, \n",
    "#           validation_data=(X_dev_tfidf.toarray(), y_dev_int), \n",
    "#           epochs=5, \n",
    "#           batch_size=128, \n",
    "#           verbose=2)"
   ]
  },
  {
   "cell_type": "code",
   "execution_count": 113,
   "metadata": {},
   "outputs": [
    {
     "name": "stdout",
     "output_type": "stream",
     "text": [
      "59/59 [==============================] - 1s 18ms/step - loss: -724.9597 - accuracy: 0.5175\n",
      "Accuracy: 51.7463743686676%\n"
     ]
    }
   ],
   "source": [
    "scores = model.evaluate(X_test_padded, y_test_int)\n",
    "# scores = model.evaluate(X_test_tfidf.toarray(), y_test_int)\n",
    "\n",
    "# MaxLen    Epochs  Accuracy                Details\n",
    "# 1000      25      53.78828644752502%      No Preprocess, batch_size=128, verbose=2\n",
    "# 1000      2       53.036004304885864%     No Preprocess, batch_size=128, verbose=2\n",
    "# 1000      50      52.82106399536133%      No Preprocess, batch_size=128, verbose=2\n",
    "# 1000      5       53.788286447525024%     Preprocess, batch_size=128, verbose=2\n",
    "# 1000      5       49.758195877075195%     Preprocess, batch_size=128, verbose=2, Embedding output_dim = 64\n",
    "# 1000      5       50.56421160697937%      Preprocess, batch_size=128, verbose=2, Embedding output_dim = 64, Conv1d(64, 32), Dropout(0.3), Conv1d(32,3)\n",
    "# 1000      5       32.50940442085266%      Preprocess, batch_size=128, verbose=2, TfIdfVectorizer\n",
    "# 1000      5       51.7463743686676%       Preprocess, batch_size=128, verbose=2, Padding=\"Post\"\n",
    "print(f\"Accuracy: {scores[1] * 100}%\")"
   ]
  },
  {
   "cell_type": "code",
   "execution_count": 114,
   "metadata": {},
   "outputs": [
    {
     "data": {
      "text/plain": [
       "1000"
      ]
     },
     "execution_count": 114,
     "metadata": {},
     "output_type": "execute_result"
    }
   ],
   "source": [
    "len(vectorizer.vocabulary_)"
   ]
  },
  {
   "cell_type": "code",
   "execution_count": 115,
   "metadata": {},
   "outputs": [],
   "source": [
    "# With reference to https://realpython.com/python-keras-text-classification/#your-first-keras-model\n",
    "# Plotting histogram\n",
    "import matplotlib.pyplot as plt\n",
    "plt.style.use('ggplot')\n",
    "\n",
    "def plot_history(history):\n",
    "    acc = history.history['accuracy']\n",
    "    val_acc = history.history['val_accuracy']\n",
    "    loss = history.history['loss']\n",
    "    val_loss = history.history['val_loss']\n",
    "    x = range(1, len(acc) + 1)\n",
    "\n",
    "    plt.figure(figsize=(12, 5))\n",
    "    plt.subplot(1, 2, 1)\n",
    "    plt.plot(x, acc, 'b', label='Training acc')\n",
    "    plt.plot(x, val_acc, 'r', label='Validation acc')\n",
    "    plt.title('Training and validation accuracy')\n",
    "    plt.legend()\n",
    "    plt.subplot(1, 2, 2)\n",
    "    plt.plot(x, loss, 'b', label='Training loss')\n",
    "    plt.plot(x, val_loss, 'r', label='Validation loss')\n",
    "    plt.title('Training and validation loss')\n",
    "    plt.legend()"
   ]
  },
  {
   "cell_type": "code",
   "execution_count": 116,
   "metadata": {},
   "outputs": [
    {
     "data": {
      "image/png": "[encoded data removed]",
      "text/plain": [
       "<Figure size 1200x500 with 2 Axes>"
      ]
     },
     "metadata": {},
     "output_type": "display_data"
    }
   ],
   "source": [
    "plot_history(history)\n",
    "# history.history"
   ]
  }
 ],
 "metadata": {
  "kernelspec": {
   "display_name": "Python 3",
   "language": "python",
   "name": "python3"
  },
  "language_info": {
   "codemirror_mode": {
    "name": "ipython",
    "version": 3
   },
   "file_extension": ".py",
   "mimetype": "text/x-python",
   "name": "python",
   "nbconvert_exporter": "python",
   "pygments_lexer": "ipython3",
   "version": "3.9.12"
  }
 },
 "nbformat": 4,
 "nbformat_minor": 2
}
