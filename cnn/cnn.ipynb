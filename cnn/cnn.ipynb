{
 "cells": [
  {
   "cell_type": "code",
   "execution_count": 24,
   "metadata": {},
   "outputs": [
    {
     "name": "stdout",
     "output_type": "stream",
     "text": [
      "env: PYTHONHASHSEED=0\n"
     ]
    }
   ],
   "source": [
    "# Ensure deterministic results\n",
    "%env PYTHONHASHSEED=0"
   ]
  },
  {
   "cell_type": "code",
   "execution_count": 25,
   "metadata": {},
   "outputs": [
    {
     "name": "stderr",
     "output_type": "stream",
     "text": [
      "[nltk_data] Downloading package stopwords to\n",
      "[nltk_data]     C:\\Users\\TimothyKoei\\AppData\\Roaming\\nltk_data...\n",
      "[nltk_data]   Package stopwords is already up-to-date!\n",
      "[nltk_data] Downloading package wordnet to\n",
      "[nltk_data]     C:\\Users\\TimothyKoei\\AppData\\Roaming\\nltk_data...\n",
      "[nltk_data]   Package wordnet is already up-to-date!\n"
     ]
    },
    {
     "data": {
      "text/plain": [
       "True"
      ]
     },
     "execution_count": 25,
     "metadata": {},
     "output_type": "execute_result"
    }
   ],
   "source": [
    "import os\n",
    "import random\n",
    "import numpy as np\n",
    "import matplotlib.pyplot as plt\n",
    "import pandas as pd\n",
    "import nltk\n",
    "import tensorflow as tf\n",
    "import keras\n",
    "from nltk.tokenize import RegexpTokenizer\n",
    "from nltk.stem import WordNetLemmatizer\n",
    "from nltk.corpus import stopwords\n",
    "from sklearn.utils import resample\n",
    "from sklearn.feature_extraction.text import TfidfVectorizer\n",
    "from sklearn.model_selection import train_test_split\n",
    "from sklearn.model_selection import GridSearchCV\n",
    "from sklearn.feature_extraction.text import CountVectorizer\n",
    "from sklearn.preprocessing import LabelEncoder\n",
    "\n",
    "from keras import regularizers\n",
    "from keras.models import Sequential\n",
    "from keras.layers import Dense, Flatten, Conv1D, MaxPooling1D, Embedding, Dropout, AveragePooling1D, BatchNormalization\n",
    "from keras.preprocessing import sequence\n",
    "from keras.preprocessing.text import Tokenizer\n",
    "\n",
    "nltk.download(\"stopwords\")\n",
    "nltk.download(\"wordnet\")"
   ]
  },
  {
   "cell_type": "code",
   "execution_count": 26,
   "metadata": {},
   "outputs": [],
   "source": [
    "# Ensure deterministic results\n",
    "seed = 4248\n",
    "\n",
    "# os.environ['PYTHONHASHSEED']=str(seed)\n",
    "random.seed(seed)\n",
    "np.random.seed(seed)\n",
    "tf.random.set_seed(seed)\n",
    "keras.utils.set_random_seed(seed)\n",
    "session_conf = tf.compat.v1.ConfigProto(intra_op_parallelism_threads=1, inter_op_parallelism_threads=1)\n",
    "sess = tf.compat.v1.Session(graph=tf.compat.v1.get_default_graph(), config=session_conf)\n",
    "tf.compat.v1.keras.backend.set_session(sess)"
   ]
  },
  {
   "cell_type": "code",
   "execution_count": 27,
   "metadata": {},
   "outputs": [
    {
     "data": {
      "text/html": [
       "<div>\n",
       "<style scoped>\n",
       "    .dataframe tbody tr th:only-of-type {\n",
       "        vertical-align: middle;\n",
       "    }\n",
       "\n",
       "    .dataframe tbody tr th {\n",
       "        vertical-align: top;\n",
       "    }\n",
       "\n",
       "    .dataframe thead th {\n",
       "        text-align: right;\n",
       "    }\n",
       "</style>\n",
       "<table border=\"1\" class=\"dataframe\">\n",
       "  <thead>\n",
       "    <tr style=\"text-align: right;\">\n",
       "      <th></th>\n",
       "      <th>source</th>\n",
       "      <th>citeEnd</th>\n",
       "      <th>sectionName</th>\n",
       "      <th>citeStart</th>\n",
       "      <th>string</th>\n",
       "      <th>label</th>\n",
       "      <th>label_confidence</th>\n",
       "      <th>citingPaperId</th>\n",
       "      <th>citedPaperId</th>\n",
       "      <th>isKeyCitation</th>\n",
       "      <th>id</th>\n",
       "      <th>unique_id</th>\n",
       "      <th>excerpt_index</th>\n",
       "      <th>label2</th>\n",
       "      <th>label2_confidence</th>\n",
       "    </tr>\n",
       "  </thead>\n",
       "  <tbody>\n",
       "    <tr>\n",
       "      <th>0</th>\n",
       "      <td>explicit</td>\n",
       "      <td>175.0</td>\n",
       "      <td>Introduction</td>\n",
       "      <td>168.0</td>\n",
       "      <td>However, how frataxin interacts with the Fe-S ...</td>\n",
       "      <td>background</td>\n",
       "      <td>1.0000</td>\n",
       "      <td>1872080baa7d30ec8fb87be9a65358cd3a7fb649</td>\n",
       "      <td>894be9b4ea46a5c422e81ef3c241072d4c73fdc0</td>\n",
       "      <td>True</td>\n",
       "      <td>1872080baa7d30ec8fb87be9a65358cd3a7fb649&gt;894be...</td>\n",
       "      <td>1872080baa7d30ec8fb87be9a65358cd3a7fb649&gt;894be...</td>\n",
       "      <td>11</td>\n",
       "      <td>NaN</td>\n",
       "      <td>NaN</td>\n",
       "    </tr>\n",
       "    <tr>\n",
       "      <th>1</th>\n",
       "      <td>explicit</td>\n",
       "      <td>36.0</td>\n",
       "      <td>Novel Quantitative Trait Loci for Seminal Root...</td>\n",
       "      <td>16.0</td>\n",
       "      <td>In the study by Hickey et al. (2012), spikes w...</td>\n",
       "      <td>background</td>\n",
       "      <td>1.0000</td>\n",
       "      <td>ce1d09a4a3a8d7fd3405b9328f65f00c952cf64b</td>\n",
       "      <td>b6642e19efb8db5623b3cc4eef1c5822a6151107</td>\n",
       "      <td>True</td>\n",
       "      <td>ce1d09a4a3a8d7fd3405b9328f65f00c952cf64b&gt;b6642...</td>\n",
       "      <td>ce1d09a4a3a8d7fd3405b9328f65f00c952cf64b&gt;b6642...</td>\n",
       "      <td>2</td>\n",
       "      <td>NaN</td>\n",
       "      <td>NaN</td>\n",
       "    </tr>\n",
       "    <tr>\n",
       "      <th>2</th>\n",
       "      <td>explicit</td>\n",
       "      <td>228.0</td>\n",
       "      <td>Introduction</td>\n",
       "      <td>225.0</td>\n",
       "      <td>The drug also reduces catecholamine secretion,...</td>\n",
       "      <td>background</td>\n",
       "      <td>1.0000</td>\n",
       "      <td>9cdf605beb1aa1078f235c4332b3024daa8b31dc</td>\n",
       "      <td>4e6a17fb8d7a3cada601d942e22eb5da6d01adbd</td>\n",
       "      <td>False</td>\n",
       "      <td>9cdf605beb1aa1078f235c4332b3024daa8b31dc&gt;4e6a1...</td>\n",
       "      <td>9cdf605beb1aa1078f235c4332b3024daa8b31dc&gt;4e6a1...</td>\n",
       "      <td>0</td>\n",
       "      <td>NaN</td>\n",
       "      <td>NaN</td>\n",
       "    </tr>\n",
       "    <tr>\n",
       "      <th>3</th>\n",
       "      <td>explicit</td>\n",
       "      <td>110.0</td>\n",
       "      <td>Discussion</td>\n",
       "      <td>46.0</td>\n",
       "      <td>By clustering with lowly aggressive close kin ...</td>\n",
       "      <td>background</td>\n",
       "      <td>1.0000</td>\n",
       "      <td>d9f3207db0c79a3b154f3875c9760cc6b056904b</td>\n",
       "      <td>2cc6ff899bf17666ad35893524a4d61624555ed7</td>\n",
       "      <td>False</td>\n",
       "      <td>d9f3207db0c79a3b154f3875c9760cc6b056904b&gt;2cc6f...</td>\n",
       "      <td>d9f3207db0c79a3b154f3875c9760cc6b056904b&gt;2cc6f...</td>\n",
       "      <td>3</td>\n",
       "      <td>NaN</td>\n",
       "      <td>NaN</td>\n",
       "    </tr>\n",
       "    <tr>\n",
       "      <th>4</th>\n",
       "      <td>explicit</td>\n",
       "      <td>239.0</td>\n",
       "      <td>Discussion</td>\n",
       "      <td>234.0</td>\n",
       "      <td>Ophthalmic symptoms are rare manifestations of...</td>\n",
       "      <td>background</td>\n",
       "      <td>1.0000</td>\n",
       "      <td>88b86556857f4374842d2af2e359576806239175</td>\n",
       "      <td>a5bb0ff1a026944d2a47a155462959af2b8505a8</td>\n",
       "      <td>False</td>\n",
       "      <td>88b86556857f4374842d2af2e359576806239175&gt;a5bb0...</td>\n",
       "      <td>88b86556857f4374842d2af2e359576806239175&gt;a5bb0...</td>\n",
       "      <td>2</td>\n",
       "      <td>NaN</td>\n",
       "      <td>NaN</td>\n",
       "    </tr>\n",
       "    <tr>\n",
       "      <th>...</th>\n",
       "      <td>...</td>\n",
       "      <td>...</td>\n",
       "      <td>...</td>\n",
       "      <td>...</td>\n",
       "      <td>...</td>\n",
       "      <td>...</td>\n",
       "      <td>...</td>\n",
       "      <td>...</td>\n",
       "      <td>...</td>\n",
       "      <td>...</td>\n",
       "      <td>...</td>\n",
       "      <td>...</td>\n",
       "      <td>...</td>\n",
       "      <td>...</td>\n",
       "      <td>...</td>\n",
       "    </tr>\n",
       "    <tr>\n",
       "      <th>8238</th>\n",
       "      <td>explicit</td>\n",
       "      <td>50.0</td>\n",
       "      <td></td>\n",
       "      <td>28.0</td>\n",
       "      <td>Importantly, the results of Pascalis et al. (2...</td>\n",
       "      <td>background</td>\n",
       "      <td>0.7350</td>\n",
       "      <td>6f68ccd37718366c40ae6aeedf0b935bf560b215</td>\n",
       "      <td>60ed4bdabf92b2fbd6162dbd8979888cccca55d7</td>\n",
       "      <td>True</td>\n",
       "      <td>6f68ccd37718366c40ae6aeedf0b935bf560b215&gt;60ed4...</td>\n",
       "      <td>6f68ccd37718366c40ae6aeedf0b935bf560b215&gt;60ed4...</td>\n",
       "      <td>15</td>\n",
       "      <td>NaN</td>\n",
       "      <td>NaN</td>\n",
       "    </tr>\n",
       "    <tr>\n",
       "      <th>8239</th>\n",
       "      <td>explicit</td>\n",
       "      <td>182.0</td>\n",
       "      <td>DISCUSSION</td>\n",
       "      <td>179.0</td>\n",
       "      <td>As suggested by Nguena et al, there is a need ...</td>\n",
       "      <td>background</td>\n",
       "      <td>0.7508</td>\n",
       "      <td>f2a1c1704f9587c94ed95bc98179dc499e933f5e</td>\n",
       "      <td>574e659da7f6c62c07bfaaacd1f31d65bd75524c</td>\n",
       "      <td>True</td>\n",
       "      <td>f2a1c1704f9587c94ed95bc98179dc499e933f5e&gt;574e6...</td>\n",
       "      <td>f2a1c1704f9587c94ed95bc98179dc499e933f5e&gt;574e6...</td>\n",
       "      <td>1</td>\n",
       "      <td>NaN</td>\n",
       "      <td>NaN</td>\n",
       "    </tr>\n",
       "    <tr>\n",
       "      <th>8240</th>\n",
       "      <td>explicit</td>\n",
       "      <td>120.0</td>\n",
       "      <td>DISCUSSION</td>\n",
       "      <td>108.0</td>\n",
       "      <td>Skeletal muscle is also a primary site of dise...</td>\n",
       "      <td>background</td>\n",
       "      <td>1.0000</td>\n",
       "      <td>18c97ea2ff60c110cc2a523e0fdf729608cbb083</td>\n",
       "      <td>fc13b9c3dfcc121013edaa12fa8ce7842aaed21a</td>\n",
       "      <td>False</td>\n",
       "      <td>18c97ea2ff60c110cc2a523e0fdf729608cbb083&gt;fc13b...</td>\n",
       "      <td>18c97ea2ff60c110cc2a523e0fdf729608cbb083&gt;fc13b...</td>\n",
       "      <td>8</td>\n",
       "      <td>NaN</td>\n",
       "      <td>NaN</td>\n",
       "    </tr>\n",
       "    <tr>\n",
       "      <th>8241</th>\n",
       "      <td>explicit</td>\n",
       "      <td>221.0</td>\n",
       "      <td></td>\n",
       "      <td>185.0</td>\n",
       "      <td>ACTIVATION OF TRANSCRIPTION FACTORS Roles for ...</td>\n",
       "      <td>method</td>\n",
       "      <td>NaN</td>\n",
       "      <td>4ec9b89857c0b27e8a4bd3745b7358f387773527</td>\n",
       "      <td>81affdba19e38e2b17cf7b9e93792cc2028cf21d</td>\n",
       "      <td>True</td>\n",
       "      <td>4ec9b89857c0b27e8a4bd3745b7358f387773527&gt;81aff...</td>\n",
       "      <td>4ec9b89857c0b27e8a4bd3745b7358f387773527&gt;81aff...</td>\n",
       "      <td>0</td>\n",
       "      <td>NaN</td>\n",
       "      <td>NaN</td>\n",
       "    </tr>\n",
       "    <tr>\n",
       "      <th>8242</th>\n",
       "      <td>explicit</td>\n",
       "      <td>102.0</td>\n",
       "      <td>Introduction</td>\n",
       "      <td>82.0</td>\n",
       "      <td>Most studies focused on the relation between b...</td>\n",
       "      <td>background</td>\n",
       "      <td>1.0000</td>\n",
       "      <td>42c954cad0de68657d4429b512d8fe75dceef13c</td>\n",
       "      <td>00afbfb391f7c15a73a4257b2c0fcd9767ece6a8</td>\n",
       "      <td>True</td>\n",
       "      <td>42c954cad0de68657d4429b512d8fe75dceef13c&gt;00afb...</td>\n",
       "      <td>42c954cad0de68657d4429b512d8fe75dceef13c&gt;00afb...</td>\n",
       "      <td>0</td>\n",
       "      <td>NaN</td>\n",
       "      <td>NaN</td>\n",
       "    </tr>\n",
       "  </tbody>\n",
       "</table>\n",
       "<p>8243 rows × 15 columns</p>\n",
       "</div>"
      ],
      "text/plain": [
       "        source  citeEnd                                        sectionName  \\\n",
       "0     explicit    175.0                                       Introduction   \n",
       "1     explicit     36.0  Novel Quantitative Trait Loci for Seminal Root...   \n",
       "2     explicit    228.0                                       Introduction   \n",
       "3     explicit    110.0                                         Discussion   \n",
       "4     explicit    239.0                                         Discussion   \n",
       "...        ...      ...                                                ...   \n",
       "8238  explicit     50.0                                                      \n",
       "8239  explicit    182.0                                         DISCUSSION   \n",
       "8240  explicit    120.0                                         DISCUSSION   \n",
       "8241  explicit    221.0                                                      \n",
       "8242  explicit    102.0                                       Introduction   \n",
       "\n",
       "      citeStart                                             string  \\\n",
       "0         168.0  However, how frataxin interacts with the Fe-S ...   \n",
       "1          16.0  In the study by Hickey et al. (2012), spikes w...   \n",
       "2         225.0  The drug also reduces catecholamine secretion,...   \n",
       "3          46.0  By clustering with lowly aggressive close kin ...   \n",
       "4         234.0  Ophthalmic symptoms are rare manifestations of...   \n",
       "...         ...                                                ...   \n",
       "8238       28.0  Importantly, the results of Pascalis et al. (2...   \n",
       "8239      179.0  As suggested by Nguena et al, there is a need ...   \n",
       "8240      108.0  Skeletal muscle is also a primary site of dise...   \n",
       "8241      185.0  ACTIVATION OF TRANSCRIPTION FACTORS Roles for ...   \n",
       "8242       82.0  Most studies focused on the relation between b...   \n",
       "\n",
       "           label  label_confidence                             citingPaperId  \\\n",
       "0     background            1.0000  1872080baa7d30ec8fb87be9a65358cd3a7fb649   \n",
       "1     background            1.0000  ce1d09a4a3a8d7fd3405b9328f65f00c952cf64b   \n",
       "2     background            1.0000  9cdf605beb1aa1078f235c4332b3024daa8b31dc   \n",
       "3     background            1.0000  d9f3207db0c79a3b154f3875c9760cc6b056904b   \n",
       "4     background            1.0000  88b86556857f4374842d2af2e359576806239175   \n",
       "...          ...               ...                                       ...   \n",
       "8238  background            0.7350  6f68ccd37718366c40ae6aeedf0b935bf560b215   \n",
       "8239  background            0.7508  f2a1c1704f9587c94ed95bc98179dc499e933f5e   \n",
       "8240  background            1.0000  18c97ea2ff60c110cc2a523e0fdf729608cbb083   \n",
       "8241      method               NaN  4ec9b89857c0b27e8a4bd3745b7358f387773527   \n",
       "8242  background            1.0000  42c954cad0de68657d4429b512d8fe75dceef13c   \n",
       "\n",
       "                                  citedPaperId  isKeyCitation  \\\n",
       "0     894be9b4ea46a5c422e81ef3c241072d4c73fdc0           True   \n",
       "1     b6642e19efb8db5623b3cc4eef1c5822a6151107           True   \n",
       "2     4e6a17fb8d7a3cada601d942e22eb5da6d01adbd          False   \n",
       "3     2cc6ff899bf17666ad35893524a4d61624555ed7          False   \n",
       "4     a5bb0ff1a026944d2a47a155462959af2b8505a8          False   \n",
       "...                                        ...            ...   \n",
       "8238  60ed4bdabf92b2fbd6162dbd8979888cccca55d7           True   \n",
       "8239  574e659da7f6c62c07bfaaacd1f31d65bd75524c           True   \n",
       "8240  fc13b9c3dfcc121013edaa12fa8ce7842aaed21a          False   \n",
       "8241  81affdba19e38e2b17cf7b9e93792cc2028cf21d           True   \n",
       "8242  00afbfb391f7c15a73a4257b2c0fcd9767ece6a8           True   \n",
       "\n",
       "                                                     id  \\\n",
       "0     1872080baa7d30ec8fb87be9a65358cd3a7fb649>894be...   \n",
       "1     ce1d09a4a3a8d7fd3405b9328f65f00c952cf64b>b6642...   \n",
       "2     9cdf605beb1aa1078f235c4332b3024daa8b31dc>4e6a1...   \n",
       "3     d9f3207db0c79a3b154f3875c9760cc6b056904b>2cc6f...   \n",
       "4     88b86556857f4374842d2af2e359576806239175>a5bb0...   \n",
       "...                                                 ...   \n",
       "8238  6f68ccd37718366c40ae6aeedf0b935bf560b215>60ed4...   \n",
       "8239  f2a1c1704f9587c94ed95bc98179dc499e933f5e>574e6...   \n",
       "8240  18c97ea2ff60c110cc2a523e0fdf729608cbb083>fc13b...   \n",
       "8241  4ec9b89857c0b27e8a4bd3745b7358f387773527>81aff...   \n",
       "8242  42c954cad0de68657d4429b512d8fe75dceef13c>00afb...   \n",
       "\n",
       "                                              unique_id  excerpt_index label2  \\\n",
       "0     1872080baa7d30ec8fb87be9a65358cd3a7fb649>894be...             11    NaN   \n",
       "1     ce1d09a4a3a8d7fd3405b9328f65f00c952cf64b>b6642...              2    NaN   \n",
       "2     9cdf605beb1aa1078f235c4332b3024daa8b31dc>4e6a1...              0    NaN   \n",
       "3     d9f3207db0c79a3b154f3875c9760cc6b056904b>2cc6f...              3    NaN   \n",
       "4     88b86556857f4374842d2af2e359576806239175>a5bb0...              2    NaN   \n",
       "...                                                 ...            ...    ...   \n",
       "8238  6f68ccd37718366c40ae6aeedf0b935bf560b215>60ed4...             15    NaN   \n",
       "8239  f2a1c1704f9587c94ed95bc98179dc499e933f5e>574e6...              1    NaN   \n",
       "8240  18c97ea2ff60c110cc2a523e0fdf729608cbb083>fc13b...              8    NaN   \n",
       "8241  4ec9b89857c0b27e8a4bd3745b7358f387773527>81aff...              0    NaN   \n",
       "8242  42c954cad0de68657d4429b512d8fe75dceef13c>00afb...              0    NaN   \n",
       "\n",
       "      label2_confidence  \n",
       "0                   NaN  \n",
       "1                   NaN  \n",
       "2                   NaN  \n",
       "3                   NaN  \n",
       "4                   NaN  \n",
       "...                 ...  \n",
       "8238                NaN  \n",
       "8239                NaN  \n",
       "8240                NaN  \n",
       "8241                NaN  \n",
       "8242                NaN  \n",
       "\n",
       "[8243 rows x 15 columns]"
      ]
     },
     "execution_count": 27,
     "metadata": {},
     "output_type": "execute_result"
    }
   ],
   "source": [
    "train_df = pd.read_json('../train.jsonl', lines=True)\n",
    "X_train = train_df['string']\n",
    "y_train = train_df['label']\n",
    "\n",
    "dev_df = pd.read_json('../dev.jsonl', lines=True)\n",
    "X_dev = dev_df['string']\n",
    "y_dev = dev_df['label']\n",
    "\n",
    "test_df = pd.read_json('../test.jsonl', lines=True)\n",
    "X_test = test_df['string']\n",
    "y_test = test_df['label']\n",
    "\n",
    "train_df"
   ]
  },
  {
   "cell_type": "code",
   "execution_count": 28,
   "metadata": {},
   "outputs": [],
   "source": [
    "def cleaning(text):\n",
    "    stop_words = stopwords.words('english')\n",
    "    text = text.lower()\n",
    "    text = ' '.join(x for x in text.split() if x not in stop_words)\n",
    "    return text"
   ]
  },
  {
   "cell_type": "code",
   "execution_count": 29,
   "metadata": {},
   "outputs": [],
   "source": [
    "def lemmatize(text):\n",
    "    lemmatizer = WordNetLemmatizer()\n",
    "    words = []\n",
    "    for x in text.split():\n",
    "        x = lemmatizer.lemmatize(x)\n",
    "        words.append(x)\n",
    "    text = ' '.join(words)\n",
    "    return text"
   ]
  },
  {
   "cell_type": "code",
   "execution_count": 30,
   "metadata": {},
   "outputs": [],
   "source": [
    "def preprocessing(text):\n",
    "    # Tokenization\n",
    "    tokenizer = RegexpTokenizer(r'[a-zA-Z0-9]+')\n",
    "    text = cleaning(text)\n",
    "    text = lemmatize(text)\n",
    "    text = ' '.join(tokenizer.tokenize(text))\n",
    "    return text"
   ]
  },
  {
   "cell_type": "code",
   "execution_count": 31,
   "metadata": {},
   "outputs": [],
   "source": [
    "def augment_data_multiclass(X, y):\n",
    "    df = pd.concat([X, y], axis=1)\n",
    "    majority_class_size = df['label'].value_counts().max()\n",
    "    upsampled_dataframes = []\n",
    "    for class_label in df['label'].unique():\n",
    "        class_df = df[df['label'] == class_label]\n",
    "        if len(class_df) < majority_class_size:\n",
    "            class_df_upsampled = resample(class_df, replace=True, n_samples=majority_class_size, random_state=10)\n",
    "            upsampled_dataframes.append(class_df_upsampled)\n",
    "        else:\n",
    "            upsampled_dataframes.append(class_df)\n",
    "    upsampled_df = pd.concat(upsampled_dataframes)\n",
    "    return upsampled_df['string'], upsampled_df['label']"
   ]
  },
  {
   "cell_type": "code",
   "execution_count": 32,
   "metadata": {},
   "outputs": [],
   "source": [
    "X_train, y_train = augment_data_multiclass(X_train, y_train)"
   ]
  },
  {
   "cell_type": "code",
   "execution_count": 33,
   "metadata": {},
   "outputs": [],
   "source": [
    "X_train_preprocessed = X_train.apply(lambda x: preprocessing(x))\n",
    "X_dev_preprocessed = X_dev.apply(lambda x: preprocessing(x))\n",
    "X_test_preprocessed = X_test.apply(lambda x: preprocessing(x))"
   ]
  },
  {
   "cell_type": "markdown",
   "metadata": {},
   "source": [
    "# Feature Extraction"
   ]
  },
  {
   "cell_type": "code",
   "execution_count": 34,
   "metadata": {},
   "outputs": [],
   "source": [
    "num_words = 5000\n",
    "tokenizer = Tokenizer(num_words=num_words)\n",
    "tokenizer.fit_on_texts(X_train)"
   ]
  },
  {
   "cell_type": "code",
   "execution_count": 35,
   "metadata": {},
   "outputs": [],
   "source": [
    "X_train_tokenized = tokenizer.texts_to_sequences(X_train_preprocessed)\n",
    "X_dev_tokenized = tokenizer.texts_to_sequences(X_dev_preprocessed)\n",
    "X_test_tokenized = tokenizer.texts_to_sequences(X_test_preprocessed)"
   ]
  },
  {
   "cell_type": "code",
   "execution_count": 36,
   "metadata": {},
   "outputs": [
    {
     "data": {
      "text/plain": [
       "29836"
      ]
     },
     "execution_count": 36,
     "metadata": {},
     "output_type": "execute_result"
    }
   ],
   "source": [
    "vocab_size = len(tokenizer.word_index) + 1\n",
    "vocab_size"
   ]
  },
  {
   "cell_type": "code",
   "execution_count": 37,
   "metadata": {},
   "outputs": [
    {
     "data": {
      "text/plain": [
       "250"
      ]
     },
     "execution_count": 37,
     "metadata": {},
     "output_type": "execute_result"
    }
   ],
   "source": [
    "initial_data = [X_train_tokenized, X_dev_tokenized, X_test_tokenized]\n",
    "longest_length = -1\n",
    "for dataset in initial_data:\n",
    "    for arr in dataset:\n",
    "        if len(arr) > longest_length:\n",
    "            longest_length = len(arr)\n",
    "\n",
    "longest_length"
   ]
  },
  {
   "cell_type": "code",
   "execution_count": 38,
   "metadata": {},
   "outputs": [],
   "source": [
    "max_words = 250\n",
    "X_train_padded = sequence.pad_sequences(X_train_tokenized, maxlen=max_words, padding='pre')\n",
    "X_dev_padded = sequence.pad_sequences(X_dev_tokenized, maxlen=max_words, padding='pre')\n",
    "X_test_padded = sequence.pad_sequences(X_test_tokenized, maxlen=max_words, padding='pre')"
   ]
  },
  {
   "cell_type": "markdown",
   "metadata": {},
   "source": [
    "# Model"
   ]
  },
  {
   "cell_type": "code",
   "execution_count": 39,
   "metadata": {},
   "outputs": [],
   "source": [
    "# http://nlp.stanford.edu/data/glove.6B.zip\n",
    "embeddings_dictionary = dict()\n",
    "f = open('../glove.6B/glove.6B.100d.txt', encoding=\"utf8\")\n",
    "for line in f.readlines():\n",
    "    records = line.split()\n",
    "    word = records[0]\n",
    "    vector_dimensions = np.asarray(records[1:], dtype='float32')\n",
    "    embeddings_dictionary[word] = vector_dimensions\n",
    "f.close()"
   ]
  },
  {
   "cell_type": "code",
   "execution_count": 40,
   "metadata": {},
   "outputs": [
    {
     "data": {
      "text/plain": [
       "array([[ 0.        ,  0.        ,  0.        , ...,  0.        ,\n",
       "         0.        ,  0.        ],\n",
       "       [-0.038194  , -0.24487001,  0.72812003, ..., -0.1459    ,\n",
       "         0.82779998,  0.27061999],\n",
       "       [-0.1529    , -0.24279   ,  0.89837003, ..., -0.59100002,\n",
       "         1.00390005,  0.20664001],\n",
       "       ...,\n",
       "       [ 0.13266   ,  0.025495  , -0.35374001, ...,  0.037078  ,\n",
       "        -0.54132003,  0.14563   ],\n",
       "       [-0.60499001,  0.52837002,  0.29420999, ..., -0.37286001,\n",
       "        -0.26356   ,  0.92654002],\n",
       "       [ 0.        ,  0.        ,  0.        , ...,  0.        ,\n",
       "         0.        ,  0.        ]])"
      ]
     },
     "execution_count": 40,
     "metadata": {},
     "output_type": "execute_result"
    }
   ],
   "source": [
    "embedding_matrix = np.zeros((vocab_size, 100))\n",
    "for word, index in tokenizer.word_index.items():\n",
    "    if index > vocab_size - 1:\n",
    "        break\n",
    "    else:\n",
    "        embedding_vector = embeddings_dictionary.get(word)\n",
    "        if embedding_vector is not None:\n",
    "            embedding_matrix[index] = embedding_vector\n",
    "            \n",
    "embedding_matrix"
   ]
  },
  {
   "cell_type": "code",
   "execution_count": 41,
   "metadata": {},
   "outputs": [
    {
     "name": "stdout",
     "output_type": "stream",
     "text": [
      "Model: \"sequential_1\"\n",
      "_________________________________________________________________\n",
      " Layer (type)                Output Shape              Param #   \n",
      "=================================================================\n",
      " embedding_1 (Embedding)     (None, 250, 100)          2983600   \n",
      "                                                                 \n",
      " batch_normalization_7 (Bat  (None, 250, 100)          400       \n",
      " chNormalization)                                                \n",
      "                                                                 \n",
      " conv1d_3 (Conv1D)           (None, 250, 80)           24080     \n",
      "                                                                 \n",
      " batch_normalization_8 (Bat  (None, 250, 80)           320       \n",
      " chNormalization)                                                \n",
      "                                                                 \n",
      " max_pooling1d_2 (MaxPoolin  (None, 125, 80)           0         \n",
      " g1D)                                                            \n",
      "                                                                 \n",
      " conv1d_4 (Conv1D)           (None, 125, 70)           16870     \n",
      "                                                                 \n",
      " batch_normalization_9 (Bat  (None, 125, 70)           280       \n",
      " chNormalization)                                                \n",
      "                                                                 \n",
      " conv1d_5 (Conv1D)           (None, 125, 120)          25320     \n",
      "                                                                 \n",
      " batch_normalization_10 (Ba  (None, 125, 120)          480       \n",
      " tchNormalization)                                               \n",
      "                                                                 \n",
      " max_pooling1d_3 (MaxPoolin  (None, 62, 120)           0         \n",
      " g1D)                                                            \n",
      "                                                                 \n",
      " flatten_1 (Flatten)         (None, 7440)              0         \n",
      "                                                                 \n",
      " dense_4 (Dense)             (None, 400)               2976400   \n",
      "                                                                 \n",
      " batch_normalization_11 (Ba  (None, 400)               1600      \n",
      " tchNormalization)                                               \n",
      "                                                                 \n",
      " dropout_3 (Dropout)         (None, 400)               0         \n",
      "                                                                 \n",
      " dense_5 (Dense)             (None, 200)               80200     \n",
      "                                                                 \n",
      " batch_normalization_12 (Ba  (None, 200)               800       \n",
      " tchNormalization)                                               \n",
      "                                                                 \n",
      " dropout_4 (Dropout)         (None, 200)               0         \n",
      "                                                                 \n",
      " dense_6 (Dense)             (None, 100)               20100     \n",
      "                                                                 \n",
      " batch_normalization_13 (Ba  (None, 100)               400       \n",
      " tchNormalization)                                               \n",
      "                                                                 \n",
      " dropout_5 (Dropout)         (None, 100)               0         \n",
      "                                                                 \n",
      " dense_7 (Dense)             (None, 1)                 101       \n",
      "                                                                 \n",
      "=================================================================\n",
      "Total params: 6130951 (23.39 MB)\n",
      "Trainable params: 3145211 (12.00 MB)\n",
      "Non-trainable params: 2985740 (11.39 MB)\n",
      "_________________________________________________________________\n"
     ]
    }
   ],
   "source": [
    "# Initializing CNN\n",
    "model = Sequential()\n",
    "model.add(Embedding(embedding_matrix.shape[0], embedding_matrix.shape[1], weights=[embedding_matrix], input_length=max_words, trainable=False))\n",
    "model.add(BatchNormalization())\n",
    "\n",
    "model.add(Conv1D(80, 3, padding='same', activation='relu', bias_regularizer=regularizers.l2(0.001), kernel_regularizer=regularizers.l2(0.001)))\n",
    "model.add(BatchNormalization())\n",
    "model.add(MaxPooling1D())\n",
    "\n",
    "model.add(Conv1D(70, 3, padding='same', activation='linear', bias_regularizer=regularizers.l2(0.001), kernel_regularizer=regularizers.l2(0.001)))\n",
    "model.add(BatchNormalization())\n",
    "\n",
    "model.add(Conv1D(120, 3, padding='same', activation='relu', bias_regularizer=regularizers.l2(0.001), kernel_regularizer=regularizers.l2(0.001)))\n",
    "model.add(BatchNormalization())\n",
    "model.add(MaxPooling1D())\n",
    "\n",
    "model.add(Flatten())\n",
    "\n",
    "model.add(Dense(400, activation='relu', kernel_regularizer=regularizers.l2(0.001), bias_regularizer=regularizers.l2(0.001)))\n",
    "model.add(BatchNormalization()) \n",
    "model.add(Dropout(0.4, seed=4248))\n",
    "\n",
    "model.add(Dense(200, activation='relu', kernel_regularizer=regularizers.l2(0.001), bias_regularizer=regularizers.l2(0.001)))\n",
    "model.add(BatchNormalization())\n",
    "model.add(Dropout(0.4, seed=4248))\n",
    "\n",
    "model.add(Dense(100, activation='relu', kernel_regularizer=regularizers.l2(0.001), bias_regularizer=regularizers.l2(0.001)))\n",
    "model.add(BatchNormalization())\n",
    "model.add(Dropout(0.4, seed=4248))\n",
    "\n",
    "model.add(Dense(1, activation='sigmoid', kernel_regularizer=regularizers.l2(0.001), bias_regularizer=regularizers.l2(0.001)))\n",
    "\n",
    "opt = keras.optimizers.Adam(learning_rate=0.0005)\n",
    "model.compile(optimizer=opt, loss='binary_crossentropy', metrics=['accuracy'])\n",
    "model.summary()"
   ]
  },
  {
   "cell_type": "code",
   "execution_count": 42,
   "metadata": {},
   "outputs": [
    {
     "name": "stdout",
     "output_type": "stream",
     "text": [
      "[0 0 0 ... 2 2 2]\n"
     ]
    }
   ],
   "source": [
    "# Initialize LabelEncoder\n",
    "label_encoder = LabelEncoder()\n",
    "\n",
    "# Fit label encoder and transform string column\n",
    "y_train = label_encoder.fit_transform(y_train)\n",
    "y_dev = label_encoder.transform(y_dev)\n",
    "y_test = label_encoder.transform(y_test)\n",
    "\n",
    "print(y_train)"
   ]
  },
  {
   "cell_type": "code",
   "execution_count": 43,
   "metadata": {},
   "outputs": [
    {
     "name": "stdout",
     "output_type": "stream",
     "text": [
      "Epoch 1/5\n"
     ]
    },
    {
     "name": "stdout",
     "output_type": "stream",
     "text": [
      "114/114 - 14s - loss: 1.4138 - accuracy: 0.3525 - val_loss: 1.8601 - val_accuracy: 0.5742 - 14s/epoch - 127ms/step\n",
      "Epoch 2/5\n",
      "114/114 - 13s - loss: -2.2643e+00 - accuracy: 0.4140 - val_loss: 1.0551 - val_accuracy: 0.6081 - 13s/epoch - 112ms/step\n",
      "Epoch 3/5\n",
      "114/114 - 13s - loss: -8.1219e+00 - accuracy: 0.4501 - val_loss: 5.1639 - val_accuracy: 0.5764 - 13s/epoch - 112ms/step\n",
      "Epoch 4/5\n",
      "114/114 - 13s - loss: -1.5763e+01 - accuracy: 0.4376 - val_loss: 2.7581 - val_accuracy: 0.5764 - 13s/epoch - 112ms/step\n",
      "Epoch 5/5\n",
      "114/114 - 13s - loss: -2.4392e+01 - accuracy: 0.4399 - val_loss: 1.7475 - val_accuracy: 0.5721 - 13s/epoch - 112ms/step\n"
     ]
    }
   ],
   "source": [
    "history = model.fit(X_train_padded, \n",
    "          y_train, \n",
    "          validation_data=(X_dev_padded, y_dev), \n",
    "          epochs=5, \n",
    "          batch_size=128, \n",
    "          verbose=2)"
   ]
  },
  {
   "cell_type": "code",
   "execution_count": 44,
   "metadata": {},
   "outputs": [
    {
     "name": "stdout",
     "output_type": "stream",
     "text": [
      "59/59 [==============================] - 1s 10ms/step - loss: 2.0929 - accuracy: 0.5153\n",
      "Accuracy: 51.531434059143066%\n"
     ]
    }
   ],
   "source": [
    "scores = model.evaluate(X_test_padded, y_test)\n",
    "\n",
    "print(f\"Accuracy: {scores[1] * 100}%\")"
   ]
  },
  {
   "cell_type": "code",
   "execution_count": 45,
   "metadata": {},
   "outputs": [],
   "source": [
    "# With reference to https://realpython.com/python-keras-text-classification/#your-first-keras-model\n",
    "# Plotting histogram\n",
    "plt.style.use('ggplot')\n",
    "\n",
    "def plot_history(history):\n",
    "    acc = history.history['accuracy']\n",
    "    val_acc = history.history['val_accuracy']\n",
    "    loss = history.history['loss']\n",
    "    val_loss = history.history['val_loss']\n",
    "    x = range(1, len(acc) + 1)\n",
    "\n",
    "    plt.figure(figsize=(12, 5))\n",
    "    plt.subplot(1, 2, 1)\n",
    "    plt.plot(x, acc, 'b', label='Training acc')\n",
    "    plt.plot(x, val_acc, 'r', label='Validation acc')\n",
    "    plt.title('Training and validation accuracy')\n",
    "    plt.legend()\n",
    "    plt.subplot(1, 2, 2)\n",
    "    plt.plot(x, loss, 'b', label='Training loss')\n",
    "    plt.plot(x, val_loss, 'r', label='Validation loss')\n",
    "    plt.title('Training and validation loss')\n",
    "    plt.legend()"
   ]
  },
  {
   "cell_type": "code",
   "execution_count": 46,
   "metadata": {},
   "outputs": [
    {
     "data": {
      "image/png": "[encoded data removed]",
      "text/plain": [
       "<Figure size 1200x500 with 2 Axes>"
      ]
     },
     "metadata": {},
     "output_type": "display_data"
    }
   ],
   "source": [
    "plot_history(history)\n",
    "# history.history"
   ]
  }
 ],
 "metadata": {
  "kernelspec": {
   "display_name": "Python 3",
   "language": "python",
   "name": "python3"
  },
  "language_info": {
   "codemirror_mode": {
    "name": "ipython",
    "version": 3
   },
   "file_extension": ".py",
   "mimetype": "text/x-python",
   "name": "python",
   "nbconvert_exporter": "python",
   "pygments_lexer": "ipython3",
   "version": "3.9.12"
  }
 },
 "nbformat": 4,
 "nbformat_minor": 2
}
