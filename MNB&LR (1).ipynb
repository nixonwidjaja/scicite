{
 "cells": [
  {
   "cell_type": "code",
   "execution_count": 1,
   "metadata": {},
   "outputs": [],
   "source": [
    "import numpy as np\n",
    "import matplotlib.pyplot as plt\n",
    "import os\n",
    "import random\n",
    "import pandas as pd\n",
    "import nltk\n",
    "from nltk.tokenize import RegexpTokenizer\n",
    "from nltk.stem import WordNetLemmatizer\n",
    "from nltk.corpus import stopwords\n",
    "from sklearn.utils import resample\n",
    "from sklearn.feature_extraction.text import TfidfVectorizer\n",
    "from sklearn.model_selection import train_test_split\n",
    "from sklearn.model_selection import GridSearchCV\n",
    "from sklearn.feature_extraction.text import CountVectorizer\n",
    "import seaborn as sns\n",
    "import matplotlib.pyplot as plt"
   ]
  },
  {
   "cell_type": "markdown",
   "metadata": {},
   "source": [
    "## Data Preprocessing"
   ]
  },
  {
   "cell_type": "code",
   "execution_count": 2,
   "metadata": {},
   "outputs": [
    {
     "data": {
      "text/html": [
       "<div>\n",
       "<style scoped>\n",
       "    .dataframe tbody tr th:only-of-type {\n",
       "        vertical-align: middle;\n",
       "    }\n",
       "\n",
       "    .dataframe tbody tr th {\n",
       "        vertical-align: top;\n",
       "    }\n",
       "\n",
       "    .dataframe thead th {\n",
       "        text-align: right;\n",
       "    }\n",
       "</style>\n",
       "<table border=\"1\" class=\"dataframe\">\n",
       "  <thead>\n",
       "    <tr style=\"text-align: right;\">\n",
       "      <th></th>\n",
       "      <th>source</th>\n",
       "      <th>citeEnd</th>\n",
       "      <th>sectionName</th>\n",
       "      <th>citeStart</th>\n",
       "      <th>string</th>\n",
       "      <th>label</th>\n",
       "      <th>label_confidence</th>\n",
       "      <th>citingPaperId</th>\n",
       "      <th>citedPaperId</th>\n",
       "      <th>isKeyCitation</th>\n",
       "      <th>id</th>\n",
       "      <th>unique_id</th>\n",
       "      <th>excerpt_index</th>\n",
       "      <th>label2</th>\n",
       "      <th>label2_confidence</th>\n",
       "    </tr>\n",
       "  </thead>\n",
       "  <tbody>\n",
       "    <tr>\n",
       "      <th>0</th>\n",
       "      <td>explicit</td>\n",
       "      <td>175.0</td>\n",
       "      <td>Introduction</td>\n",
       "      <td>168.0</td>\n",
       "      <td>However, how frataxin interacts with the Fe-S ...</td>\n",
       "      <td>background</td>\n",
       "      <td>1.0000</td>\n",
       "      <td>1872080baa7d30ec8fb87be9a65358cd3a7fb649</td>\n",
       "      <td>894be9b4ea46a5c422e81ef3c241072d4c73fdc0</td>\n",
       "      <td>True</td>\n",
       "      <td>1872080baa7d30ec8fb87be9a65358cd3a7fb649&gt;894be...</td>\n",
       "      <td>1872080baa7d30ec8fb87be9a65358cd3a7fb649&gt;894be...</td>\n",
       "      <td>11</td>\n",
       "      <td>NaN</td>\n",
       "      <td>NaN</td>\n",
       "    </tr>\n",
       "    <tr>\n",
       "      <th>1</th>\n",
       "      <td>explicit</td>\n",
       "      <td>36.0</td>\n",
       "      <td>Novel Quantitative Trait Loci for Seminal Root...</td>\n",
       "      <td>16.0</td>\n",
       "      <td>In the study by Hickey et al. (2012), spikes w...</td>\n",
       "      <td>background</td>\n",
       "      <td>1.0000</td>\n",
       "      <td>ce1d09a4a3a8d7fd3405b9328f65f00c952cf64b</td>\n",
       "      <td>b6642e19efb8db5623b3cc4eef1c5822a6151107</td>\n",
       "      <td>True</td>\n",
       "      <td>ce1d09a4a3a8d7fd3405b9328f65f00c952cf64b&gt;b6642...</td>\n",
       "      <td>ce1d09a4a3a8d7fd3405b9328f65f00c952cf64b&gt;b6642...</td>\n",
       "      <td>2</td>\n",
       "      <td>NaN</td>\n",
       "      <td>NaN</td>\n",
       "    </tr>\n",
       "    <tr>\n",
       "      <th>2</th>\n",
       "      <td>explicit</td>\n",
       "      <td>228.0</td>\n",
       "      <td>Introduction</td>\n",
       "      <td>225.0</td>\n",
       "      <td>The drug also reduces catecholamine secretion,...</td>\n",
       "      <td>background</td>\n",
       "      <td>1.0000</td>\n",
       "      <td>9cdf605beb1aa1078f235c4332b3024daa8b31dc</td>\n",
       "      <td>4e6a17fb8d7a3cada601d942e22eb5da6d01adbd</td>\n",
       "      <td>False</td>\n",
       "      <td>9cdf605beb1aa1078f235c4332b3024daa8b31dc&gt;4e6a1...</td>\n",
       "      <td>9cdf605beb1aa1078f235c4332b3024daa8b31dc&gt;4e6a1...</td>\n",
       "      <td>0</td>\n",
       "      <td>NaN</td>\n",
       "      <td>NaN</td>\n",
       "    </tr>\n",
       "    <tr>\n",
       "      <th>3</th>\n",
       "      <td>explicit</td>\n",
       "      <td>110.0</td>\n",
       "      <td>Discussion</td>\n",
       "      <td>46.0</td>\n",
       "      <td>By clustering with lowly aggressive close kin ...</td>\n",
       "      <td>background</td>\n",
       "      <td>1.0000</td>\n",
       "      <td>d9f3207db0c79a3b154f3875c9760cc6b056904b</td>\n",
       "      <td>2cc6ff899bf17666ad35893524a4d61624555ed7</td>\n",
       "      <td>False</td>\n",
       "      <td>d9f3207db0c79a3b154f3875c9760cc6b056904b&gt;2cc6f...</td>\n",
       "      <td>d9f3207db0c79a3b154f3875c9760cc6b056904b&gt;2cc6f...</td>\n",
       "      <td>3</td>\n",
       "      <td>NaN</td>\n",
       "      <td>NaN</td>\n",
       "    </tr>\n",
       "    <tr>\n",
       "      <th>4</th>\n",
       "      <td>explicit</td>\n",
       "      <td>239.0</td>\n",
       "      <td>Discussion</td>\n",
       "      <td>234.0</td>\n",
       "      <td>Ophthalmic symptoms are rare manifestations of...</td>\n",
       "      <td>background</td>\n",
       "      <td>1.0000</td>\n",
       "      <td>88b86556857f4374842d2af2e359576806239175</td>\n",
       "      <td>a5bb0ff1a026944d2a47a155462959af2b8505a8</td>\n",
       "      <td>False</td>\n",
       "      <td>88b86556857f4374842d2af2e359576806239175&gt;a5bb0...</td>\n",
       "      <td>88b86556857f4374842d2af2e359576806239175&gt;a5bb0...</td>\n",
       "      <td>2</td>\n",
       "      <td>NaN</td>\n",
       "      <td>NaN</td>\n",
       "    </tr>\n",
       "    <tr>\n",
       "      <th>...</th>\n",
       "      <td>...</td>\n",
       "      <td>...</td>\n",
       "      <td>...</td>\n",
       "      <td>...</td>\n",
       "      <td>...</td>\n",
       "      <td>...</td>\n",
       "      <td>...</td>\n",
       "      <td>...</td>\n",
       "      <td>...</td>\n",
       "      <td>...</td>\n",
       "      <td>...</td>\n",
       "      <td>...</td>\n",
       "      <td>...</td>\n",
       "      <td>...</td>\n",
       "      <td>...</td>\n",
       "    </tr>\n",
       "    <tr>\n",
       "      <th>8238</th>\n",
       "      <td>explicit</td>\n",
       "      <td>50.0</td>\n",
       "      <td></td>\n",
       "      <td>28.0</td>\n",
       "      <td>Importantly, the results of Pascalis et al. (2...</td>\n",
       "      <td>background</td>\n",
       "      <td>0.7350</td>\n",
       "      <td>6f68ccd37718366c40ae6aeedf0b935bf560b215</td>\n",
       "      <td>60ed4bdabf92b2fbd6162dbd8979888cccca55d7</td>\n",
       "      <td>True</td>\n",
       "      <td>6f68ccd37718366c40ae6aeedf0b935bf560b215&gt;60ed4...</td>\n",
       "      <td>6f68ccd37718366c40ae6aeedf0b935bf560b215&gt;60ed4...</td>\n",
       "      <td>15</td>\n",
       "      <td>NaN</td>\n",
       "      <td>NaN</td>\n",
       "    </tr>\n",
       "    <tr>\n",
       "      <th>8239</th>\n",
       "      <td>explicit</td>\n",
       "      <td>182.0</td>\n",
       "      <td>DISCUSSION</td>\n",
       "      <td>179.0</td>\n",
       "      <td>As suggested by Nguena et al, there is a need ...</td>\n",
       "      <td>background</td>\n",
       "      <td>0.7508</td>\n",
       "      <td>f2a1c1704f9587c94ed95bc98179dc499e933f5e</td>\n",
       "      <td>574e659da7f6c62c07bfaaacd1f31d65bd75524c</td>\n",
       "      <td>True</td>\n",
       "      <td>f2a1c1704f9587c94ed95bc98179dc499e933f5e&gt;574e6...</td>\n",
       "      <td>f2a1c1704f9587c94ed95bc98179dc499e933f5e&gt;574e6...</td>\n",
       "      <td>1</td>\n",
       "      <td>NaN</td>\n",
       "      <td>NaN</td>\n",
       "    </tr>\n",
       "    <tr>\n",
       "      <th>8240</th>\n",
       "      <td>explicit</td>\n",
       "      <td>120.0</td>\n",
       "      <td>DISCUSSION</td>\n",
       "      <td>108.0</td>\n",
       "      <td>Skeletal muscle is also a primary site of dise...</td>\n",
       "      <td>background</td>\n",
       "      <td>1.0000</td>\n",
       "      <td>18c97ea2ff60c110cc2a523e0fdf729608cbb083</td>\n",
       "      <td>fc13b9c3dfcc121013edaa12fa8ce7842aaed21a</td>\n",
       "      <td>False</td>\n",
       "      <td>18c97ea2ff60c110cc2a523e0fdf729608cbb083&gt;fc13b...</td>\n",
       "      <td>18c97ea2ff60c110cc2a523e0fdf729608cbb083&gt;fc13b...</td>\n",
       "      <td>8</td>\n",
       "      <td>NaN</td>\n",
       "      <td>NaN</td>\n",
       "    </tr>\n",
       "    <tr>\n",
       "      <th>8241</th>\n",
       "      <td>explicit</td>\n",
       "      <td>221.0</td>\n",
       "      <td></td>\n",
       "      <td>185.0</td>\n",
       "      <td>ACTIVATION OF TRANSCRIPTION FACTORS Roles for ...</td>\n",
       "      <td>method</td>\n",
       "      <td>NaN</td>\n",
       "      <td>4ec9b89857c0b27e8a4bd3745b7358f387773527</td>\n",
       "      <td>81affdba19e38e2b17cf7b9e93792cc2028cf21d</td>\n",
       "      <td>True</td>\n",
       "      <td>4ec9b89857c0b27e8a4bd3745b7358f387773527&gt;81aff...</td>\n",
       "      <td>4ec9b89857c0b27e8a4bd3745b7358f387773527&gt;81aff...</td>\n",
       "      <td>0</td>\n",
       "      <td>NaN</td>\n",
       "      <td>NaN</td>\n",
       "    </tr>\n",
       "    <tr>\n",
       "      <th>8242</th>\n",
       "      <td>explicit</td>\n",
       "      <td>102.0</td>\n",
       "      <td>Introduction</td>\n",
       "      <td>82.0</td>\n",
       "      <td>Most studies focused on the relation between b...</td>\n",
       "      <td>background</td>\n",
       "      <td>1.0000</td>\n",
       "      <td>42c954cad0de68657d4429b512d8fe75dceef13c</td>\n",
       "      <td>00afbfb391f7c15a73a4257b2c0fcd9767ece6a8</td>\n",
       "      <td>True</td>\n",
       "      <td>42c954cad0de68657d4429b512d8fe75dceef13c&gt;00afb...</td>\n",
       "      <td>42c954cad0de68657d4429b512d8fe75dceef13c&gt;00afb...</td>\n",
       "      <td>0</td>\n",
       "      <td>NaN</td>\n",
       "      <td>NaN</td>\n",
       "    </tr>\n",
       "  </tbody>\n",
       "</table>\n",
       "<p>8243 rows × 15 columns</p>\n",
       "</div>"
      ],
      "text/plain": [
       "        source  citeEnd                                        sectionName  \\\n",
       "0     explicit    175.0                                       Introduction   \n",
       "1     explicit     36.0  Novel Quantitative Trait Loci for Seminal Root...   \n",
       "2     explicit    228.0                                       Introduction   \n",
       "3     explicit    110.0                                         Discussion   \n",
       "4     explicit    239.0                                         Discussion   \n",
       "...        ...      ...                                                ...   \n",
       "8238  explicit     50.0                                                      \n",
       "8239  explicit    182.0                                         DISCUSSION   \n",
       "8240  explicit    120.0                                         DISCUSSION   \n",
       "8241  explicit    221.0                                                      \n",
       "8242  explicit    102.0                                       Introduction   \n",
       "\n",
       "      citeStart                                             string  \\\n",
       "0         168.0  However, how frataxin interacts with the Fe-S ...   \n",
       "1          16.0  In the study by Hickey et al. (2012), spikes w...   \n",
       "2         225.0  The drug also reduces catecholamine secretion,...   \n",
       "3          46.0  By clustering with lowly aggressive close kin ...   \n",
       "4         234.0  Ophthalmic symptoms are rare manifestations of...   \n",
       "...         ...                                                ...   \n",
       "8238       28.0  Importantly, the results of Pascalis et al. (2...   \n",
       "8239      179.0  As suggested by Nguena et al, there is a need ...   \n",
       "8240      108.0  Skeletal muscle is also a primary site of dise...   \n",
       "8241      185.0  ACTIVATION OF TRANSCRIPTION FACTORS Roles for ...   \n",
       "8242       82.0  Most studies focused on the relation between b...   \n",
       "\n",
       "           label  label_confidence                             citingPaperId  \\\n",
       "0     background            1.0000  1872080baa7d30ec8fb87be9a65358cd3a7fb649   \n",
       "1     background            1.0000  ce1d09a4a3a8d7fd3405b9328f65f00c952cf64b   \n",
       "2     background            1.0000  9cdf605beb1aa1078f235c4332b3024daa8b31dc   \n",
       "3     background            1.0000  d9f3207db0c79a3b154f3875c9760cc6b056904b   \n",
       "4     background            1.0000  88b86556857f4374842d2af2e359576806239175   \n",
       "...          ...               ...                                       ...   \n",
       "8238  background            0.7350  6f68ccd37718366c40ae6aeedf0b935bf560b215   \n",
       "8239  background            0.7508  f2a1c1704f9587c94ed95bc98179dc499e933f5e   \n",
       "8240  background            1.0000  18c97ea2ff60c110cc2a523e0fdf729608cbb083   \n",
       "8241      method               NaN  4ec9b89857c0b27e8a4bd3745b7358f387773527   \n",
       "8242  background            1.0000  42c954cad0de68657d4429b512d8fe75dceef13c   \n",
       "\n",
       "                                  citedPaperId  isKeyCitation  \\\n",
       "0     894be9b4ea46a5c422e81ef3c241072d4c73fdc0           True   \n",
       "1     b6642e19efb8db5623b3cc4eef1c5822a6151107           True   \n",
       "2     4e6a17fb8d7a3cada601d942e22eb5da6d01adbd          False   \n",
       "3     2cc6ff899bf17666ad35893524a4d61624555ed7          False   \n",
       "4     a5bb0ff1a026944d2a47a155462959af2b8505a8          False   \n",
       "...                                        ...            ...   \n",
       "8238  60ed4bdabf92b2fbd6162dbd8979888cccca55d7           True   \n",
       "8239  574e659da7f6c62c07bfaaacd1f31d65bd75524c           True   \n",
       "8240  fc13b9c3dfcc121013edaa12fa8ce7842aaed21a          False   \n",
       "8241  81affdba19e38e2b17cf7b9e93792cc2028cf21d           True   \n",
       "8242  00afbfb391f7c15a73a4257b2c0fcd9767ece6a8           True   \n",
       "\n",
       "                                                     id  \\\n",
       "0     1872080baa7d30ec8fb87be9a65358cd3a7fb649>894be...   \n",
       "1     ce1d09a4a3a8d7fd3405b9328f65f00c952cf64b>b6642...   \n",
       "2     9cdf605beb1aa1078f235c4332b3024daa8b31dc>4e6a1...   \n",
       "3     d9f3207db0c79a3b154f3875c9760cc6b056904b>2cc6f...   \n",
       "4     88b86556857f4374842d2af2e359576806239175>a5bb0...   \n",
       "...                                                 ...   \n",
       "8238  6f68ccd37718366c40ae6aeedf0b935bf560b215>60ed4...   \n",
       "8239  f2a1c1704f9587c94ed95bc98179dc499e933f5e>574e6...   \n",
       "8240  18c97ea2ff60c110cc2a523e0fdf729608cbb083>fc13b...   \n",
       "8241  4ec9b89857c0b27e8a4bd3745b7358f387773527>81aff...   \n",
       "8242  42c954cad0de68657d4429b512d8fe75dceef13c>00afb...   \n",
       "\n",
       "                                              unique_id  excerpt_index label2  \\\n",
       "0     1872080baa7d30ec8fb87be9a65358cd3a7fb649>894be...             11    NaN   \n",
       "1     ce1d09a4a3a8d7fd3405b9328f65f00c952cf64b>b6642...              2    NaN   \n",
       "2     9cdf605beb1aa1078f235c4332b3024daa8b31dc>4e6a1...              0    NaN   \n",
       "3     d9f3207db0c79a3b154f3875c9760cc6b056904b>2cc6f...              3    NaN   \n",
       "4     88b86556857f4374842d2af2e359576806239175>a5bb0...              2    NaN   \n",
       "...                                                 ...            ...    ...   \n",
       "8238  6f68ccd37718366c40ae6aeedf0b935bf560b215>60ed4...             15    NaN   \n",
       "8239  f2a1c1704f9587c94ed95bc98179dc499e933f5e>574e6...              1    NaN   \n",
       "8240  18c97ea2ff60c110cc2a523e0fdf729608cbb083>fc13b...              8    NaN   \n",
       "8241  4ec9b89857c0b27e8a4bd3745b7358f387773527>81aff...              0    NaN   \n",
       "8242  42c954cad0de68657d4429b512d8fe75dceef13c>00afb...              0    NaN   \n",
       "\n",
       "      label2_confidence  \n",
       "0                   NaN  \n",
       "1                   NaN  \n",
       "2                   NaN  \n",
       "3                   NaN  \n",
       "4                   NaN  \n",
       "...                 ...  \n",
       "8238                NaN  \n",
       "8239                NaN  \n",
       "8240                NaN  \n",
       "8241                NaN  \n",
       "8242                NaN  \n",
       "\n",
       "[8243 rows x 15 columns]"
      ]
     },
     "execution_count": 2,
     "metadata": {},
     "output_type": "execute_result"
    }
   ],
   "source": [
    "train_df = pd.read_json('train.jsonl', lines=True)\n",
    "X_train = train_df['string']\n",
    "y_train = train_df['label']\n",
    "\n",
    "dev_df = pd.read_json('dev.jsonl', lines=True)\n",
    "X_dev = dev_df['string']\n",
    "y_dev = dev_df['label']\n",
    "\n",
    "test_df = pd.read_json('test.jsonl', lines=True)\n",
    "X_test = test_df['string']\n",
    "y_test = test_df['label']\n",
    "\n",
    "train_df"
   ]
  },
  {
   "cell_type": "code",
   "execution_count": 3,
   "metadata": {},
   "outputs": [
    {
     "data": {
      "text/plain": [
       "0"
      ]
     },
     "execution_count": 3,
     "metadata": {},
     "output_type": "execute_result"
    }
   ],
   "source": [
    "X_train.isnull().sum()\n",
    "X_test.isnull().sum()"
   ]
  },
  {
   "cell_type": "code",
   "execution_count": 4,
   "metadata": {},
   "outputs": [
    {
     "data": {
      "image/png": "[encoded data removed]",
      "text/plain": [
       "<Figure size 720x432 with 1 Axes>"
      ]
     },
     "metadata": {},
     "output_type": "display_data"
    }
   ],
   "source": [
    "sns.set_style(\"whitegrid\")\n",
    "\n",
    "# Function to plot the class distribution with seaborn\n",
    "def plot_class_distribution(y_train):\n",
    "    plt.figure(figsize=(10, 6))\n",
    "    ax = sns.countplot(x=y_train, palette=\"viridis\")\n",
    "    plt.title('Class Distribution in Training Data')\n",
    "    plt.xlabel('Classes')\n",
    "    plt.ylabel('Frequency')\n",
    "    \n",
    "    # Add the count above the bars\n",
    "    for p in ax.patches:\n",
    "        ax.annotate(f'{p.get_height()}', (p.get_x() + p.get_width() / 2., p.get_height()),\n",
    "                    ha='center', va='center', fontsize=11, color='gray', xytext=(0, 7),\n",
    "                    textcoords='offset points')\n",
    "    \n",
    "    # Show the plot\n",
    "    plt.show()\n",
    "\n",
    "# Plotting class distribution for y_train\n",
    "plot_class_distribution(y_train)"
   ]
  },
  {
   "cell_type": "code",
   "execution_count": 5,
   "metadata": {},
   "outputs": [],
   "source": [
    "def cleaning(text):\n",
    "    stop_words = stopwords.words('english')\n",
    "    text = text.lower()\n",
    "    text = ' '.join(x for x in text.split() if x not in stop_words)\n",
    "    return text"
   ]
  },
  {
   "cell_type": "code",
   "execution_count": 6,
   "metadata": {},
   "outputs": [],
   "source": [
    "def lemmatize(text):\n",
    "    lemmatizer = WordNetLemmatizer()\n",
    "    words = []\n",
    "    for x in text.split():\n",
    "        x = lemmatizer.lemmatize(x)\n",
    "        words.append(x)\n",
    "    text = ' '.join(words)\n",
    "    return text"
   ]
  },
  {
   "cell_type": "code",
   "execution_count": 7,
   "metadata": {},
   "outputs": [],
   "source": [
    "def preprocessing(text):\n",
    "    # Tokenization\n",
    "    tokenizer = RegexpTokenizer(r'[a-zA-Z0-9]+')\n",
    "    text = cleaning(text)\n",
    "    text = lemmatize(text)\n",
    "    text = ' '.join(tokenizer.tokenize(text))\n",
    "    return text"
   ]
  },
  {
   "cell_type": "code",
   "execution_count": 8,
   "metadata": {},
   "outputs": [],
   "source": [
    "def augment_data_multiclass(X, y):\n",
    "    df = pd.concat([X, y], axis=1)\n",
    "    majority_class_size = df['label'].value_counts().max()\n",
    "    upsampled_dataframes = []\n",
    "    for class_label in df['label'].unique():\n",
    "        class_df = df[df['label'] == class_label]\n",
    "        if len(class_df) < majority_class_size:\n",
    "            class_df_upsampled = resample(class_df, replace=True, n_samples=majority_class_size, random_state=10)\n",
    "            upsampled_dataframes.append(class_df_upsampled)\n",
    "        else:\n",
    "            upsampled_dataframes.append(class_df)\n",
    "    upsampled_df = pd.concat(upsampled_dataframes)\n",
    "    return upsampled_df['string'], upsampled_df['label']"
   ]
  },
  {
   "cell_type": "markdown",
   "metadata": {},
   "source": [
    "## Model Construction and Tuning"
   ]
  },
  {
   "cell_type": "code",
   "execution_count": 11,
   "metadata": {},
   "outputs": [],
   "source": [
    "from sklearn.naive_bayes import GaussianNB, MultinomialNB\n",
    "from sklearn.model_selection import GridSearchCV\n",
    "from sklearn.metrics import f1_score,accuracy_score"
   ]
  },
  {
   "cell_type": "markdown",
   "metadata": {},
   "source": [
    "## Feature Extraction"
   ]
  },
  {
   "cell_type": "markdown",
   "metadata": {},
   "source": [
    "### Baseline"
   ]
  },
  {
   "cell_type": "code",
   "execution_count": 12,
   "metadata": {},
   "outputs": [],
   "source": [
    "vectorizer = TfidfVectorizer(preprocessor=preprocessing)\n",
    "X_train_tfidf = vectorizer.fit_transform(X_train)\n",
    "X_dev_tfidf = vectorizer.transform(X_dev)\n",
    "X_test_tfidf = vectorizer.transform(X_test)"
   ]
  },
  {
   "cell_type": "code",
   "execution_count": 13,
   "metadata": {},
   "outputs": [],
   "source": [
    "baseline = MultinomialNB()\n",
    "baseline.fit(X_train_tfidf.toarray(), y_train)\n",
    "y_pred_baseline = baseline.predict(X_test_tfidf.toarray())\n",
    "f1_score_base = f1_score(y_test, y_pred_baseline, average='macro')\n",
    "acc_score_base= accuracy_score(y_test, y_pred_baseline)"
   ]
  },
  {
   "cell_type": "code",
   "execution_count": 14,
   "metadata": {},
   "outputs": [
    {
     "data": {
      "text/plain": [
       "0.6131112305212252"
      ]
     },
     "execution_count": 14,
     "metadata": {},
     "output_type": "execute_result"
    }
   ],
   "source": [
    "acc_score_base"
   ]
  },
  {
   "cell_type": "code",
   "execution_count": 15,
   "metadata": {},
   "outputs": [
    {
     "data": {
      "text/plain": [
       "0.37970394885823383"
      ]
     },
     "execution_count": 15,
     "metadata": {},
     "output_type": "execute_result"
    }
   ],
   "source": [
    "f1_score_base"
   ]
  },
  {
   "cell_type": "markdown",
   "metadata": {},
   "source": [
    "### BOW Representation"
   ]
  },
  {
   "cell_type": "code",
   "execution_count": 9,
   "metadata": {},
   "outputs": [],
   "source": [
    "#X_train, y_train = augment_data_multiclass(X_train, y_train)\n",
    "cv = CountVectorizer(ngram_range=(1,1),preprocessor=preprocessing)\n",
    "X_train_bow = cv.fit_transform(X_train)\n",
    "X_dev_bow = cv.transform(X_dev)\n",
    "X_test_bow = cv.transform(X_test)"
   ]
  },
  {
   "cell_type": "markdown",
   "metadata": {},
   "source": [
    "### TF-IDF Representation"
   ]
  },
  {
   "cell_type": "code",
   "execution_count": 24,
   "metadata": {},
   "outputs": [],
   "source": [
    "#X_train, y_train = augment_data_multiclass(X_train, y_train)\n",
    "vectorizer = TfidfVectorizer(preprocessor=preprocessing, ngram_range=(1, 2), min_df=3, max_df=0.5, use_idf=True, smooth_idf=True)\n",
    "X_train_tfidf = vectorizer.fit_transform(X_train)\n",
    "X_dev_tfidf = vectorizer.transform(X_dev)\n",
    "X_test_tfidf = vectorizer.transform(X_test)"
   ]
  },
  {
   "cell_type": "markdown",
   "metadata": {},
   "source": [
    "### Naive Bayes\n",
    "\n",
    "Using the preprocessed data, we are able to run and process a simple Naive Bayes model."
   ]
  },
  {
   "cell_type": "code",
   "execution_count": 16,
   "metadata": {},
   "outputs": [],
   "source": [
    "# Calculating priors (P(y) = #documents of class y/#total documents)\n",
    "def get_prior(class_name: str):\n",
    "    class_docs_count = y_train.value_counts()[class_name]\n",
    "    total_docs = y_train.count()\n",
    "\n",
    "    return class_docs_count / total_docs"
   ]
  },
  {
   "cell_type": "code",
   "execution_count": 17,
   "metadata": {},
   "outputs": [],
   "source": [
    "classes = y_train.unique()\n",
    "\n",
    "priors = [get_prior(class_name) for class_name in classes]"
   ]
  },
  {
   "cell_type": "code",
   "execution_count": 18,
   "metadata": {},
   "outputs": [
    {
     "data": {
      "text/plain": [
       "\"model = GaussianNB()\\nparameters = {\\n    'priors': [priors, [0.5, 0.3, 0.2], [0.5, 0.2, 0.3], [0.6, 0.2, 0.2], [0.4, 0.3, 0.3]],\\n    'var_smoothing': [1e-5, 1e-6, 1e-7, 1e-8, 1e-9, 1e-10]\\n}\""
      ]
     },
     "execution_count": 18,
     "metadata": {},
     "output_type": "execute_result"
    }
   ],
   "source": [
    "'''model = GaussianNB()\n",
    "parameters = {\n",
    "    'priors': [priors, [0.5, 0.3, 0.2], [0.5, 0.2, 0.3], [0.6, 0.2, 0.2], [0.4, 0.3, 0.3]],\n",
    "    'var_smoothing': [1e-5, 1e-6, 1e-7, 1e-8, 1e-9, 1e-10]\n",
    "}'''"
   ]
  },
  {
   "cell_type": "code",
   "execution_count": 25,
   "metadata": {},
   "outputs": [],
   "source": [
    "# BOW Representation x GaussianNB\n",
    "GNB_model_BoW = GaussianNB(priors=priors)\n",
    "GNB_model_BoW.fit(X_train_bow.toarray(), y_train)\n",
    "#GNB_model_BoW = GridSearchCV(model, parameters)\n",
    "y_pred_BoW_GNB = GNB_model_BoW.predict(X_test_bow.toarray())\n",
    "f1_score_BoW_GNB = f1_score(y_test, y_pred_BoW_GNB, average='macro')\n",
    "acc_score_BoW_GNB = accuracy_score(y_test, y_pred_BoW_GNB)"
   ]
  },
  {
   "cell_type": "code",
   "execution_count": 26,
   "metadata": {},
   "outputs": [],
   "source": [
    "# BOW Representation x MultinomialNB\n",
    "MNB_model_BoW = MultinomialNB()\n",
    "MNB_model_BoW.fit(X_train_bow.toarray(), y_train)\n",
    "y_pred_BoW_MNB= MNB_model_BoW.predict(X_test_bow.toarray())\n",
    "f1_score_BoW_MNB= f1_score(y_test, y_pred_BoW_MNB, average='macro')\n",
    "acc_score_BoW_MNB = accuracy_score(y_test, y_pred_BoW_MNB)"
   ]
  },
  {
   "cell_type": "code",
   "execution_count": 27,
   "metadata": {},
   "outputs": [],
   "source": [
    "# TF-IDF Representation x GaussianNB\n",
    "GNB_model_tfidf = GaussianNB(priors=priors)\n",
    "GNB_model_tfidf.fit(X_train_tfidf.toarray(), y_train)\n",
    "#GNB_model_tfidf = GridSearchCV(model, parameters)\n",
    "y_pred_tfidf_GNB= GNB_model_tfidf.predict(X_test_tfidf.toarray())\n",
    "f1_score_tfidf_GNB = f1_score(y_test, y_pred_tfidf_GNB, average='macro')\n",
    "acc_score_tfidf_GNB = accuracy_score(y_test, y_pred_tfidf_GNB)"
   ]
  },
  {
   "cell_type": "code",
   "execution_count": 28,
   "metadata": {},
   "outputs": [],
   "source": [
    "# TF-IDF Representation x MultinomialNB\n",
    "MNB_model_tfidf = MultinomialNB()\n",
    "MNB_model_tfidf.fit(X_train_tfidf.toarray(), y_train)\n",
    "y_pred_tfidf_MNB = MNB_model_tfidf.predict(X_test_tfidf.toarray())\n",
    "f1_score_tfidf_MNB = f1_score(y_test, y_pred_tfidf_MNB, average='macro')\n",
    "acc_score_tfidf_MNB= accuracy_score(y_test, y_pred_tfidf_MNB)"
   ]
  },
  {
   "cell_type": "markdown",
   "metadata": {},
   "source": [
    "Finally, compare the F1 scores and accuracy scores."
   ]
  },
  {
   "cell_type": "code",
   "execution_count": 29,
   "metadata": {},
   "outputs": [
    {
     "data": {
      "text/html": [
       "<div>\n",
       "<style scoped>\n",
       "    .dataframe tbody tr th:only-of-type {\n",
       "        vertical-align: middle;\n",
       "    }\n",
       "\n",
       "    .dataframe tbody tr th {\n",
       "        vertical-align: top;\n",
       "    }\n",
       "\n",
       "    .dataframe thead th {\n",
       "        text-align: right;\n",
       "    }\n",
       "</style>\n",
       "<table border=\"1\" class=\"dataframe\">\n",
       "  <thead>\n",
       "    <tr style=\"text-align: right;\">\n",
       "      <th></th>\n",
       "      <th>Model</th>\n",
       "      <th>Accuracy</th>\n",
       "      <th>F1</th>\n",
       "    </tr>\n",
       "  </thead>\n",
       "  <tbody>\n",
       "    <tr>\n",
       "      <th>0</th>\n",
       "      <td>GNB x BOW</td>\n",
       "      <td>0.558302</td>\n",
       "      <td>0.469153</td>\n",
       "    </tr>\n",
       "    <tr>\n",
       "      <th>1</th>\n",
       "      <td>MNB x BOW</td>\n",
       "      <td>0.750134</td>\n",
       "      <td>0.682132</td>\n",
       "    </tr>\n",
       "    <tr>\n",
       "      <th>2</th>\n",
       "      <td>GNB x TFIDF</td>\n",
       "      <td>0.573348</td>\n",
       "      <td>0.507729</td>\n",
       "    </tr>\n",
       "    <tr>\n",
       "      <th>3</th>\n",
       "      <td>MNB x TFIDF</td>\n",
       "      <td>0.695325</td>\n",
       "      <td>0.543895</td>\n",
       "    </tr>\n",
       "  </tbody>\n",
       "</table>\n",
       "</div>"
      ],
      "text/plain": [
       "         Model  Accuracy        F1\n",
       "0    GNB x BOW  0.558302  0.469153\n",
       "1    MNB x BOW  0.750134  0.682132\n",
       "2  GNB x TFIDF  0.573348  0.507729\n",
       "3  MNB x TFIDF  0.695325  0.543895"
      ]
     },
     "execution_count": 29,
     "metadata": {},
     "output_type": "execute_result"
    }
   ],
   "source": [
    "list1 = [\"GNB x BOW\", acc_score_BoW_GNB, f1_score_BoW_GNB]\n",
    "list2 = [\"MNB x BOW\",acc_score_BoW_MNB, f1_score_BoW_MNB]\n",
    "list3 = [\"GNB x TFIDF\", acc_score_tfidf_GNB, f1_score_tfidf_GNB]\n",
    "list4 = [\"MNB x TFIDF\", acc_score_tfidf_MNB, f1_score_tfidf_MNB]\n",
    "\n",
    "df = pd.DataFrame([list1, list2, list3, list4], columns=['Model','Accuracy', 'F1'])\n",
    "df"
   ]
  },
  {
   "cell_type": "code",
   "execution_count": 21,
   "metadata": {},
   "outputs": [],
   "source": [
    "#print(f\"F1 Score for BoW Naive-Bayes model: {f1_score_BoW}\")\n",
    "#print(f\"Accuracy Score for BoW Naive-Bayes model: {acc_score_BoW}\")\n",
    "#print(f\"F1 Score for TF-IDF Naive-Bayes model: {f1_score_tfidf}\")\n",
    "#print(f\"Accuracy Score for TF-IDF Naive-Bayes model: {acc_score_tfidf}\")\n",
    "\n",
    "# Normal Gaussian Model with Priors\n",
    "# F1 Score for BoW Naive-Bayes model: 0.4691528243483322\n",
    "# F1 Score for TF-IDF Naive-Bayes model: 0.5077292892355515\n",
    "\n",
    "# Multinomial NB\n",
    "# F1 Score for BoW Naive-Bayes model: 0.6821318078269769\n",
    "# F1 Score for TF-IDF Naive-Bayes model: 0.5438953105865063\n",
    "\n",
    "# GridSearchCV for Gaussian NB (30+ minutes)\n",
    "# F1 Score for BoW Naive-Bayes model: 0.4704550456140844\n",
    "# F1 Score for TF-IDF Naive-Bayes model: 0.5077292892355515"
   ]
  },
  {
   "cell_type": "markdown",
   "metadata": {},
   "source": [
    "MultinomialNB seems to perform better than GaussianNB. We'll try to optimize the hyperparameter of MultinomialNB using GridSearchCV"
   ]
  },
  {
   "cell_type": "code",
   "execution_count": 39,
   "metadata": {},
   "outputs": [],
   "source": [
    "from sklearn.metrics import make_scorer\n",
    "\n",
    "f1_macro_scorer = make_scorer(f1_score, average='macro')\n",
    "\n",
    "parameters = {\n",
    "    'alpha': [0.1, 0.5, 1.0, 5.0, 10.0],\n",
    "    'fit_prior': [True, False]\n",
    "}\n",
    "\n",
    "bow_grid = GridSearchCV(MultinomialNB(), parameters, cv=5, scoring=f1_macro_scorer)\n",
    "tfidf_grid = GridSearchCV(MultinomialNB(), parameters, cv=5, scoring=f1_macro_scorer)"
   ]
  },
  {
   "cell_type": "code",
   "execution_count": 40,
   "metadata": {},
   "outputs": [],
   "source": [
    "bow_grid.fit(X_train_bow, y_train)\n",
    "model_bow = bow_grid.best_estimator_\n",
    "\n",
    "tfidf_grid.fit(X_train_tfidf, y_train)\n",
    "model_tfidf = tfidf_grid.best_estimator_"
   ]
  },
  {
   "cell_type": "code",
   "execution_count": 41,
   "metadata": {},
   "outputs": [],
   "source": [
    "y_pred_bow = model_bow.predict(X_test_bow)\n",
    "f1_score_bow = f1_score(y_test, y_pred_bow, average='macro')\n",
    "acc_score_bow = accuracy_score(y_test, y_pred_bow)\n",
    "\n",
    "y_pred_tfidf = model_tfidf.predict(X_test_tfidf)\n",
    "f1_score_tfidf = f1_score(y_test, y_pred_tfidf, average='macro')\n",
    "acc_score_tfidf = accuracy_score(y_test, y_pred_tfidf)"
   ]
  },
  {
   "cell_type": "code",
   "execution_count": 42,
   "metadata": {},
   "outputs": [
    {
     "name": "stdout",
     "output_type": "stream",
     "text": [
      "F1 Score for hyper-optimized BoW Multinomial Naive-Bayes model: 0.7044097669097669\n",
      "Accuracy Score for hyper-optimized BoW Multinomial Naive-Bayes model: 0.7490596453519613\n",
      "F1 Score for hyper-optimized TF-IDF Multinomial Naive-Bayes model: 0.7261986278379723\n",
      "Accuracy Score for hyper-optimized TF-IDF Multinomial Naive-Bayes model: 0.7587318645889307\n"
     ]
    }
   ],
   "source": [
    "print(f\"F1 Score for hyper-optimized BoW Multinomial Naive-Bayes model: {f1_score_bow}\")\n",
    "print(f\"Accuracy Score for hyper-optimized BoW Multinomial Naive-Bayes model: {acc_score_bow}\")\n",
    "print(f\"F1 Score for hyper-optimized TF-IDF Multinomial Naive-Bayes model: {f1_score_tfidf}\")\n",
    "print(f\"Accuracy Score for hyper-optimized TF-IDF Multinomial Naive-Bayes model: {acc_score_tfidf}\")"
   ]
  },
  {
   "cell_type": "code",
   "execution_count": 43,
   "metadata": {},
   "outputs": [
    {
     "data": {
      "text/html": [
       "<div>\n",
       "<style scoped>\n",
       "    .dataframe tbody tr th:only-of-type {\n",
       "        vertical-align: middle;\n",
       "    }\n",
       "\n",
       "    .dataframe tbody tr th {\n",
       "        vertical-align: top;\n",
       "    }\n",
       "\n",
       "    .dataframe thead th {\n",
       "        text-align: right;\n",
       "    }\n",
       "</style>\n",
       "<table border=\"1\" class=\"dataframe\">\n",
       "  <thead>\n",
       "    <tr style=\"text-align: right;\">\n",
       "      <th></th>\n",
       "      <th>Model</th>\n",
       "      <th>Accuracy</th>\n",
       "      <th>F1</th>\n",
       "    </tr>\n",
       "  </thead>\n",
       "  <tbody>\n",
       "    <tr>\n",
       "      <th>0</th>\n",
       "      <td>MNB x BOW</td>\n",
       "      <td>0.749060</td>\n",
       "      <td>0.704410</td>\n",
       "    </tr>\n",
       "    <tr>\n",
       "      <th>1</th>\n",
       "      <td>MNB x TFIDF</td>\n",
       "      <td>0.758732</td>\n",
       "      <td>0.726199</td>\n",
       "    </tr>\n",
       "  </tbody>\n",
       "</table>\n",
       "</div>"
      ],
      "text/plain": [
       "         Model  Accuracy        F1\n",
       "0    MNB x BOW  0.749060  0.704410\n",
       "1  MNB x TFIDF  0.758732  0.726199"
      ]
     },
     "execution_count": 43,
     "metadata": {},
     "output_type": "execute_result"
    }
   ],
   "source": [
    "list1 = [\"MNB x BOW\", acc_score_bow, f1_score_bow]\n",
    "list2 = [\"MNB x TFIDF\", acc_score_tfidf, f1_score_tfidf]\n",
    "\n",
    "df = pd.DataFrame([list1, list2], columns=['Model','Accuracy', 'F1'])\n",
    "df"
   ]
  },
  {
   "cell_type": "code",
   "execution_count": 47,
   "metadata": {},
   "outputs": [
    {
     "name": "stdout",
     "output_type": "stream",
     "text": [
      "F1 Score on Category 1 for hyper-optimized BoW Multinomial Naive-Bayes model: 0.7481144509393096\n",
      "Accuracy Score on Category 1 for hyper-optimized BoW Multinomial Naive-Bayes model: 0.7824427480916031\n",
      "F1 Score on Category 1 for hyper-optimized TF-IDF Multinomial Naive-Bayes model: 0.7762221803488055\n",
      "Accuracy Score on Category 1 for hyper-optimized TF-IDF Multinomial Naive-Bayes model: 0.7977099236641222\n"
     ]
    }
   ],
   "source": [
    "# category 1\n",
    "short_df = test_df[test_df['string'].apply(lambda x: len(nltk.word_tokenize(x)) <= 25)]\n",
    "X_test1_bow = cv.transform(short_df['string'])\n",
    "X_test1_tfidf = vectorizer.transform(short_df['string'])\n",
    "y_test1 = short_df['label']\n",
    "y_pred_bow = model_bow.predict(X_test1_bow)\n",
    "f1_score_bow = f1_score(y_test1, y_pred_bow, average='macro')\n",
    "acc_score_bow = accuracy_score(y_test1, y_pred_bow)\n",
    "\n",
    "y_pred_tfidf = model_tfidf.predict(X_test1_tfidf)\n",
    "f1_score_tfidf = f1_score(y_test1, y_pred_tfidf, average='macro')\n",
    "acc_score_tfidf = accuracy_score(y_test1, y_pred_tfidf)\n",
    "print(f\"F1 Score on Category 1 for hyper-optimized BoW Multinomial Naive-Bayes model: {f1_score_bow}\")\n",
    "print(f\"Accuracy Score on Category 1 for hyper-optimized BoW Multinomial Naive-Bayes model: {acc_score_bow}\")\n",
    "print(f\"F1 Score on Category 1 for hyper-optimized TF-IDF Multinomial Naive-Bayes model: {f1_score_tfidf}\")\n",
    "print(f\"Accuracy Score on Category 1 for hyper-optimized TF-IDF Multinomial Naive-Bayes model: {acc_score_tfidf}\")"
   ]
  },
  {
   "cell_type": "code",
   "execution_count": 49,
   "metadata": {},
   "outputs": [
    {
     "name": "stdout",
     "output_type": "stream",
     "text": [
      "F1 Score on Category 2 for hyper-optimized BoW Multinomial Naive-Bayes model: 0.6969424572373052\n",
      "Accuracy Score on Category 2 for hyper-optimized BoW Multinomial Naive-Bayes model: 0.7435897435897436\n",
      "F1 Score on Category 2 for hyper-optimized TF-IDF Multinomial Naive-Bayes model: 0.7177891082831502\n",
      "Accuracy Score on Category 2 for hyper-optimized TF-IDF Multinomial Naive-Bayes model: 0.7523452157598499\n"
     ]
    }
   ],
   "source": [
    "# category 2\n",
    "long_df = test_df[test_df['string'].apply(lambda x: len(nltk.word_tokenize(x)) > 25)]\n",
    "X_test2_bow = cv.transform(long_df['string'])\n",
    "X_test2_tfidf = vectorizer.transform(long_df['string'])\n",
    "y_test2 = long_df['label']\n",
    "y_pred_bow = model_bow.predict(X_test2_bow)\n",
    "f1_score_bow = f1_score(y_test2, y_pred_bow, average='macro')\n",
    "acc_score_bow = accuracy_score(y_test2, y_pred_bow)\n",
    "\n",
    "y_pred_tfidf = model_tfidf.predict(X_test2_tfidf)\n",
    "f1_score_tfidf = f1_score(y_test2, y_pred_tfidf, average='macro')\n",
    "acc_score_tfidf = accuracy_score(y_test2, y_pred_tfidf)\n",
    "print(f\"F1 Score on Category 2 for hyper-optimized BoW Multinomial Naive-Bayes model: {f1_score_bow}\")\n",
    "print(f\"Accuracy Score on Category 2 for hyper-optimized BoW Multinomial Naive-Bayes model: {acc_score_bow}\")\n",
    "print(f\"F1 Score on Category 2 for hyper-optimized TF-IDF Multinomial Naive-Bayes model: {f1_score_tfidf}\")\n",
    "print(f\"Accuracy Score on Category 2 for hyper-optimized TF-IDF Multinomial Naive-Bayes model: {acc_score_tfidf}\")"
   ]
  },
  {
   "cell_type": "code",
   "execution_count": 51,
   "metadata": {},
   "outputs": [
    {
     "name": "stdout",
     "output_type": "stream",
     "text": [
      "F1 Score on Category 3 for hyper-optimized BoW Multinomial Naive-Bayes model: 0.7008253968253969\n",
      "Accuracy Score on Category 3 for hyper-optimized BoW Multinomial Naive-Bayes model: 0.7481840193704601\n",
      "F1 Score on Category 3 for hyper-optimized TF-IDF Multinomial Naive-Bayes model: 0.7525760915718184\n",
      "Accuracy Score on Category 3 for hyper-optimized TF-IDF Multinomial Naive-Bayes model: 0.784503631961259\n"
     ]
    }
   ],
   "source": [
    "# category 3\n",
    "paragraph_df = test_df[test_df['string'].apply(lambda x: len(nltk.sent_tokenize(x)) > 1)]\n",
    "X_test3_bow = cv.transform(paragraph_df['string'])\n",
    "X_test3_tfidf = vectorizer.transform(paragraph_df['string'])\n",
    "y_test3 = paragraph_df['label']\n",
    "y_pred_bow = model_bow.predict(X_test3_bow)\n",
    "f1_score_bow = f1_score(y_test3, y_pred_bow, average='macro')\n",
    "acc_score_bow = accuracy_score(y_test3, y_pred_bow)\n",
    "\n",
    "y_pred_tfidf = model_tfidf.predict(X_test3_tfidf)\n",
    "f1_score_tfidf = f1_score(y_test3, y_pred_tfidf, average='macro')\n",
    "acc_score_tfidf = accuracy_score(y_test3, y_pred_tfidf)\n",
    "print(f\"F1 Score on Category 3 for hyper-optimized BoW Multinomial Naive-Bayes model: {f1_score_bow}\")\n",
    "print(f\"Accuracy Score on Category 3 for hyper-optimized BoW Multinomial Naive-Bayes model: {acc_score_bow}\")\n",
    "print(f\"F1 Score on Category 3 for hyper-optimized TF-IDF Multinomial Naive-Bayes model: {f1_score_tfidf}\")\n",
    "print(f\"Accuracy Score on Category 3 for hyper-optimized TF-IDF Multinomial Naive-Bayes model: {acc_score_tfidf}\")"
   ]
  },
  {
   "cell_type": "code",
   "execution_count": 52,
   "metadata": {},
   "outputs": [
    {
     "name": "stdout",
     "output_type": "stream",
     "text": [
      "F1 Score on Category 4 for hyper-optimized BoW Multinomial Naive-Bayes model: 0.6823707537587823\n",
      "Accuracy Score on Category 4 for hyper-optimized BoW Multinomial Naive-Bayes model: 0.7345513164965073\n",
      "F1 Score on Category 4 for hyper-optimized TF-IDF Multinomial Naive-Bayes model: 0.7138380108247885\n",
      "Accuracy Score on Category 4 for hyper-optimized TF-IDF Multinomial Naive-Bayes model: 0.7528210639441161\n"
     ]
    }
   ],
   "source": [
    "# category 4\n",
    "def rearrange_letter(word):\n",
    "    word_list = list(word)\n",
    "    n = len(word_list)\n",
    "    if n == 1:\n",
    "        return ''.join(word_list)\n",
    "    \n",
    "    idx = random.randint(0, n - 2)\n",
    "    word_list[idx], word_list[idx + 1] = word_list[idx + 1], word_list[idx]\n",
    "    return ''.join(word_list)\n",
    "\n",
    "def rearrange_word(text):\n",
    "    words = nltk.word_tokenize(text)\n",
    "    num_words = len(words)\n",
    "\n",
    "    # rearrange letter for some random word\n",
    "    for _ in range(5):\n",
    "        idx = random.randint(0, num_words - 1)\n",
    "        words[idx] = rearrange_letter(words[idx])\n",
    "    \n",
    "    # rearrange word\n",
    "    for _ in range(min(3, num_words - 1)):\n",
    "        idx = random.randint(0, num_words - 2)\n",
    "        words[idx], words[idx + 1] = words[idx + 1], words[idx]\n",
    "\n",
    "    return ' '.join(words)\n",
    "\n",
    "typo_series = test_df['string'].apply(rearrange_word)\n",
    "\n",
    "typo_df = pd.DataFrame({\n",
    "    'label': test_df.label,\n",
    "    'string': typo_series\n",
    "})\n",
    "\n",
    "\n",
    "X_test4_bow = cv.transform(typo_df['string'])\n",
    "X_test4_tfidf = vectorizer.transform(typo_df['string'])\n",
    "y_test4 = typo_df['label']\n",
    "y_pred_bow = model_bow.predict(X_test4_bow)\n",
    "f1_score_bow = f1_score(y_test4, y_pred_bow, average='macro')\n",
    "acc_score_bow = accuracy_score(y_test4, y_pred_bow)\n",
    "\n",
    "y_pred_tfidf = model_tfidf.predict(X_test4_tfidf)\n",
    "f1_score_tfidf = f1_score(y_test4, y_pred_tfidf, average='macro')\n",
    "acc_score_tfidf = accuracy_score(y_test4, y_pred_tfidf)\n",
    "print(f\"F1 Score on Category 4 for hyper-optimized BoW Multinomial Naive-Bayes model: {f1_score_bow}\")\n",
    "print(f\"Accuracy Score on Category 4 for hyper-optimized BoW Multinomial Naive-Bayes model: {acc_score_bow}\")\n",
    "print(f\"F1 Score on Category 4 for hyper-optimized TF-IDF Multinomial Naive-Bayes model: {f1_score_tfidf}\")\n",
    "print(f\"Accuracy Score on Category 4 for hyper-optimized TF-IDF Multinomial Naive-Bayes model: {acc_score_tfidf}\")"
   ]
  },
  {
   "cell_type": "code",
   "execution_count": 53,
   "metadata": {},
   "outputs": [
    {
     "name": "stdout",
     "output_type": "stream",
     "text": [
      "F1 Score on Category 5 for hyper-optimized BoW Multinomial Naive-Bayes model: 0.5974853143014974\n",
      "Accuracy Score on Category 5 for hyper-optimized BoW Multinomial Naive-Bayes model: 0.6985491671144546\n",
      "F1 Score on Category 5 for hyper-optimized TF-IDF Multinomial Naive-Bayes model: 0.5960716107774932\n",
      "Accuracy Score on Category 5 for hyper-optimized TF-IDF Multinomial Naive-Bayes model: 0.6899516389038152\n"
     ]
    }
   ],
   "source": [
    "# category 5\n",
    "synonymized_test_df = pd.read_json('synonymized.jsonl', lines=True)\n",
    "synonymized_test_df = synonymized_test_df[['string', 'label']]\n",
    "X_test5_bow = cv.transform(synonymized_test_df['string'])\n",
    "X_test5_tfidf = vectorizer.transform(synonymized_test_df['string'])\n",
    "y_test5 = synonymized_test_df['label']\n",
    "y_pred_bow = model_bow.predict(X_test5_bow)\n",
    "f1_score_bow = f1_score(y_test5, y_pred_bow, average='macro')\n",
    "acc_score_bow = accuracy_score(y_test5, y_pred_bow)\n",
    "\n",
    "y_pred_tfidf = model_tfidf.predict(X_test5_tfidf)\n",
    "f1_score_tfidf = f1_score(y_test5, y_pred_tfidf, average='macro')\n",
    "acc_score_tfidf = accuracy_score(y_test5, y_pred_tfidf)\n",
    "print(f\"F1 Score on Category 5 for hyper-optimized BoW Multinomial Naive-Bayes model: {f1_score_bow}\")\n",
    "print(f\"Accuracy Score on Category 5 for hyper-optimized BoW Multinomial Naive-Bayes model: {acc_score_bow}\")\n",
    "print(f\"F1 Score on Category 5 for hyper-optimized TF-IDF Multinomial Naive-Bayes model: {f1_score_tfidf}\")\n",
    "print(f\"Accuracy Score on Category 5 for hyper-optimized TF-IDF Multinomial Naive-Bayes model: {acc_score_tfidf}\")"
   ]
  },
  {
   "cell_type": "code",
   "execution_count": 54,
   "metadata": {},
   "outputs": [
    {
     "name": "stdout",
     "output_type": "stream",
     "text": [
      "F1 Score on Category 6 for hyper-optimized BoW Multinomial Naive-Bayes model: 0.6966951844085102\n",
      "Accuracy Score on Category 6 for hyper-optimized BoW Multinomial Naive-Bayes model: 0.7415368081676518\n",
      "F1 Score on Category 6 for hyper-optimized TF-IDF Multinomial Naive-Bayes model: 0.7191266193277633\n",
      "Accuracy Score on Category 6 for hyper-optimized TF-IDF Multinomial Naive-Bayes model: 0.753895754970446\n"
     ]
    }
   ],
   "source": [
    "# category 6\n",
    "paraphrased_test_df = pd.read_json('paraphrased.jsonl', lines=True)\n",
    "paraphrased_test_df = paraphrased_test_df[['string', 'label']]\n",
    "X_test6_bow = cv.transform(paraphrased_test_df['string'])\n",
    "X_test6_tfidf = vectorizer.transform(paraphrased_test_df['string'])\n",
    "y_test6 = paraphrased_test_df['label']\n",
    "y_pred_bow = model_bow.predict(X_test6_bow)\n",
    "f1_score_bow = f1_score(y_test6, y_pred_bow, average='macro')\n",
    "acc_score_bow = accuracy_score(y_test6, y_pred_bow)\n",
    "\n",
    "y_pred_tfidf = model_tfidf.predict(X_test6_tfidf)\n",
    "f1_score_tfidf = f1_score(y_test6, y_pred_tfidf, average='macro')\n",
    "acc_score_tfidf = accuracy_score(y_test6, y_pred_tfidf)\n",
    "print(f\"F1 Score on Category 6 for hyper-optimized BoW Multinomial Naive-Bayes model: {f1_score_bow}\")\n",
    "print(f\"Accuracy Score on Category 6 for hyper-optimized BoW Multinomial Naive-Bayes model: {acc_score_bow}\")\n",
    "print(f\"F1 Score on Category 6 for hyper-optimized TF-IDF Multinomial Naive-Bayes model: {f1_score_tfidf}\")\n",
    "print(f\"Accuracy Score on Category 6 for hyper-optimized TF-IDF Multinomial Naive-Bayes model: {acc_score_tfidf}\")"
   ]
  },
  {
   "cell_type": "markdown",
   "metadata": {},
   "source": [
    "#### Logistic Regression"
   ]
  },
  {
   "cell_type": "code",
   "execution_count": 55,
   "metadata": {},
   "outputs": [],
   "source": [
    "from sklearn.linear_model import LogisticRegression"
   ]
  },
  {
   "cell_type": "code",
   "execution_count": 56,
   "metadata": {},
   "outputs": [],
   "source": [
    "logreg = LogisticRegression(max_iter=1000)\n",
    "\n",
    "param_grid = {\n",
    "    'C': [0.1, 1, 10], \n",
    "    'penalty': ['l1', 'l2','none'],\n",
    "    'solver': ['liblinear', 'saga','sag']\n",
    "}"
   ]
  },
  {
   "cell_type": "code",
   "execution_count": 57,
   "metadata": {},
   "outputs": [],
   "source": [
    "f1_macro_scorer = make_scorer(f1_score, average='macro')\n",
    "bow_grid = GridSearchCV(logreg, param_grid, cv=5, scoring=f1_macro_scorer, n_jobs=-1)\n",
    "tfidf_grid = GridSearchCV(logreg, param_grid, cv=5, scoring=f1_macro_scorer, n_jobs=-1)"
   ]
  },
  {
   "cell_type": "code",
   "execution_count": 58,
   "metadata": {},
   "outputs": [
    {
     "name": "stderr",
     "output_type": "stream",
     "text": [
      "/opt/anaconda3/lib/python3.8/site-packages/sklearn/model_selection/_validation.py:378: FitFailedWarning: \n",
      "30 fits failed out of a total of 135.\n",
      "The score on these train-test partitions for these parameters will be set to nan.\n",
      "If these failures are not expected, you can try to debug them by setting error_score='raise'.\n",
      "\n",
      "Below are more details about the failures:\n",
      "--------------------------------------------------------------------------------\n",
      "15 fits failed with the following error:\n",
      "Traceback (most recent call last):\n",
      "  File \"/opt/anaconda3/lib/python3.8/site-packages/sklearn/model_selection/_validation.py\", line 686, in _fit_and_score\n",
      "    estimator.fit(X_train, y_train, **fit_params)\n",
      "  File \"/opt/anaconda3/lib/python3.8/site-packages/sklearn/linear_model/_logistic.py\", line 1162, in fit\n",
      "    solver = _check_solver(self.solver, self.penalty, self.dual)\n",
      "  File \"/opt/anaconda3/lib/python3.8/site-packages/sklearn/linear_model/_logistic.py\", line 54, in _check_solver\n",
      "    raise ValueError(\n",
      "ValueError: Solver sag supports only 'l2' or 'none' penalties, got l1 penalty.\n",
      "\n",
      "--------------------------------------------------------------------------------\n",
      "15 fits failed with the following error:\n",
      "Traceback (most recent call last):\n",
      "  File \"/opt/anaconda3/lib/python3.8/site-packages/sklearn/model_selection/_validation.py\", line 686, in _fit_and_score\n",
      "    estimator.fit(X_train, y_train, **fit_params)\n",
      "  File \"/opt/anaconda3/lib/python3.8/site-packages/sklearn/linear_model/_logistic.py\", line 1162, in fit\n",
      "    solver = _check_solver(self.solver, self.penalty, self.dual)\n",
      "  File \"/opt/anaconda3/lib/python3.8/site-packages/sklearn/linear_model/_logistic.py\", line 71, in _check_solver\n",
      "    raise ValueError(\"penalty='none' is not supported for the liblinear solver\")\n",
      "ValueError: penalty='none' is not supported for the liblinear solver\n",
      "\n",
      "  warnings.warn(some_fits_failed_message, FitFailedWarning)\n",
      "/opt/anaconda3/lib/python3.8/site-packages/sklearn/model_selection/_search.py:952: UserWarning: One or more of the test scores are non-finite: [0.73965243 0.74235926        nan 0.76380963 0.76954549 0.76885625\n",
      "        nan 0.75414916 0.75289207 0.76915886 0.76889859        nan\n",
      " 0.77083428 0.76616507 0.76753724        nan 0.75378719 0.7524068\n",
      " 0.76386661 0.75936747        nan 0.76568269 0.75674339 0.75813449\n",
      "        nan 0.75405589 0.7525433 ]\n",
      "  warnings.warn(\n",
      "/opt/anaconda3/lib/python3.8/site-packages/sklearn/model_selection/_validation.py:378: FitFailedWarning: \n",
      "30 fits failed out of a total of 135.\n",
      "The score on these train-test partitions for these parameters will be set to nan.\n",
      "If these failures are not expected, you can try to debug them by setting error_score='raise'.\n",
      "\n",
      "Below are more details about the failures:\n",
      "--------------------------------------------------------------------------------\n",
      "15 fits failed with the following error:\n",
      "Traceback (most recent call last):\n",
      "  File \"/opt/anaconda3/lib/python3.8/site-packages/sklearn/model_selection/_validation.py\", line 686, in _fit_and_score\n",
      "    estimator.fit(X_train, y_train, **fit_params)\n",
      "  File \"/opt/anaconda3/lib/python3.8/site-packages/sklearn/linear_model/_logistic.py\", line 1162, in fit\n",
      "    solver = _check_solver(self.solver, self.penalty, self.dual)\n",
      "  File \"/opt/anaconda3/lib/python3.8/site-packages/sklearn/linear_model/_logistic.py\", line 54, in _check_solver\n",
      "    raise ValueError(\n",
      "ValueError: Solver sag supports only 'l2' or 'none' penalties, got l1 penalty.\n",
      "\n",
      "--------------------------------------------------------------------------------\n",
      "15 fits failed with the following error:\n",
      "Traceback (most recent call last):\n",
      "  File \"/opt/anaconda3/lib/python3.8/site-packages/sklearn/model_selection/_validation.py\", line 686, in _fit_and_score\n",
      "    estimator.fit(X_train, y_train, **fit_params)\n",
      "  File \"/opt/anaconda3/lib/python3.8/site-packages/sklearn/linear_model/_logistic.py\", line 1162, in fit\n",
      "    solver = _check_solver(self.solver, self.penalty, self.dual)\n",
      "  File \"/opt/anaconda3/lib/python3.8/site-packages/sklearn/linear_model/_logistic.py\", line 71, in _check_solver\n",
      "    raise ValueError(\"penalty='none' is not supported for the liblinear solver\")\n",
      "ValueError: penalty='none' is not supported for the liblinear solver\n",
      "\n",
      "  warnings.warn(some_fits_failed_message, FitFailedWarning)\n",
      "/opt/anaconda3/lib/python3.8/site-packages/sklearn/model_selection/_search.py:952: UserWarning: One or more of the test scores are non-finite: [0.6194669  0.6266636         nan 0.32774116 0.4557111  0.45519068\n",
      "        nan 0.75256026 0.75122384 0.75492085 0.75639238        nan\n",
      " 0.72591811 0.74765823 0.74711896        nan 0.75292485 0.75181597\n",
      " 0.76754869 0.76484391        nan 0.77280772 0.76817272 0.76798064\n",
      "        nan 0.75132992 0.74864124]\n",
      "  warnings.warn(\n"
     ]
    }
   ],
   "source": [
    "bow_grid.fit(X_train_bow, y_train)\n",
    "model_bow = bow_grid.best_estimator_\n",
    "\n",
    "tfidf_grid.fit(X_train_tfidf, y_train)\n",
    "model_tfidf = tfidf_grid.best_estimator_"
   ]
  },
  {
   "cell_type": "code",
   "execution_count": 59,
   "metadata": {},
   "outputs": [],
   "source": [
    "y_pred_bow = model_bow.predict(X_test_bow)\n",
    "f1_score_bow = f1_score(y_test, y_pred_bow, average='macro')\n",
    "acc_score_bow = accuracy_score(y_test, y_pred_bow)\n",
    "\n",
    "y_pred_tfidf = model_tfidf.predict(X_test_tfidf)\n",
    "f1_score_tfidf = f1_score(y_test, y_pred_tfidf, average='macro')\n",
    "acc_score_tfidf = accuracy_score(y_test, y_pred_tfidf)"
   ]
  },
  {
   "cell_type": "code",
   "execution_count": 60,
   "metadata": {},
   "outputs": [
    {
     "data": {
      "text/html": [
       "<div>\n",
       "<style scoped>\n",
       "    .dataframe tbody tr th:only-of-type {\n",
       "        vertical-align: middle;\n",
       "    }\n",
       "\n",
       "    .dataframe tbody tr th {\n",
       "        vertical-align: top;\n",
       "    }\n",
       "\n",
       "    .dataframe thead th {\n",
       "        text-align: right;\n",
       "    }\n",
       "</style>\n",
       "<table border=\"1\" class=\"dataframe\">\n",
       "  <thead>\n",
       "    <tr style=\"text-align: right;\">\n",
       "      <th></th>\n",
       "      <th>Model</th>\n",
       "      <th>Accuracy</th>\n",
       "      <th>F1</th>\n",
       "    </tr>\n",
       "  </thead>\n",
       "  <tbody>\n",
       "    <tr>\n",
       "      <th>0</th>\n",
       "      <td>LR x BOW</td>\n",
       "      <td>0.777002</td>\n",
       "      <td>0.747259</td>\n",
       "    </tr>\n",
       "    <tr>\n",
       "      <th>1</th>\n",
       "      <td>LR x TFIDF</td>\n",
       "      <td>0.775390</td>\n",
       "      <td>0.749791</td>\n",
       "    </tr>\n",
       "  </tbody>\n",
       "</table>\n",
       "</div>"
      ],
      "text/plain": [
       "        Model  Accuracy        F1\n",
       "0    LR x BOW  0.777002  0.747259\n",
       "1  LR x TFIDF  0.775390  0.749791"
      ]
     },
     "execution_count": 60,
     "metadata": {},
     "output_type": "execute_result"
    }
   ],
   "source": [
    "list1 = [\"LR x BOW\", acc_score_bow, f1_score_bow]\n",
    "list2 = [\"LR x TFIDF\", acc_score_tfidf, f1_score_tfidf]\n",
    "\n",
    "df = pd.DataFrame([list1, list2], columns=['Model','Accuracy', 'F1'])\n",
    "df"
   ]
  },
  {
   "cell_type": "code",
   "execution_count": 63,
   "metadata": {},
   "outputs": [
    {
     "name": "stdout",
     "output_type": "stream",
     "text": [
      "F1 Score on Category 1 for hyper-optimized BoW LR model: 0.7836713621948522\n",
      "Accuracy Score on Category 1 for hyper-optimized BoW LR model: 0.8053435114503816\n",
      "F1 Score on Category 1 for hyper-optimized TF-IDF LR model: 0.7712119855552572\n",
      "Accuracy Score on Category 1 for hyper-optimized TF-IDF LR model: 0.7938931297709924\n"
     ]
    }
   ],
   "source": [
    "# category 1\n",
    "short_df = test_df[test_df['string'].apply(lambda x: len(nltk.word_tokenize(x)) <= 25)]\n",
    "X_test1_bow = cv.transform(short_df['string'])\n",
    "X_test1_tfidf = vectorizer.transform(short_df['string'])\n",
    "y_test1 = short_df['label']\n",
    "y_pred_bow = model_bow.predict(X_test1_bow)\n",
    "f1_score_bow = f1_score(y_test1, y_pred_bow, average='macro')\n",
    "acc_score_bow = accuracy_score(y_test1, y_pred_bow)\n",
    "\n",
    "y_pred_tfidf = model_tfidf.predict(X_test1_tfidf)\n",
    "f1_score_tfidf = f1_score(y_test1, y_pred_tfidf, average='macro')\n",
    "acc_score_tfidf = accuracy_score(y_test1, y_pred_tfidf)\n",
    "print(f\"F1 Score on Category 1 for hyper-optimized BoW LR model: {f1_score_bow}\")\n",
    "print(f\"Accuracy Score on Category 1 for hyper-optimized BoW LR model: {acc_score_bow}\")\n",
    "print(f\"F1 Score on Category 1 for hyper-optimized TF-IDF LR model: {f1_score_tfidf}\")\n",
    "print(f\"Accuracy Score on Category 1 for hyper-optimized TF-IDF LR model: {acc_score_tfidf}\")"
   ]
  },
  {
   "cell_type": "code",
   "execution_count": 62,
   "metadata": {},
   "outputs": [
    {
     "name": "stdout",
     "output_type": "stream",
     "text": [
      "F1 Score on Category 2 for hyper-optimized BoW LR model: 0.7416599987247778\n",
      "Accuracy Score on Category 2 for hyper-optimized BoW LR model: 0.7723577235772358\n",
      "F1 Score on Category 2 for hyper-optimized TF-IDF LR model: 0.7463055914827872\n",
      "Accuracy Score on Category 2 for hyper-optimized TF-IDF LR model: 0.7723577235772358\n"
     ]
    }
   ],
   "source": [
    "# category 2\n",
    "long_df = test_df[test_df['string'].apply(lambda x: len(nltk.word_tokenize(x)) > 25)]\n",
    "X_test2_bow = cv.transform(long_df['string'])\n",
    "X_test2_tfidf = vectorizer.transform(long_df['string'])\n",
    "y_test2 = long_df['label']\n",
    "y_pred_bow = model_bow.predict(X_test2_bow)\n",
    "f1_score_bow = f1_score(y_test2, y_pred_bow, average='macro')\n",
    "acc_score_bow = accuracy_score(y_test2, y_pred_bow)\n",
    "\n",
    "y_pred_tfidf = model_tfidf.predict(X_test2_tfidf)\n",
    "f1_score_tfidf = f1_score(y_test2, y_pred_tfidf, average='macro')\n",
    "acc_score_tfidf = accuracy_score(y_test2, y_pred_tfidf)\n",
    "print(f\"F1 Score on Category 2 for hyper-optimized BoW LR model: {f1_score_bow}\")\n",
    "print(f\"Accuracy Score on Category 2 for hyper-optimized BoW LR model: {acc_score_bow}\")\n",
    "print(f\"F1 Score on Category 2 for hyper-optimized TF-IDF LR model: {f1_score_tfidf}\")\n",
    "print(f\"Accuracy Score on Category 2 for hyper-optimized TF-IDF LR model: {acc_score_tfidf}\")"
   ]
  },
  {
   "cell_type": "code",
   "execution_count": 65,
   "metadata": {},
   "outputs": [
    {
     "name": "stdout",
     "output_type": "stream",
     "text": [
      "F1 Score on Category 3 for hyper-optimized BoW LR model: 0.779450397097456\n",
      "Accuracy Score on Category 3 for hyper-optimized BoW LR model: 0.801452784503632\n",
      "F1 Score on Category 3 for hyper-optimized TF-IDF LR model: 0.7661167919620907\n",
      "Accuracy Score on Category 3 for hyper-optimized TF-IDF LR model: 0.7869249394673123\n"
     ]
    }
   ],
   "source": [
    "# category 3\n",
    "paragraph_df = test_df[test_df['string'].apply(lambda x: len(nltk.sent_tokenize(x)) > 1)]\n",
    "X_test3_bow = cv.transform(paragraph_df['string'])\n",
    "X_test3_tfidf = vectorizer.transform(paragraph_df['string'])\n",
    "y_test3 = paragraph_df['label']\n",
    "y_pred_bow = model_bow.predict(X_test3_bow)\n",
    "f1_score_bow = f1_score(y_test3, y_pred_bow, average='macro')\n",
    "acc_score_bow = accuracy_score(y_test3, y_pred_bow)\n",
    "\n",
    "y_pred_tfidf = model_tfidf.predict(X_test3_tfidf)\n",
    "f1_score_tfidf = f1_score(y_test3, y_pred_tfidf, average='macro')\n",
    "acc_score_tfidf = accuracy_score(y_test3, y_pred_tfidf)\n",
    "print(f\"F1 Score on Category 3 for hyper-optimized BoW LR model: {f1_score_bow}\")\n",
    "print(f\"Accuracy Score on Category 3 for hyper-optimized BoW LR model: {acc_score_bow}\")\n",
    "print(f\"F1 Score on Category 3 for hyper-optimized TF-IDF LR model: {f1_score_tfidf}\")\n",
    "print(f\"Accuracy Score on Category 3 for hyper-optimized TF-IDF LR model: {acc_score_tfidf}\")"
   ]
  },
  {
   "cell_type": "code",
   "execution_count": 67,
   "metadata": {},
   "outputs": [
    {
     "name": "stdout",
     "output_type": "stream",
     "text": [
      "F1 Score on Category 4 for hyper-optimized BoW LR model: 0.7171577760862927\n",
      "Accuracy Score on Category 4 for hyper-optimized BoW LR model: 0.7522837184309511\n",
      "F1 Score on Category 4 for hyper-optimized TF-IDF LR model: 0.7252373419658843\n",
      "Accuracy Score on Category 4 for hyper-optimized TF-IDF LR model: 0.7565824825362708\n"
     ]
    }
   ],
   "source": [
    "# category 4\n",
    "def rearrange_letter(word):\n",
    "    word_list = list(word)\n",
    "    n = len(word_list)\n",
    "    if n == 1:\n",
    "        return ''.join(word_list)\n",
    "    \n",
    "    idx = random.randint(0, n - 2)\n",
    "    word_list[idx], word_list[idx + 1] = word_list[idx + 1], word_list[idx]\n",
    "    return ''.join(word_list)\n",
    "\n",
    "def rearrange_word(text):\n",
    "    words = nltk.word_tokenize(text)\n",
    "    num_words = len(words)\n",
    "\n",
    "    # rearrange letter for some random word\n",
    "    for _ in range(5):\n",
    "        idx = random.randint(0, num_words - 1)\n",
    "        words[idx] = rearrange_letter(words[idx])\n",
    "    \n",
    "    # rearrange word\n",
    "    for _ in range(min(3, num_words - 1)):\n",
    "        idx = random.randint(0, num_words - 2)\n",
    "        words[idx], words[idx + 1] = words[idx + 1], words[idx]\n",
    "\n",
    "    return ' '.join(words)\n",
    "\n",
    "typo_series = test_df['string'].apply(rearrange_word)\n",
    "\n",
    "typo_df = pd.DataFrame({\n",
    "    'label': test_df.label,\n",
    "    'string': typo_series\n",
    "})\n",
    "\n",
    "\n",
    "X_test4_bow = cv.transform(typo_df['string'])\n",
    "X_test4_tfidf = vectorizer.transform(typo_df['string'])\n",
    "y_test4 = typo_df['label']\n",
    "y_pred_bow = model_bow.predict(X_test4_bow)\n",
    "f1_score_bow = f1_score(y_test4, y_pred_bow, average='macro')\n",
    "acc_score_bow = accuracy_score(y_test4, y_pred_bow)\n",
    "\n",
    "y_pred_tfidf = model_tfidf.predict(X_test4_tfidf)\n",
    "f1_score_tfidf = f1_score(y_test4, y_pred_tfidf, average='macro')\n",
    "acc_score_tfidf = accuracy_score(y_test4, y_pred_tfidf)\n",
    "print(f\"F1 Score on Category 4 for hyper-optimized BoW LR model: {f1_score_bow}\")\n",
    "print(f\"Accuracy Score on Category 4 for hyper-optimized BoW LR model: {acc_score_bow}\")\n",
    "print(f\"F1 Score on Category 4 for hyper-optimized TF-IDF LR model: {f1_score_tfidf}\")\n",
    "print(f\"Accuracy Score on Category 4 for hyper-optimized TF-IDF LR model: {acc_score_tfidf}\")"
   ]
  },
  {
   "cell_type": "code",
   "execution_count": 68,
   "metadata": {},
   "outputs": [
    {
     "name": "stdout",
     "output_type": "stream",
     "text": [
      "F1 Score on Category 5 for hyper-optimized BoW LR model: 0.546107527399177\n",
      "Accuracy Score on Category 5 for hyper-optimized BoW LR model: 0.6646963997850618\n",
      "F1 Score on Category 5 for hyper-optimized TF-IDF LR model: 0.5502410169196551\n",
      "Accuracy Score on Category 5 for hyper-optimized TF-IDF LR model: 0.6695325094035465\n"
     ]
    }
   ],
   "source": [
    "# category 5\n",
    "synonymized_test_df = pd.read_json('synonymized.jsonl', lines=True)\n",
    "synonymized_test_df = synonymized_test_df[['string', 'label']]\n",
    "X_test5_bow = cv.transform(synonymized_test_df['string'])\n",
    "X_test5_tfidf = vectorizer.transform(synonymized_test_df['string'])\n",
    "y_test5 = synonymized_test_df['label']\n",
    "y_pred_bow = model_bow.predict(X_test5_bow)\n",
    "f1_score_bow = f1_score(y_test5, y_pred_bow, average='macro')\n",
    "acc_score_bow = accuracy_score(y_test5, y_pred_bow)\n",
    "\n",
    "y_pred_tfidf = model_tfidf.predict(X_test5_tfidf)\n",
    "f1_score_tfidf = f1_score(y_test5, y_pred_tfidf, average='macro')\n",
    "acc_score_tfidf = accuracy_score(y_test5, y_pred_tfidf)\n",
    "print(f\"F1 Score on Category 5 for hyper-optimized BoW LR model: {f1_score_bow}\")\n",
    "print(f\"Accuracy Score on Category 5 for hyper-optimized BoW LR model: {acc_score_bow}\")\n",
    "print(f\"F1 Score on Category 5 for hyper-optimized TF-IDF LR model: {f1_score_tfidf}\")\n",
    "print(f\"Accuracy Score on Category 5 for hyper-optimized TF-IDF LR model: {acc_score_tfidf}\")"
   ]
  },
  {
   "cell_type": "code",
   "execution_count": 69,
   "metadata": {},
   "outputs": [
    {
     "name": "stdout",
     "output_type": "stream",
     "text": [
      "F1 Score on Category 6 for hyper-optimized BoW LR model: 0.7289224201731997\n",
      "Accuracy Score on Category 6 for hyper-optimized BoW LR model: 0.7603439011284255\n",
      "F1 Score on Category 6 for hyper-optimized TF-IDF LR model: 0.7321209819086806\n",
      "Accuracy Score on Category 6 for hyper-optimized TF-IDF LR model: 0.7603439011284255\n"
     ]
    }
   ],
   "source": [
    "# category 6\n",
    "paraphrased_test_df = pd.read_json('paraphrased.jsonl', lines=True)\n",
    "paraphrased_test_df = paraphrased_test_df[['string', 'label']]\n",
    "X_test6_bow = cv.transform(paraphrased_test_df['string'])\n",
    "X_test6_tfidf = vectorizer.transform(paraphrased_test_df['string'])\n",
    "y_test6 = paraphrased_test_df['label']\n",
    "y_pred_bow = model_bow.predict(X_test6_bow)\n",
    "f1_score_bow = f1_score(y_test6, y_pred_bow, average='macro')\n",
    "acc_score_bow = accuracy_score(y_test6, y_pred_bow)\n",
    "\n",
    "y_pred_tfidf = model_tfidf.predict(X_test6_tfidf)\n",
    "f1_score_tfidf = f1_score(y_test6, y_pred_tfidf, average='macro')\n",
    "acc_score_tfidf = accuracy_score(y_test6, y_pred_tfidf)\n",
    "print(f\"F1 Score on Category 6 for hyper-optimized BoW LR model: {f1_score_bow}\")\n",
    "print(f\"Accuracy Score on Category 6 for hyper-optimized BoW LR model: {acc_score_bow}\")\n",
    "print(f\"F1 Score on Category 6 for hyper-optimized TF-IDF LR model: {f1_score_tfidf}\")\n",
    "print(f\"Accuracy Score on Category 6 for hyper-optimized TF-IDF LR model: {acc_score_tfidf}\")"
   ]
  },
  {
   "cell_type": "code",
   "execution_count": null,
   "metadata": {},
   "outputs": [],
   "source": []
  }
 ],
 "metadata": {
  "kernelspec": {
   "display_name": "Python 3",
   "language": "python",
   "name": "python3"
  },
  "language_info": {
   "codemirror_mode": {
    "name": "ipython",
    "version": 3
   },
   "file_extension": ".py",
   "mimetype": "text/x-python",
   "name": "python",
   "nbconvert_exporter": "python",
   "pygments_lexer": "ipython3",
   "version": "3.8.5"
  }
 },
 "nbformat": 4,
 "nbformat_minor": 4
}
